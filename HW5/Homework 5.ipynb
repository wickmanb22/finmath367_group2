{
 "cells": [
  {
   "cell_type": "markdown",
   "metadata": {},
   "source": [
    "# Homework 5\n",
    "\n",
    "## FINM 36700 - 2024\n",
    "\n",
    "### UChicago Financial Mathematics\n",
    "\n",
    "* Mark Hendricks\n",
    "* hendricks@uchicago.edu"
   ]
  },
  {
   "cell_type": "markdown",
   "metadata": {},
   "source": [
    "***"
   ]
  },
  {
   "cell_type": "markdown",
   "metadata": {},
   "source": [
    "# Section 1: Harvard Case\n",
    "\n",
    "*This section will not be graded, but it will be discussed in class.*\n",
    "\n",
    "**Smart Beta Exchange-Traded-Funds and Factor Investing**.\n",
    "\n",
    "* The case is a good introduction to important pricing factors.\n",
    "* It also gives useful introduction and context to ETFs, passive vs active investing, and so-called “smart beta” funds."
   ]
  },
  {
   "cell_type": "markdown",
   "metadata": {},
   "source": [
    "1. Describe how each of the factors (other than MKT) is measured.1That is, each factor is a portfolio of stocks–which stocks are included in the factor portfolio?\n",
    "\n",
    "2. Is the factor portfolio...\n",
    "* long-only\n",
    "* long-short\n",
    "* value-weighted\n",
    "* equally-weighted\n",
    "\n",
    "4. What steps are taken in the factor construction to try to reduce the correlation between the factors?\n",
    "5. What is the point of figures 1-6?\n",
    "6. How is a “smart beta” ETF different from a traditional ETF?\n",
    "7. Is it possible for all investors to have exposure to the “value” factor?\n",
    "8. How does factor investing differ from traditional diversification?\n",
    "\n",
    "\n",
    "If you need more info in how these factor portfolios are created, see Ken French’s website, and the follow- details: \n",
    "\n",
    "https://mba.tuck.dartmouth.edu/pages/faculty/ken.french/Data_Library/f-f_5_factors_2x3.html\n",
    "\n",
    "https://mba.tuck.dartmouth.edu/pages/faculty/ken.french/Data_Library/det_mom_factor.html"
   ]
  },
  {
   "cell_type": "markdown",
   "metadata": {},
   "source": [
    "***"
   ]
  },
  {
   "cell_type": "markdown",
   "metadata": {},
   "source": [
    "# 2. The Factors\n",
    "\n",
    "Use the data found in `factor_pricing_data.xlsx`.\n",
    "\n",
    "* FACTORS: Monthly excess return data for the overall equity market, $\\tilde{r}^{\\text{MKT}}$.\n",
    "* The column header to the market factor is `MKT` rather than `MKT-RF`, but it is indeed already in excess return form.\n",
    "* The sheet also contains data on five additional factors.\n",
    "* All factor data is already provided as excess returns"
   ]
  },
  {
   "cell_type": "markdown",
   "metadata": {},
   "source": [
    "1. Analyze the factors, similar to how you analyzed the three Fama-French factors in Homework 4.\n",
    "You now have three additional factors, so let’s compare there univariate statistics. • mean\n",
    "• volatility\n",
    "• Sharpe\n",
    "\n",
    "2. Based on the factor statistics above, answer the following.\n",
    "(a) Does each factor have a positive risk premium (positive expected excess return)? (b) How have the factors performed since the time of the case, (2015-present)?\n",
    "\n",
    "3. Report the correlation matrix across the six factors.\n",
    "* Does the construction method succeed in keeping correlations small?\n",
    "* Fama and French say that HML is somewhat redundant in their 5-factor model. Does this seem to be the case?\n",
    "\n",
    "4. Report the tangency weights for a portfolio of these 6 factors.\n",
    "* Which factors seem most important? And Least?\n",
    "* Are the factors with low mean returns still useful?\n",
    "* Re-do the tangency portfolio, but this time only include MKT, SMB, HML, and UMD. Which factors get high/low tangency weights now?\n",
    "\n",
    "What do you conclude about the importance or unimportance of these styles?"
   ]
  },
  {
   "cell_type": "markdown",
   "metadata": {},
   "source": [
    "* Part 1"
   ]
  },
  {
   "cell_type": "code",
   "execution_count": 16,
   "metadata": {},
   "outputs": [],
   "source": [
    "import pandas as pd\n",
    "import numpy as np\n",
    "\n",
    "factors_excess_returns = pd.read_excel('factor_pricing_data.xlsx', sheet_name = 'factors (excess returns)').set_index('Date')\n",
    "portfolio_excess_returns = pd.read_excel('factor_pricing_data.xlsx', sheet_name = 'portfolios (excess returns)').set_index('Date')\n",
    "risk_free_rate = pd.read_excel('factor_pricing_data.xlsx', sheet_name = 'risk-free rate').set_index('Date')"
   ]
  },
  {
   "cell_type": "code",
   "execution_count": 17,
   "metadata": {},
   "outputs": [],
   "source": [
    "def performance_summary(df):\n",
    "    mean_lst = []\n",
    "    vol_lst = []\n",
    "    sharpe_lst = []\n",
    "    for factor in df.columns:\n",
    "        factor_mean = df[factor].mean() \n",
    "        factor_vol = df[factor].std() \n",
    "        factor_sharpe = factor_mean / factor_vol * np.sqrt(12)\n",
    "\n",
    "        mean_lst.append(factor_mean * 12)\n",
    "        vol_lst.append(factor_vol * np.sqrt(12))\n",
    "        sharpe_lst.append(factor_sharpe * np.sqrt(12))\n",
    "    \n",
    "    return mean_lst, vol_lst, sharpe_lst "
   ]
  },
  {
   "cell_type": "code",
   "execution_count": 18,
   "metadata": {},
   "outputs": [
    {
     "data": {
      "text/html": [
       "<div>\n",
       "<style scoped>\n",
       "    .dataframe tbody tr th:only-of-type {\n",
       "        vertical-align: middle;\n",
       "    }\n",
       "\n",
       "    .dataframe tbody tr th {\n",
       "        vertical-align: top;\n",
       "    }\n",
       "\n",
       "    .dataframe thead th {\n",
       "        text-align: right;\n",
       "    }\n",
       "</style>\n",
       "<table border=\"1\" class=\"dataframe\">\n",
       "  <thead>\n",
       "    <tr style=\"text-align: right;\">\n",
       "      <th></th>\n",
       "      <th>Mean</th>\n",
       "      <th>Volatility</th>\n",
       "      <th>Sharpe Ratio</th>\n",
       "    </tr>\n",
       "    <tr>\n",
       "      <th>Factors</th>\n",
       "      <th></th>\n",
       "      <th></th>\n",
       "      <th></th>\n",
       "    </tr>\n",
       "  </thead>\n",
       "  <tbody>\n",
       "    <tr>\n",
       "      <th>MKT</th>\n",
       "      <td>0.086277</td>\n",
       "      <td>0.156904</td>\n",
       "      <td>1.904811</td>\n",
       "    </tr>\n",
       "    <tr>\n",
       "      <th>SMB</th>\n",
       "      <td>0.008319</td>\n",
       "      <td>0.101873</td>\n",
       "      <td>0.282895</td>\n",
       "    </tr>\n",
       "    <tr>\n",
       "      <th>HML</th>\n",
       "      <td>0.025809</td>\n",
       "      <td>0.109999</td>\n",
       "      <td>0.812780</td>\n",
       "    </tr>\n",
       "    <tr>\n",
       "      <th>RMW</th>\n",
       "      <td>0.047096</td>\n",
       "      <td>0.083213</td>\n",
       "      <td>1.960550</td>\n",
       "    </tr>\n",
       "    <tr>\n",
       "      <th>CMA</th>\n",
       "      <td>0.029537</td>\n",
       "      <td>0.073084</td>\n",
       "      <td>1.400008</td>\n",
       "    </tr>\n",
       "    <tr>\n",
       "      <th>UMD</th>\n",
       "      <td>0.062709</td>\n",
       "      <td>0.154564</td>\n",
       "      <td>1.405435</td>\n",
       "    </tr>\n",
       "  </tbody>\n",
       "</table>\n",
       "</div>"
      ],
      "text/plain": [
       "             Mean  Volatility  Sharpe Ratio\n",
       "Factors                                    \n",
       "MKT      0.086277    0.156904      1.904811\n",
       "SMB      0.008319    0.101873      0.282895\n",
       "HML      0.025809    0.109999      0.812780\n",
       "RMW      0.047096    0.083213      1.960550\n",
       "CMA      0.029537    0.073084      1.400008\n",
       "UMD      0.062709    0.154564      1.405435"
      ]
     },
     "execution_count": 18,
     "metadata": {},
     "output_type": "execute_result"
    }
   ],
   "source": [
    "total_mean_lst, total_vol_lst, total_sharpe_lst = performance_summary(factors_excess_returns)\n",
    "factors_univariate_performance = pd.DataFrame({\"Factors\":factors_excess_returns.columns,\"Mean\":total_mean_lst,\"Volatility\":total_vol_lst,\"Sharpe Ratio\":total_sharpe_lst})\n",
    "factors_univariate_performance.set_index('Factors')"
   ]
  },
  {
   "cell_type": "markdown",
   "metadata": {},
   "source": [
    "* Part 2"
   ]
  },
  {
   "cell_type": "markdown",
   "metadata": {},
   "source": [
    "Yes, each factor has positive expected excess return when analyzing them univariately."
   ]
  },
  {
   "cell_type": "code",
   "execution_count": 19,
   "metadata": {},
   "outputs": [
    {
     "data": {
      "text/html": [
       "<div>\n",
       "<style scoped>\n",
       "    .dataframe tbody tr th:only-of-type {\n",
       "        vertical-align: middle;\n",
       "    }\n",
       "\n",
       "    .dataframe tbody tr th {\n",
       "        vertical-align: top;\n",
       "    }\n",
       "\n",
       "    .dataframe thead th {\n",
       "        text-align: right;\n",
       "    }\n",
       "</style>\n",
       "<table border=\"1\" class=\"dataframe\">\n",
       "  <thead>\n",
       "    <tr style=\"text-align: right;\">\n",
       "      <th></th>\n",
       "      <th>Mean</th>\n",
       "      <th>Volatility</th>\n",
       "      <th>Sharpe Ratio</th>\n",
       "    </tr>\n",
       "    <tr>\n",
       "      <th>Factors</th>\n",
       "      <th></th>\n",
       "      <th></th>\n",
       "      <th></th>\n",
       "    </tr>\n",
       "  </thead>\n",
       "  <tbody>\n",
       "    <tr>\n",
       "      <th>MKT</th>\n",
       "      <td>0.116586</td>\n",
       "      <td>0.160285</td>\n",
       "      <td>2.519681</td>\n",
       "    </tr>\n",
       "    <tr>\n",
       "      <th>SMB</th>\n",
       "      <td>-0.019500</td>\n",
       "      <td>0.104524</td>\n",
       "      <td>-0.646260</td>\n",
       "    </tr>\n",
       "    <tr>\n",
       "      <th>HML</th>\n",
       "      <td>-0.017855</td>\n",
       "      <td>0.132709</td>\n",
       "      <td>-0.466075</td>\n",
       "    </tr>\n",
       "    <tr>\n",
       "      <th>RMW</th>\n",
       "      <td>0.050886</td>\n",
       "      <td>0.073338</td>\n",
       "      <td>2.403607</td>\n",
       "    </tr>\n",
       "    <tr>\n",
       "      <th>CMA</th>\n",
       "      <td>-0.008410</td>\n",
       "      <td>0.083989</td>\n",
       "      <td>-0.346883</td>\n",
       "    </tr>\n",
       "    <tr>\n",
       "      <th>UMD</th>\n",
       "      <td>0.021083</td>\n",
       "      <td>0.140812</td>\n",
       "      <td>0.518654</td>\n",
       "    </tr>\n",
       "  </tbody>\n",
       "</table>\n",
       "</div>"
      ],
      "text/plain": [
       "             Mean  Volatility  Sharpe Ratio\n",
       "Factors                                    \n",
       "MKT      0.116586    0.160285      2.519681\n",
       "SMB     -0.019500    0.104524     -0.646260\n",
       "HML     -0.017855    0.132709     -0.466075\n",
       "RMW      0.050886    0.073338      2.403607\n",
       "CMA     -0.008410    0.083989     -0.346883\n",
       "UMD      0.021083    0.140812      0.518654"
      ]
     },
     "execution_count": 19,
     "metadata": {},
     "output_type": "execute_result"
    }
   ],
   "source": [
    "factors_excess_returns_recent = factors_excess_returns['2015':]\n",
    "recent_mean_lst, recent_vol_lst, recent_sharpe_lst = performance_summary(factors_excess_returns_recent)\n",
    "recent_factors_univariate_performance = pd.DataFrame({\"Factors\":factors_excess_returns.columns,\"Mean\":recent_mean_lst,\"Volatility\":recent_vol_lst,\"Sharpe Ratio\":recent_sharpe_lst})\n",
    "recent_factors_univariate_performance.set_index('Factors')"
   ]
  },
  {
   "cell_type": "markdown",
   "metadata": {},
   "source": [
    "The performances have been considerably worse since 2015 with the factors SMB, HML, and CMA having negative excess returns on average."
   ]
  },
  {
   "cell_type": "markdown",
   "metadata": {},
   "source": [
    "* Part 3"
   ]
  },
  {
   "cell_type": "code",
   "execution_count": 22,
   "metadata": {},
   "outputs": [
    {
     "data": {
      "text/plain": [
       "<Axes: >"
      ]
     },
     "execution_count": 22,
     "metadata": {},
     "output_type": "execute_result"
    },
    {
     "data": {
      "image/png": "[encoded data removed]",
      "text/plain": [
       "<Figure size 640x480 with 2 Axes>"
      ]
     },
     "metadata": {},
     "output_type": "display_data"
    }
   ],
   "source": [
    "import seaborn as sns \n",
    "\n",
    "factor_correlations = factors_excess_returns.corr()\n",
    "sns.heatmap(factor_correlations, annot=True)"
   ]
  },
  {
   "cell_type": "markdown",
   "metadata": {},
   "source": [
    "The factors have low correlation with each other. The argument that HML could be dropped most likely comes from its high correlation with CMA, as well as the fact that its Sharpe ratio has been lower than CMA's."
   ]
  },
  {
   "cell_type": "markdown",
   "metadata": {},
   "source": [
    "* Part 4"
   ]
  },
  {
   "cell_type": "code",
   "execution_count": 23,
   "metadata": {},
   "outputs": [],
   "source": [
    "# Helper Function\n",
    "\n",
    "def calc_tangency_portfolio(mean_rets, cov_matrix):\n",
    "    \"\"\"\n",
    "    NOTE: This *does not* assume access to the risk-free rate. Use\n",
    "        Mark's portfolio.py for tangency/GMV/etc. portfolios.\n",
    "\n",
    "    Function to calculate tangency portfolio weights. Comes from the\n",
    "    formula seen in class.\n",
    "\n",
    "    Args:\n",
    "        mean_rets: Vector of mean returns.\n",
    "        cov_matrix: Covariance matrix of returns.\n",
    "\n",
    "    Returns:\n",
    "        Vector of tangency portfolio weights.\n",
    "    \"\"\"\n",
    "    inv_cov = np.linalg.inv(cov_matrix)\n",
    "    ones = np.ones(mean_rets.shape)\n",
    "    return (inv_cov @ mean_rets) / (ones.T @ (inv_cov @ mean_rets))\n"
   ]
  },
  {
   "cell_type": "code",
   "execution_count": 47,
   "metadata": {},
   "outputs": [
    {
     "data": {
      "text/html": [
       "<div>\n",
       "<style scoped>\n",
       "    .dataframe tbody tr th:only-of-type {\n",
       "        vertical-align: middle;\n",
       "    }\n",
       "\n",
       "    .dataframe tbody tr th {\n",
       "        vertical-align: top;\n",
       "    }\n",
       "\n",
       "    .dataframe thead th {\n",
       "        text-align: right;\n",
       "    }\n",
       "</style>\n",
       "<table border=\"1\" class=\"dataframe\">\n",
       "  <thead>\n",
       "    <tr style=\"text-align: right;\">\n",
       "      <th></th>\n",
       "      <th>Mean</th>\n",
       "      <th>Tangency Weights</th>\n",
       "    </tr>\n",
       "    <tr>\n",
       "      <th>Factors</th>\n",
       "      <th></th>\n",
       "      <th></th>\n",
       "    </tr>\n",
       "  </thead>\n",
       "  <tbody>\n",
       "    <tr>\n",
       "      <th>MKT</th>\n",
       "      <td>0.086277</td>\n",
       "      <td>0.209760</td>\n",
       "    </tr>\n",
       "    <tr>\n",
       "      <th>SMB</th>\n",
       "      <td>0.008319</td>\n",
       "      <td>0.077337</td>\n",
       "    </tr>\n",
       "    <tr>\n",
       "      <th>HML</th>\n",
       "      <td>0.025809</td>\n",
       "      <td>-0.042142</td>\n",
       "    </tr>\n",
       "    <tr>\n",
       "      <th>RMW</th>\n",
       "      <td>0.047096</td>\n",
       "      <td>0.313263</td>\n",
       "    </tr>\n",
       "    <tr>\n",
       "      <th>CMA</th>\n",
       "      <td>0.029537</td>\n",
       "      <td>0.338982</td>\n",
       "    </tr>\n",
       "    <tr>\n",
       "      <th>UMD</th>\n",
       "      <td>0.062709</td>\n",
       "      <td>0.102798</td>\n",
       "    </tr>\n",
       "  </tbody>\n",
       "</table>\n",
       "</div>"
      ],
      "text/plain": [
       "             Mean  Tangency Weights\n",
       "Factors                            \n",
       "MKT      0.086277          0.209760\n",
       "SMB      0.008319          0.077337\n",
       "HML      0.025809         -0.042142\n",
       "RMW      0.047096          0.313263\n",
       "CMA      0.029537          0.338982\n",
       "UMD      0.062709          0.102798"
      ]
     },
     "execution_count": 47,
     "metadata": {},
     "output_type": "execute_result"
    }
   ],
   "source": [
    "factor_covariance_matrix = factors_excess_returns.cov()\n",
    "tangency_weights = calc_tangency_portfolio(np.array(total_mean_lst), factor_covariance_matrix)\n",
    "\n",
    "pd.DataFrame({\"Factors\":factors_excess_returns.columns, \"Mean\": total_mean_lst, \"Tangency Weights\":tangency_weights}).set_index('Factors')"
   ]
  },
  {
   "cell_type": "markdown",
   "metadata": {},
   "source": [
    "The factors with the highest weights are RMW and CMA. The ones with the lowest weights are HML and SMB. Yes, some of the factors with low expected excess returns have high tangency weights, such as CMA."
   ]
  },
  {
   "cell_type": "code",
   "execution_count": 49,
   "metadata": {},
   "outputs": [
    {
     "data": {
      "text/html": [
       "<div>\n",
       "<style scoped>\n",
       "    .dataframe tbody tr th:only-of-type {\n",
       "        vertical-align: middle;\n",
       "    }\n",
       "\n",
       "    .dataframe tbody tr th {\n",
       "        vertical-align: top;\n",
       "    }\n",
       "\n",
       "    .dataframe thead th {\n",
       "        text-align: right;\n",
       "    }\n",
       "</style>\n",
       "<table border=\"1\" class=\"dataframe\">\n",
       "  <thead>\n",
       "    <tr style=\"text-align: right;\">\n",
       "      <th></th>\n",
       "      <th>Mean</th>\n",
       "      <th>Tangency Weights</th>\n",
       "    </tr>\n",
       "    <tr>\n",
       "      <th>Factors</th>\n",
       "      <th></th>\n",
       "      <th></th>\n",
       "    </tr>\n",
       "  </thead>\n",
       "  <tbody>\n",
       "    <tr>\n",
       "      <th>MKT</th>\n",
       "      <td>0.086277</td>\n",
       "      <td>0.365529</td>\n",
       "    </tr>\n",
       "    <tr>\n",
       "      <th>SMB</th>\n",
       "      <td>0.008319</td>\n",
       "      <td>-0.032422</td>\n",
       "    </tr>\n",
       "    <tr>\n",
       "      <th>HML</th>\n",
       "      <td>0.025809</td>\n",
       "      <td>0.356199</td>\n",
       "    </tr>\n",
       "    <tr>\n",
       "      <th>UMD</th>\n",
       "      <td>0.062709</td>\n",
       "      <td>0.310694</td>\n",
       "    </tr>\n",
       "  </tbody>\n",
       "</table>\n",
       "</div>"
      ],
      "text/plain": [
       "             Mean  Tangency Weights\n",
       "Factors                            \n",
       "MKT      0.086277          0.365529\n",
       "SMB      0.008319         -0.032422\n",
       "HML      0.025809          0.356199\n",
       "UMD      0.062709          0.310694"
      ]
     },
     "execution_count": 49,
     "metadata": {},
     "output_type": "execute_result"
    }
   ],
   "source": [
    "adjusted_factors = factors_excess_returns[['MKT','SMB','HML','UMD']]\n",
    "adjusted_mean_lst = total_mean_lst[0:3] + [total_mean_lst[5]]\n",
    "adjusted_factor_covariance_matrix = adjusted_factors.cov()\n",
    "\n",
    "adjusted_tangency_weights = calc_tangency_portfolio(np.array(adjusted_mean_lst), adjusted_factor_covariance_matrix)\n",
    "\n",
    "pd.DataFrame({\"Factors\":adjusted_factors.columns, \"Mean\": adjusted_mean_lst, \"Tangency Weights\":adjusted_tangency_weights}).set_index('Factors')"
   ]
  },
  {
   "cell_type": "markdown",
   "metadata": {},
   "source": [
    "MKT, HML, and UMD have high weights. SMB has a low weight. SMB's consistently low weight could suggest that it is not important in the factor model. "
   ]
  },
  {
   "cell_type": "markdown",
   "metadata": {},
   "source": [
    "***"
   ]
  },
  {
   "cell_type": "markdown",
   "metadata": {},
   "source": [
    "# 3. Testing Modern LPMs\n",
    "\n",
    "Consider the following factor models:\n",
    "* CAPM: MKT\n",
    "* Fama-French 3F: MKT, SMB, HML\n",
    "* Fama-French 5F: MKT, SMB, HML, RMW, CMA\n",
    "* AQR: MKT, HML, RMW, UMD\n",
    "\n",
    "We are not saying this is “the” AQR model, but it is a good illustration of their most publicized factors: value, momentum, and more recently, profitability."
   ]
  },
  {
   "cell_type": "markdown",
   "metadata": {},
   "source": [
    "For instance, for the AQR model is..."
   ]
  },
  {
   "cell_type": "markdown",
   "metadata": {},
   "source": [
    "![](../refs/LFP-4-factors.png)"
   ]
  },
  {
   "cell_type": "markdown",
   "metadata": {},
   "source": [
    "We will test these models with the time-series regressions. Namely, for each asset i, estimate the following regression to test the AQR model:"
   ]
  },
  {
   "cell_type": "markdown",
   "metadata": {},
   "source": [
    "![](../refs/LFD-4-factors.png)"
   ]
  },
  {
   "cell_type": "markdown",
   "metadata": {},
   "source": [
    "Data\n",
    "* PORTFOLIOS: Monthly excess return data on 49 equity portfolios sorted by their industry. Denote these as $\\tilde{r}^i$ , for $n = 1, . . . , 49.$\n",
    "\n",
    "* You do NOT need the risk-free rate data. It is provided only for completeness. The other two tabs are already in terms of excess returns."
   ]
  },
  {
   "cell_type": "markdown",
   "metadata": {},
   "source": [
    "1. Test the AQR 4-Factor Model using the time-series test. (We are not doing the cross-sectional regression tests.)\n",
    "* For each regression, report the estimated α and r-squared.\n",
    "* Calculate the mean-absolute-error of the estimated alphas.\n",
    "* If the pricing model worked, should these alpha estimates be large or small? Why?\n",
    "* Based on your MAE stat, does this seem to support the pricing model or not?\n",
    "\n",
    "2. Test the CAPM, FF 3-Factor Model and the the FF 5-Factor Model.\n",
    "   * Report the MAE statistic for each of these models and compare it with the AQR Model MAE.\n",
    "   * Which model fits best?\n",
    "   \n",
    "3. Does any particular factor seem especially important or unimportant for pricing? Do you think Fama and French should use the Momentum Factor?"
   ]
  },
  {
   "cell_type": "markdown",
   "metadata": {},
   "source": [
    "4. This does not matter for pricing, but report the average (across $n$ estimations) of the time-series regression r-squared statistics.\n",
    "   * Do this for each of the three models you tested.\n",
    "   * Do these models lead to high time-series r-squared stats? That is, would these factors be good in a Linear Factor Decomposition of the assets?\n",
    "\n",
    "5. We tested three models using the time-series tests (focusing on the time-series alphas.) Re-test these models, but this time use the cross-sectional test.\n",
    "* Report the time-series premia of the factors (just their sample averages,) and compare to the cross-sectionally estimated premia of the factors. Do they differ substantially?4\n",
    "* Report the MAE of the cross-sectional regression residuals for each of the four models. How do they compare to the MAE of the time-series alphas?"
   ]
  },
  {
   "cell_type": "markdown",
   "metadata": {},
   "source": [
    "***"
   ]
  },
  {
   "cell_type": "markdown",
   "metadata": {},
   "source": [
    "* Part 1"
   ]
  },
  {
   "cell_type": "code",
   "execution_count": 60,
   "metadata": {},
   "outputs": [],
   "source": [
    "AQR_factors = factors_excess_returns[['MKT', 'SMB', 'RMW', 'UMD']]"
   ]
  },
  {
   "cell_type": "code",
   "execution_count": 93,
   "metadata": {},
   "outputs": [],
   "source": [
    "import statsmodels.api as sm\n",
    "\n",
    "def factor_regression(factors):\n",
    "    alpha_lst = []\n",
    "    r_squared_lst = []\n",
    "    p_values_lst = []\n",
    "    for portfolio in portfolio_excess_returns.columns: \n",
    "        X = sm.add_constant(factors)\n",
    "        y = portfolio_excess_returns[portfolio]\n",
    "\n",
    "        model = sm.OLS(y, X)\n",
    "        results = model.fit()\n",
    "\n",
    "        alpha_lst.append(results.params['const'])\n",
    "        r_squared_lst.append(results.rsquared)\n",
    "        p_values_lst.append(results.pvalues)\n",
    "    \n",
    "    return alpha_lst, r_squared_lst, p_values_lst"
   ]
  },
  {
   "cell_type": "code",
   "execution_count": 99,
   "metadata": {},
   "outputs": [
    {
     "data": {
      "text/html": [
       "<div>\n",
       "<style scoped>\n",
       "    .dataframe tbody tr th:only-of-type {\n",
       "        vertical-align: middle;\n",
       "    }\n",
       "\n",
       "    .dataframe tbody tr th {\n",
       "        vertical-align: top;\n",
       "    }\n",
       "\n",
       "    .dataframe thead th {\n",
       "        text-align: right;\n",
       "    }\n",
       "</style>\n",
       "<table border=\"1\" class=\"dataframe\">\n",
       "  <thead>\n",
       "    <tr style=\"text-align: right;\">\n",
       "      <th></th>\n",
       "      <th>Alpha</th>\n",
       "      <th>R_Squared</th>\n",
       "    </tr>\n",
       "    <tr>\n",
       "      <th>Portfolio</th>\n",
       "      <th></th>\n",
       "      <th></th>\n",
       "    </tr>\n",
       "  </thead>\n",
       "  <tbody>\n",
       "    <tr>\n",
       "      <th>Agric</th>\n",
       "      <td>0.000487</td>\n",
       "      <td>0.358785</td>\n",
       "    </tr>\n",
       "    <tr>\n",
       "      <th>Food</th>\n",
       "      <td>0.001293</td>\n",
       "      <td>0.450508</td>\n",
       "    </tr>\n",
       "    <tr>\n",
       "      <th>Soda</th>\n",
       "      <td>0.002054</td>\n",
       "      <td>0.299428</td>\n",
       "    </tr>\n",
       "    <tr>\n",
       "      <th>Beer</th>\n",
       "      <td>0.001740</td>\n",
       "      <td>0.423317</td>\n",
       "    </tr>\n",
       "    <tr>\n",
       "      <th>Smoke</th>\n",
       "      <td>0.003906</td>\n",
       "      <td>0.260417</td>\n",
       "    </tr>\n",
       "  </tbody>\n",
       "</table>\n",
       "</div>"
      ],
      "text/plain": [
       "              Alpha  R_Squared\n",
       "Portfolio                     \n",
       "Agric      0.000487   0.358785\n",
       "Food       0.001293   0.450508\n",
       "Soda       0.002054   0.299428\n",
       "Beer       0.001740   0.423317\n",
       "Smoke      0.003906   0.260417"
      ]
     },
     "execution_count": 99,
     "metadata": {},
     "output_type": "execute_result"
    }
   ],
   "source": [
    "AQR_alpha_lst, AQR_r_squared_lst, AQR_p_values_lst = factor_regression(AQR_factors)\n",
    "\n",
    "AQR_factors_df = pd.DataFrame({\"Portfolio\":portfolio_excess_returns.columns,\"Alpha\":AQR_alpha_lst,\"R_Squared\":AQR_r_squared_lst}).set_index(\"Portfolio\")\n",
    "AQR_factors_df.head()"
   ]
  },
  {
   "cell_type": "code",
   "execution_count": 100,
   "metadata": {},
   "outputs": [
    {
     "data": {
      "text/plain": [
       "0.0018602817198713048"
      ]
     },
     "execution_count": 100,
     "metadata": {},
     "output_type": "execute_result"
    }
   ],
   "source": [
    "# MAE\n",
    "\n",
    "AQR_mae = abs(AQR_factors_df['Alpha']).sum() / len(AQR_factors_df['Alpha'])\n",
    "AQR_mae"
   ]
  },
  {
   "cell_type": "markdown",
   "metadata": {},
   "source": [
    "If the mean pricing model is accurate, the MAE should be ~0. The MAE stat of 0.001 is pretty close to 0, thus the pricing model is supported."
   ]
  },
  {
   "cell_type": "markdown",
   "metadata": {},
   "source": [
    "* Part 2"
   ]
  },
  {
   "cell_type": "code",
   "execution_count": 101,
   "metadata": {},
   "outputs": [
    {
     "data": {
      "text/html": [
       "<div>\n",
       "<style scoped>\n",
       "    .dataframe tbody tr th:only-of-type {\n",
       "        vertical-align: middle;\n",
       "    }\n",
       "\n",
       "    .dataframe tbody tr th {\n",
       "        vertical-align: top;\n",
       "    }\n",
       "\n",
       "    .dataframe thead th {\n",
       "        text-align: right;\n",
       "    }\n",
       "</style>\n",
       "<table border=\"1\" class=\"dataframe\">\n",
       "  <thead>\n",
       "    <tr style=\"text-align: right;\">\n",
       "      <th></th>\n",
       "      <th>Alpha</th>\n",
       "      <th>R_Squared</th>\n",
       "    </tr>\n",
       "    <tr>\n",
       "      <th>Portfolio</th>\n",
       "      <th></th>\n",
       "      <th></th>\n",
       "    </tr>\n",
       "  </thead>\n",
       "  <tbody>\n",
       "    <tr>\n",
       "      <th>Agric</th>\n",
       "      <td>0.001695</td>\n",
       "      <td>0.330534</td>\n",
       "    </tr>\n",
       "    <tr>\n",
       "      <th>Food</th>\n",
       "      <td>0.003818</td>\n",
       "      <td>0.366464</td>\n",
       "    </tr>\n",
       "    <tr>\n",
       "      <th>Soda</th>\n",
       "      <td>0.003923</td>\n",
       "      <td>0.253740</td>\n",
       "    </tr>\n",
       "    <tr>\n",
       "      <th>Beer</th>\n",
       "      <td>0.004953</td>\n",
       "      <td>0.333662</td>\n",
       "    </tr>\n",
       "    <tr>\n",
       "      <th>Smoke</th>\n",
       "      <td>0.006770</td>\n",
       "      <td>0.189975</td>\n",
       "    </tr>\n",
       "  </tbody>\n",
       "</table>\n",
       "</div>"
      ],
      "text/plain": [
       "              Alpha  R_Squared\n",
       "Portfolio                     \n",
       "Agric      0.001695   0.330534\n",
       "Food       0.003818   0.366464\n",
       "Soda       0.003923   0.253740\n",
       "Beer       0.004953   0.333662\n",
       "Smoke      0.006770   0.189975"
      ]
     },
     "execution_count": 101,
     "metadata": {},
     "output_type": "execute_result"
    }
   ],
   "source": [
    "# CAPM model\n",
    "\n",
    "capm_factors = factors_excess_returns[['MKT']]\n",
    "capm_alpha_lst, capm_r_squared_lst, capm_p_values_lst = factor_regression(capm_factors)\n",
    "CAPM_factors_df = pd.DataFrame({\"Portfolio\":portfolio_excess_returns.columns,\"Alpha\":capm_alpha_lst,\"R_Squared\":capm_r_squared_lst}).set_index(\"Portfolio\")\n",
    "CAPM_factors_df.head()\n"
   ]
  },
  {
   "cell_type": "code",
   "execution_count": 102,
   "metadata": {},
   "outputs": [
    {
     "data": {
      "text/plain": [
       "0.0017001307693664564"
      ]
     },
     "execution_count": 102,
     "metadata": {},
     "output_type": "execute_result"
    }
   ],
   "source": [
    "# CAPM MAE\n",
    "\n",
    "CAPM_mae = abs(CAPM_factors_df['Alpha']).sum() / len(CAPM_factors_df['Alpha'])\n",
    "CAPM_mae"
   ]
  },
  {
   "cell_type": "code",
   "execution_count": 103,
   "metadata": {},
   "outputs": [
    {
     "data": {
      "text/html": [
       "<div>\n",
       "<style scoped>\n",
       "    .dataframe tbody tr th:only-of-type {\n",
       "        vertical-align: middle;\n",
       "    }\n",
       "\n",
       "    .dataframe tbody tr th {\n",
       "        vertical-align: top;\n",
       "    }\n",
       "\n",
       "    .dataframe thead th {\n",
       "        text-align: right;\n",
       "    }\n",
       "</style>\n",
       "<table border=\"1\" class=\"dataframe\">\n",
       "  <thead>\n",
       "    <tr style=\"text-align: right;\">\n",
       "      <th></th>\n",
       "      <th>Alpha</th>\n",
       "      <th>R_Squared</th>\n",
       "    </tr>\n",
       "    <tr>\n",
       "      <th>Portfolio</th>\n",
       "      <th></th>\n",
       "      <th></th>\n",
       "    </tr>\n",
       "  </thead>\n",
       "  <tbody>\n",
       "    <tr>\n",
       "      <th>Agric</th>\n",
       "      <td>0.001344</td>\n",
       "      <td>0.357393</td>\n",
       "    </tr>\n",
       "    <tr>\n",
       "      <th>Food</th>\n",
       "      <td>0.002980</td>\n",
       "      <td>0.416709</td>\n",
       "    </tr>\n",
       "    <tr>\n",
       "      <th>Soda</th>\n",
       "      <td>0.002899</td>\n",
       "      <td>0.280459</td>\n",
       "    </tr>\n",
       "    <tr>\n",
       "      <th>Beer</th>\n",
       "      <td>0.004569</td>\n",
       "      <td>0.362360</td>\n",
       "    </tr>\n",
       "    <tr>\n",
       "      <th>Smoke</th>\n",
       "      <td>0.005512</td>\n",
       "      <td>0.236211</td>\n",
       "    </tr>\n",
       "  </tbody>\n",
       "</table>\n",
       "</div>"
      ],
      "text/plain": [
       "              Alpha  R_Squared\n",
       "Portfolio                     \n",
       "Agric      0.001344   0.357393\n",
       "Food       0.002980   0.416709\n",
       "Soda       0.002899   0.280459\n",
       "Beer       0.004569   0.362360\n",
       "Smoke      0.005512   0.236211"
      ]
     },
     "execution_count": 103,
     "metadata": {},
     "output_type": "execute_result"
    }
   ],
   "source": [
    "# 3FF\n",
    "\n",
    "three_ff_factors = factors_excess_returns[['MKT','SMB','HML']]\n",
    "three_ff_alpha_lst, three_ff_r_squared_lst, three_ff_p_values_lst = factor_regression(three_ff_factors)\n",
    "three_ff_factors_df = pd.DataFrame({\"Portfolio\":portfolio_excess_returns.columns,\"Alpha\":three_ff_alpha_lst,\"R_Squared\":three_ff_r_squared_lst}).set_index(\"Portfolio\")\n",
    "three_ff_factors_df.head()"
   ]
  },
  {
   "cell_type": "code",
   "execution_count": 104,
   "metadata": {},
   "outputs": [
    {
     "data": {
      "text/plain": [
       "0.0019986503543225113"
      ]
     },
     "execution_count": 104,
     "metadata": {},
     "output_type": "execute_result"
    }
   ],
   "source": [
    "# 3FF MAE\n",
    "\n",
    "three_ff_mae = abs(three_ff_factors_df['Alpha']).sum() / len(three_ff_factors_df['Alpha'])\n",
    "three_ff_mae"
   ]
  },
  {
   "cell_type": "code",
   "execution_count": 105,
   "metadata": {},
   "outputs": [
    {
     "data": {
      "text/html": [
       "<div>\n",
       "<style scoped>\n",
       "    .dataframe tbody tr th:only-of-type {\n",
       "        vertical-align: middle;\n",
       "    }\n",
       "\n",
       "    .dataframe tbody tr th {\n",
       "        vertical-align: top;\n",
       "    }\n",
       "\n",
       "    .dataframe thead th {\n",
       "        text-align: right;\n",
       "    }\n",
       "</style>\n",
       "<table border=\"1\" class=\"dataframe\">\n",
       "  <thead>\n",
       "    <tr style=\"text-align: right;\">\n",
       "      <th></th>\n",
       "      <th>Alpha</th>\n",
       "      <th>R_Squared</th>\n",
       "    </tr>\n",
       "    <tr>\n",
       "      <th>Portfolio</th>\n",
       "      <th></th>\n",
       "      <th></th>\n",
       "    </tr>\n",
       "  </thead>\n",
       "  <tbody>\n",
       "    <tr>\n",
       "      <th>Agric</th>\n",
       "      <td>0.000028</td>\n",
       "      <td>0.363375</td>\n",
       "    </tr>\n",
       "    <tr>\n",
       "      <th>Food</th>\n",
       "      <td>-0.000220</td>\n",
       "      <td>0.490799</td>\n",
       "    </tr>\n",
       "    <tr>\n",
       "      <th>Soda</th>\n",
       "      <td>-0.000153</td>\n",
       "      <td>0.313214</td>\n",
       "    </tr>\n",
       "    <tr>\n",
       "      <th>Beer</th>\n",
       "      <td>0.000846</td>\n",
       "      <td>0.442389</td>\n",
       "    </tr>\n",
       "    <tr>\n",
       "      <th>Smoke</th>\n",
       "      <td>0.000916</td>\n",
       "      <td>0.305338</td>\n",
       "    </tr>\n",
       "  </tbody>\n",
       "</table>\n",
       "</div>"
      ],
      "text/plain": [
       "              Alpha  R_Squared\n",
       "Portfolio                     \n",
       "Agric      0.000028   0.363375\n",
       "Food      -0.000220   0.490799\n",
       "Soda      -0.000153   0.313214\n",
       "Beer       0.000846   0.442389\n",
       "Smoke      0.000916   0.305338"
      ]
     },
     "execution_count": 105,
     "metadata": {},
     "output_type": "execute_result"
    }
   ],
   "source": [
    "# 5FF\n",
    "\n",
    "five_ff_factors = factors_excess_returns[['MKT','SMB','HML', 'RMW', 'CMA']]\n",
    "five_ff_alpha_lst, five_ff_r_squared_lst, five_ff_p_values_lst = factor_regression(five_ff_factors)\n",
    "five_ff_factors_df = pd.DataFrame({\"Portfolio\":portfolio_excess_returns.columns,\"Alpha\":five_ff_alpha_lst,\"R_Squared\":five_ff_r_squared_lst}).set_index(\"Portfolio\")\n",
    "five_ff_factors_df.head()"
   ]
  },
  {
   "cell_type": "code",
   "execution_count": 106,
   "metadata": {},
   "outputs": [
    {
     "data": {
      "text/plain": [
       "0.0026139465380550396"
      ]
     },
     "execution_count": 106,
     "metadata": {},
     "output_type": "execute_result"
    }
   ],
   "source": [
    "# 5FF MAE\n",
    "\n",
    "five_ff_mae = abs(five_ff_factors_df['Alpha']).sum() / len(five_ff_factors_df['Alpha'])\n",
    "five_ff_mae"
   ]
  },
  {
   "cell_type": "code",
   "execution_count": 107,
   "metadata": {},
   "outputs": [
    {
     "data": {
      "text/html": [
       "<div>\n",
       "<style scoped>\n",
       "    .dataframe tbody tr th:only-of-type {\n",
       "        vertical-align: middle;\n",
       "    }\n",
       "\n",
       "    .dataframe tbody tr th {\n",
       "        vertical-align: top;\n",
       "    }\n",
       "\n",
       "    .dataframe thead th {\n",
       "        text-align: right;\n",
       "    }\n",
       "</style>\n",
       "<table border=\"1\" class=\"dataframe\">\n",
       "  <thead>\n",
       "    <tr style=\"text-align: right;\">\n",
       "      <th></th>\n",
       "      <th>MAE</th>\n",
       "    </tr>\n",
       "    <tr>\n",
       "      <th>Factor Models</th>\n",
       "      <th></th>\n",
       "    </tr>\n",
       "  </thead>\n",
       "  <tbody>\n",
       "    <tr>\n",
       "      <th>AQR</th>\n",
       "      <td>0.001860</td>\n",
       "    </tr>\n",
       "    <tr>\n",
       "      <th>CAPM</th>\n",
       "      <td>0.001700</td>\n",
       "    </tr>\n",
       "    <tr>\n",
       "      <th>3FF</th>\n",
       "      <td>0.001999</td>\n",
       "    </tr>\n",
       "    <tr>\n",
       "      <th>5FF</th>\n",
       "      <td>0.002614</td>\n",
       "    </tr>\n",
       "  </tbody>\n",
       "</table>\n",
       "</div>"
      ],
      "text/plain": [
       "                    MAE\n",
       "Factor Models          \n",
       "AQR            0.001860\n",
       "CAPM           0.001700\n",
       "3FF            0.001999\n",
       "5FF            0.002614"
      ]
     },
     "execution_count": 107,
     "metadata": {},
     "output_type": "execute_result"
    }
   ],
   "source": [
    "factor_models_mae_df = pd.DataFrame({\"Factor Models\":['AQR','CAPM','3FF','5FF'],\"MAE\":[AQR_mae, CAPM_mae, three_ff_mae, five_ff_mae]}).set_index('Factor Models')\n",
    "factor_models_mae_df"
   ]
  },
  {
   "cell_type": "code",
   "execution_count": 108,
   "metadata": {},
   "outputs": [
    {
     "name": "stdout",
     "output_type": "stream",
     "text": [
      "The factor model with the lowest MAE and fits best is CAPM\n"
     ]
    }
   ],
   "source": [
    "print(f\"The factor model with the lowest MAE and fits best is {factor_models_mae_df['MAE'].idxmin()}\")"
   ]
  },
  {
   "cell_type": "markdown",
   "metadata": {},
   "source": [
    "* Part 3"
   ]
  },
  {
   "cell_type": "code",
   "execution_count": 115,
   "metadata": {},
   "outputs": [
    {
     "data": {
      "text/plain": [
       "const    3.116643e-01\n",
       "MKT      2.595417e-09\n",
       "SMB      8.501973e-02\n",
       "HML      1.721363e-01\n",
       "RMW      8.879625e-02\n",
       "CMA      1.954171e-01\n",
       "dtype: float64"
      ]
     },
     "execution_count": 115,
     "metadata": {},
     "output_type": "execute_result"
    }
   ],
   "source": [
    "pd.DataFrame(five_ff_p_values_lst).mean()"
   ]
  },
  {
   "cell_type": "markdown",
   "metadata": {},
   "source": [
    "Looking at the p-values for the regression run using the five-factor model, MKT seems to be a particularly important factor, while HML and CMA are less important. No, I do not think that Fama-French should use CMA (momentum) as a factor. "
   ]
  },
  {
   "cell_type": "markdown",
   "metadata": {},
   "source": [
    "* Part 4"
   ]
  },
  {
   "cell_type": "code",
   "execution_count": 119,
   "metadata": {},
   "outputs": [
    {
     "data": {
      "text/plain": [
       "0.5775657729108791"
      ]
     },
     "execution_count": 119,
     "metadata": {},
     "output_type": "execute_result"
    }
   ],
   "source": [
    "np.mean(AQR_r_squared_lst)"
   ]
  },
  {
   "cell_type": "code",
   "execution_count": 123,
   "metadata": {},
   "outputs": [
    {
     "data": {
      "text/html": [
       "<div>\n",
       "<style scoped>\n",
       "    .dataframe tbody tr th:only-of-type {\n",
       "        vertical-align: middle;\n",
       "    }\n",
       "\n",
       "    .dataframe tbody tr th {\n",
       "        vertical-align: top;\n",
       "    }\n",
       "\n",
       "    .dataframe thead th {\n",
       "        text-align: right;\n",
       "    }\n",
       "</style>\n",
       "<table border=\"1\" class=\"dataframe\">\n",
       "  <thead>\n",
       "    <tr style=\"text-align: right;\">\n",
       "      <th></th>\n",
       "      <th>R-Sqaured</th>\n",
       "    </tr>\n",
       "    <tr>\n",
       "      <th>Factor Models</th>\n",
       "      <th></th>\n",
       "    </tr>\n",
       "  </thead>\n",
       "  <tbody>\n",
       "    <tr>\n",
       "      <th>AQR</th>\n",
       "      <td>0.577566</td>\n",
       "    </tr>\n",
       "    <tr>\n",
       "      <th>CAPM</th>\n",
       "      <td>0.526107</td>\n",
       "    </tr>\n",
       "    <tr>\n",
       "      <th>3FF</th>\n",
       "      <td>0.571484</td>\n",
       "    </tr>\n",
       "    <tr>\n",
       "      <th>5FF</th>\n",
       "      <td>0.595951</td>\n",
       "    </tr>\n",
       "  </tbody>\n",
       "</table>\n",
       "</div>"
      ],
      "text/plain": [
       "               R-Sqaured\n",
       "Factor Models           \n",
       "AQR             0.577566\n",
       "CAPM            0.526107\n",
       "3FF             0.571484\n",
       "5FF             0.595951"
      ]
     },
     "execution_count": 123,
     "metadata": {},
     "output_type": "execute_result"
    }
   ],
   "source": [
    "pd.DataFrame({\"Factor Models\":['AQR','CAPM','3FF','5FF'],\"R-Sqaured\":[np.mean(AQR_r_squared_lst), np.mean(capm_r_squared_lst), np.mean(three_ff_r_squared_lst), np.mean(five_ff_r_squared_lst)]}).set_index('Factor Models')"
   ]
  },
  {
   "cell_type": "markdown",
   "metadata": {},
   "source": [
    "These models have an R-squared between 57-59%, so they are not particularly good for decomposing portfolio returns."
   ]
  },
  {
   "cell_type": "markdown",
   "metadata": {},
   "source": [
    "* Part 5"
   ]
  },
  {
   "cell_type": "markdown",
   "metadata": {},
   "source": [
    "Yet to finish...."
   ]
  }
 ],
 "metadata": {
  "kernelspec": {
   "display_name": "finm",
   "language": "python",
   "name": "python3"
  },
  "language_info": {
   "codemirror_mode": {
    "name": "ipython",
    "version": 3
   },
   "file_extension": ".py",
   "mimetype": "text/x-python",
   "name": "python",
   "nbconvert_exporter": "python",
   "pygments_lexer": "ipython3",
   "version": "3.12.1"
  }
 },
 "nbformat": 4,
 "nbformat_minor": 4
}
