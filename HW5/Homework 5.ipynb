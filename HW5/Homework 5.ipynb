{
 "cells": [
  {
   "cell_type": "markdown",
   "metadata": {},
   "source": [
    "# Homework 5\n",
    "\n",
    "## FINM 36700 - 2024\n",
    "\n",
    "### UChicago Financial Mathematics\n",
    "\n",
    "* Mark Hendricks\n",
    "* hendricks@uchicago.edu"
   ]
  },
  {
   "cell_type": "markdown",
   "metadata": {},
   "source": [
    "***"
   ]
  },
  {
   "cell_type": "markdown",
   "metadata": {},
   "source": [
    "# Section 1: Harvard Case\n",
    "\n",
    "*This section will not be graded, but it will be discussed in class.*\n",
    "\n",
    "**Smart Beta Exchange-Traded-Funds and Factor Investing**.\n",
    "\n",
    "* The case is a good introduction to important pricing factors.\n",
    "* It also gives useful introduction and context to ETFs, passive vs active investing, and so-called “smart beta” funds."
   ]
  },
  {
   "cell_type": "markdown",
   "metadata": {},
   "source": [
    "1. Describe how each of the factors (other than MKT) is measured.1That is, each factor is a portfolio of stocks–which stocks are included in the factor portfolio?\n",
    "\n",
    "2. Is the factor portfolio...\n",
    "* long-only\n",
    "* long-short\n",
    "* value-weighted\n",
    "* equally-weighted\n",
    "\n",
    "4. What steps are taken in the factor construction to try to reduce the correlation between the factors?\n",
    "5. What is the point of figures 1-6?\n",
    "6. How is a “smart beta” ETF different from a traditional ETF?\n",
    "7. Is it possible for all investors to have exposure to the “value” factor?\n",
    "8. How does factor investing differ from traditional diversification?\n",
    "\n",
    "\n",
    "If you need more info in how these factor portfolios are created, see Ken French’s website, and the follow- details: \n",
    "\n",
    "https://mba.tuck.dartmouth.edu/pages/faculty/ken.french/Data_Library/f-f_5_factors_2x3.html\n",
    "\n",
    "https://mba.tuck.dartmouth.edu/pages/faculty/ken.french/Data_Library/det_mom_factor.html"
   ]
  },
  {
   "cell_type": "markdown",
   "metadata": {},
   "source": [
    "***"
   ]
  },
  {
   "cell_type": "markdown",
   "metadata": {},
   "source": [
    "# 2. The Factors\n",
    "\n",
    "Use the data found in `factor_pricing_data.xlsx`.\n",
    "\n",
    "* FACTORS: Monthly excess return data for the overall equity market, $\\tilde{r}^{\\text{MKT}}$.\n",
    "* The column header to the market factor is `MKT` rather than `MKT-RF`, but it is indeed already in excess return form.\n",
    "* The sheet also contains data on five additional factors.\n",
    "* All factor data is already provided as excess returns"
   ]
  },
  {
   "cell_type": "markdown",
   "metadata": {},
   "source": [
    "1. Analyze the factors, similar to how you analyzed the three Fama-French factors in Homework 4.\n",
    "You now have three additional factors, so let’s compare there univariate statistics. • mean\n",
    "• volatility\n",
    "• Sharpe\n",
    "\n",
    "2. Based on the factor statistics above, answer the following.\n",
    "(a) Does each factor have a positive risk premium (positive expected excess return)? (b) How have the factors performed since the time of the case, (2015-present)?\n",
    "\n",
    "3. Report the correlation matrix across the six factors.\n",
    "* Does the construction method succeed in keeping correlations small?\n",
    "* Fama and French say that HML is somewhat redundant in their 5-factor model. Does this seem to be the case?\n",
    "\n",
    "4. Report the tangency weights for a portfolio of these 6 factors.\n",
    "* Which factors seem most important? And Least?\n",
    "* Are the factors with low mean returns still useful?\n",
    "* Re-do the tangency portfolio, but this time only include MKT, SMB, HML, and UMD. Which factors get high/low tangency weights now?\n",
    "\n",
    "What do you conclude about the importance or unimportance of these styles?"
   ]
  },
  {
   "cell_type": "code",
   "execution_count": 115,
   "metadata": {},
   "outputs": [],
   "source": [
    "import pandas as pd\n",
    "import numpy as np\n",
    "import matplotlib.pyplot as plt\n",
    "import seaborn as sns\n",
    "\n",
    "factors = pd.read_excel('../data/factor_pricing_data.xlsx', sheet_name='factors (excess returns)').set_index('Date')\n",
    "portfolios = pd.read_excel('../data/factor_pricing_data.xlsx', sheet_name='portfolios (excess returns)').set_index('Date')\n"
   ]
  },
  {
   "cell_type": "markdown",
   "metadata": {},
   "source": [
    "Helper functions:"
   ]
  },
  {
   "cell_type": "code",
   "execution_count": 116,
   "metadata": {},
   "outputs": [],
   "source": [
    "def calc_performance_metrics(data, adj=12, var=0.05):\n",
    "    \"\"\"\n",
    "    Aggregating function for calculating performance metrics. Returns both\n",
    "    risk and performance metrics.\n",
    "\n",
    "    Args:\n",
    "        data (pd.DataFrame): DataFrame of asset returns.\n",
    "        adj (int, optional): Annualization. Defaults to 12.\n",
    "        var (float, optional): VaR level. Defaults to 0.05.\n",
    "\n",
    "    Returns:\n",
    "        DataFrame: DataFrame of performance metrics.\n",
    "    \"\"\"\n",
    "    summary = {\n",
    "        **calc_return_metrics(data=data, adj=adj),\n",
    "        **calc_risk_metrics(data=data, var=var),\n",
    "    }\n",
    "    summary[\"Calmar Ratio\"] = summary[\"Annualized Return\"] / abs(\n",
    "        summary[\"Max Drawdown\"]\n",
    "    )\n",
    "    return pd.DataFrame(summary, index=data.columns)"
   ]
  },
  {
   "cell_type": "code",
   "execution_count": 117,
   "metadata": {},
   "outputs": [],
   "source": [
    "def calc_return_metrics(data, as_df=False, adj=12):\n",
    "    \"\"\"\n",
    "    Calculate return metrics for a DataFrame of assets.\n",
    "\n",
    "    Args:\n",
    "        data (pd.DataFrame): DataFrame of asset returns.\n",
    "        as_df (bool, optional): Return a DF or a dict. Defaults to False (return a dict).\n",
    "        adj (int, optional): Annualization. Defaults to 12.\n",
    "\n",
    "    Returns:\n",
    "        Union[dict, DataFrame]: Dict or DataFrame of return metrics.\n",
    "    \"\"\"\n",
    "    summary = dict()\n",
    "    summary[\"Annualized Return\"] = data.mean() * adj\n",
    "    summary[\"Annualized Volatility\"] = data.std() * np.sqrt(adj)\n",
    "    summary[\"Annualized Sharpe Ratio\"] = (\n",
    "        summary[\"Annualized Return\"] / summary[\"Annualized Volatility\"]\n",
    "    )\n",
    "    summary[\"Annualized Sortino Ratio\"] = summary[\"Annualized Return\"] / (\n",
    "        data[data < 0].std() * np.sqrt(adj)\n",
    "    )\n",
    "    return pd.DataFrame(summary, index=data.columns) if as_df else summary"
   ]
  },
  {
   "cell_type": "code",
   "execution_count": 118,
   "metadata": {},
   "outputs": [],
   "source": [
    "def calc_risk_metrics(data, as_df=False, var=0.05):\n",
    "    \"\"\"\n",
    "    Calculate risk metrics for a DataFrame of assets.\n",
    "\n",
    "    Args:\n",
    "        data (pd.DataFrame): DataFrame of asset returns.\n",
    "        as_df (bool, optional): Return a DF or a dict. Defaults to False.\n",
    "        adj (int, optional): Annualizatin. Defaults to 12.\n",
    "        var (float, optional): VaR level. Defaults to 0.05.\n",
    "\n",
    "    Returns:\n",
    "        Union[dict, DataFrame]: Dict or DataFrame of risk metrics.\n",
    "    \"\"\"\n",
    "    summary = dict()\n",
    "    summary[\"Skewness\"] = data.skew()\n",
    "    summary[\"Excess Kurtosis\"] = data.kurtosis()\n",
    "    summary[f\"VaR ({var})\"] = data.quantile(var, axis=0)\n",
    "    summary[f\"CVaR ({var})\"] = data[data <= data.quantile(var, axis=0)].mean()\n",
    "    summary[\"Min\"] = data.min()\n",
    "    summary[\"Max\"] = data.max()\n",
    "\n",
    "    wealth_index = 1000 * (1 + data).cumprod()\n",
    "    previous_peaks = wealth_index.cummax()\n",
    "    drawdowns = (wealth_index - previous_peaks) / previous_peaks\n",
    "\n",
    "    summary[\"Max Drawdown\"] = drawdowns.min()\n",
    "\n",
    "    summary[\"Bottom\"] = drawdowns.idxmin()\n",
    "    summary[\"Peak\"] = previous_peaks.idxmax()\n",
    "\n",
    "    recovery_date = []\n",
    "    for col in wealth_index.columns:\n",
    "        prev_max = previous_peaks[col][: drawdowns[col].idxmin()].max()\n",
    "        recovery_wealth = pd.DataFrame([wealth_index[col][drawdowns[col].idxmin() :]]).T\n",
    "        recovery_date.append(\n",
    "            recovery_wealth[recovery_wealth[col] >= prev_max].index.min()\n",
    "        )\n",
    "    summary[\"Recovery\"] = [\"-\" if pd.isnull(i) else i for i in recovery_date]\n",
    "\n",
    "    summary[\"Duration (days)\"] = [\n",
    "        (i - j).days if i != \"-\" else \"-\"\n",
    "        for i, j in zip(summary[\"Recovery\"], summary[\"Bottom\"])\n",
    "    ]\n",
    "\n",
    "    return pd.DataFrame(summary, index=data.columns) if as_df else summary"
   ]
  },
  {
   "cell_type": "markdown",
   "metadata": {},
   "source": [
    "1."
   ]
  },
  {
   "cell_type": "code",
   "execution_count": 119,
   "metadata": {},
   "outputs": [
    {
     "data": {
      "text/html": [
       "<div>\n",
       "<style scoped>\n",
       "    .dataframe tbody tr th:only-of-type {\n",
       "        vertical-align: middle;\n",
       "    }\n",
       "\n",
       "    .dataframe tbody tr th {\n",
       "        vertical-align: top;\n",
       "    }\n",
       "\n",
       "    .dataframe thead th {\n",
       "        text-align: right;\n",
       "    }\n",
       "</style>\n",
       "<table border=\"1\" class=\"dataframe\">\n",
       "  <thead>\n",
       "    <tr style=\"text-align: right;\">\n",
       "      <th></th>\n",
       "      <th>Annualized Return</th>\n",
       "      <th>Annualized Volatility</th>\n",
       "      <th>Annualized Sharpe Ratio</th>\n",
       "    </tr>\n",
       "  </thead>\n",
       "  <tbody>\n",
       "    <tr>\n",
       "      <th>MKT</th>\n",
       "      <td>0.086277</td>\n",
       "      <td>0.156904</td>\n",
       "      <td>0.549872</td>\n",
       "    </tr>\n",
       "    <tr>\n",
       "      <th>SMB</th>\n",
       "      <td>0.008319</td>\n",
       "      <td>0.101873</td>\n",
       "      <td>0.081665</td>\n",
       "    </tr>\n",
       "    <tr>\n",
       "      <th>HML</th>\n",
       "      <td>0.025809</td>\n",
       "      <td>0.109999</td>\n",
       "      <td>0.234629</td>\n",
       "    </tr>\n",
       "    <tr>\n",
       "      <th>RMW</th>\n",
       "      <td>0.047096</td>\n",
       "      <td>0.083213</td>\n",
       "      <td>0.565962</td>\n",
       "    </tr>\n",
       "    <tr>\n",
       "      <th>CMA</th>\n",
       "      <td>0.029537</td>\n",
       "      <td>0.073084</td>\n",
       "      <td>0.404148</td>\n",
       "    </tr>\n",
       "    <tr>\n",
       "      <th>UMD</th>\n",
       "      <td>0.062709</td>\n",
       "      <td>0.154564</td>\n",
       "      <td>0.405714</td>\n",
       "    </tr>\n",
       "  </tbody>\n",
       "</table>\n",
       "</div>"
      ],
      "text/plain": [
       "     Annualized Return  Annualized Volatility  Annualized Sharpe Ratio\n",
       "MKT           0.086277               0.156904                 0.549872\n",
       "SMB           0.008319               0.101873                 0.081665\n",
       "HML           0.025809               0.109999                 0.234629\n",
       "RMW           0.047096               0.083213                 0.565962\n",
       "CMA           0.029537               0.073084                 0.404148\n",
       "UMD           0.062709               0.154564                 0.405714"
      ]
     },
     "execution_count": 119,
     "metadata": {},
     "output_type": "execute_result"
    }
   ],
   "source": [
    "numeric_factors = factors.select_dtypes(include=[np.number])\n",
    "summary = calc_performance_metrics(numeric_factors).iloc[:, :3]\n",
    "summary"
   ]
  },
  {
   "cell_type": "markdown",
   "metadata": {},
   "source": [
    "2."
   ]
  },
  {
   "cell_type": "markdown",
   "metadata": {},
   "source": [
    "Yes each factor has positive risk premia"
   ]
  },
  {
   "cell_type": "code",
   "execution_count": 133,
   "metadata": {},
   "outputs": [
    {
     "data": {
      "text/html": [
       "<div>\n",
       "<style scoped>\n",
       "    .dataframe tbody tr th:only-of-type {\n",
       "        vertical-align: middle;\n",
       "    }\n",
       "\n",
       "    .dataframe tbody tr th {\n",
       "        vertical-align: top;\n",
       "    }\n",
       "\n",
       "    .dataframe thead th {\n",
       "        text-align: right;\n",
       "    }\n",
       "</style>\n",
       "<table border=\"1\" class=\"dataframe\">\n",
       "  <thead>\n",
       "    <tr style=\"text-align: right;\">\n",
       "      <th></th>\n",
       "      <th>Annualized Return</th>\n",
       "      <th>Annualized Volatility</th>\n",
       "      <th>Annualized Sharpe Ratio</th>\n",
       "    </tr>\n",
       "  </thead>\n",
       "  <tbody>\n",
       "    <tr>\n",
       "      <th>MKT</th>\n",
       "      <td>0.116586</td>\n",
       "      <td>0.160285</td>\n",
       "      <td>0.727369</td>\n",
       "    </tr>\n",
       "    <tr>\n",
       "      <th>SMB</th>\n",
       "      <td>-0.019500</td>\n",
       "      <td>0.104524</td>\n",
       "      <td>-0.186559</td>\n",
       "    </tr>\n",
       "    <tr>\n",
       "      <th>HML</th>\n",
       "      <td>-0.017855</td>\n",
       "      <td>0.132709</td>\n",
       "      <td>-0.134544</td>\n",
       "    </tr>\n",
       "    <tr>\n",
       "      <th>RMW</th>\n",
       "      <td>0.050886</td>\n",
       "      <td>0.073338</td>\n",
       "      <td>0.693862</td>\n",
       "    </tr>\n",
       "    <tr>\n",
       "      <th>CMA</th>\n",
       "      <td>-0.008410</td>\n",
       "      <td>0.083989</td>\n",
       "      <td>-0.100137</td>\n",
       "    </tr>\n",
       "    <tr>\n",
       "      <th>UMD</th>\n",
       "      <td>0.021083</td>\n",
       "      <td>0.140812</td>\n",
       "      <td>0.149723</td>\n",
       "    </tr>\n",
       "  </tbody>\n",
       "</table>\n",
       "</div>"
      ],
      "text/plain": [
       "     Annualized Return  Annualized Volatility  Annualized Sharpe Ratio\n",
       "MKT           0.116586               0.160285                 0.727369\n",
       "SMB          -0.019500               0.104524                -0.186559\n",
       "HML          -0.017855               0.132709                -0.134544\n",
       "RMW           0.050886               0.073338                 0.693862\n",
       "CMA          -0.008410               0.083989                -0.100137\n",
       "UMD           0.021083               0.140812                 0.149723"
      ]
     },
     "execution_count": 133,
     "metadata": {},
     "output_type": "execute_result"
    }
   ],
   "source": [
    "OOS = calc_performance_metrics(factors.loc[:'2014']).iloc[:, :3]\n",
    "IS = calc_performance_metrics(factors.loc['2015':]).iloc[:, :3]\n",
    "\n",
    "IS\n",
    "\n"
   ]
  },
  {
   "cell_type": "code",
   "execution_count": 134,
   "metadata": {},
   "outputs": [
    {
     "data": {
      "text/html": [
       "<div>\n",
       "<style scoped>\n",
       "    .dataframe tbody tr th:only-of-type {\n",
       "        vertical-align: middle;\n",
       "    }\n",
       "\n",
       "    .dataframe tbody tr th {\n",
       "        vertical-align: top;\n",
       "    }\n",
       "\n",
       "    .dataframe thead th {\n",
       "        text-align: right;\n",
       "    }\n",
       "</style>\n",
       "<table border=\"1\" class=\"dataframe\">\n",
       "  <thead>\n",
       "    <tr style=\"text-align: right;\">\n",
       "      <th></th>\n",
       "      <th>Annualized Return</th>\n",
       "      <th>Annualized Volatility</th>\n",
       "      <th>Annualized Sharpe Ratio</th>\n",
       "    </tr>\n",
       "  </thead>\n",
       "  <tbody>\n",
       "    <tr>\n",
       "      <th>MKT</th>\n",
       "      <td>0.077906</td>\n",
       "      <td>0.156064</td>\n",
       "      <td>0.499189</td>\n",
       "    </tr>\n",
       "    <tr>\n",
       "      <th>SMB</th>\n",
       "      <td>0.016003</td>\n",
       "      <td>0.101142</td>\n",
       "      <td>0.158221</td>\n",
       "    </tr>\n",
       "    <tr>\n",
       "      <th>HML</th>\n",
       "      <td>0.037869</td>\n",
       "      <td>0.102760</td>\n",
       "      <td>0.368514</td>\n",
       "    </tr>\n",
       "    <tr>\n",
       "      <th>RMW</th>\n",
       "      <td>0.046049</td>\n",
       "      <td>0.085819</td>\n",
       "      <td>0.536579</td>\n",
       "    </tr>\n",
       "    <tr>\n",
       "      <th>CMA</th>\n",
       "      <td>0.040017</td>\n",
       "      <td>0.069580</td>\n",
       "      <td>0.575120</td>\n",
       "    </tr>\n",
       "    <tr>\n",
       "      <th>UMD</th>\n",
       "      <td>0.074206</td>\n",
       "      <td>0.158149</td>\n",
       "      <td>0.469215</td>\n",
       "    </tr>\n",
       "  </tbody>\n",
       "</table>\n",
       "</div>"
      ],
      "text/plain": [
       "     Annualized Return  Annualized Volatility  Annualized Sharpe Ratio\n",
       "MKT           0.077906               0.156064                 0.499189\n",
       "SMB           0.016003               0.101142                 0.158221\n",
       "HML           0.037869               0.102760                 0.368514\n",
       "RMW           0.046049               0.085819                 0.536579\n",
       "CMA           0.040017               0.069580                 0.575120\n",
       "UMD           0.074206               0.158149                 0.469215"
      ]
     },
     "execution_count": 134,
     "metadata": {},
     "output_type": "execute_result"
    }
   ],
   "source": [
    "OOS"
   ]
  },
  {
   "cell_type": "code",
   "execution_count": 121,
   "metadata": {},
   "outputs": [
    {
     "data": {
      "image/png": "[encoded data removed]",
      "text/plain": [
       "<Figure size 1200x600 with 1 Axes>"
      ]
     },
     "metadata": {},
     "output_type": "display_data"
    }
   ],
   "source": [
    "cumulative_returns = (1 + numeric_factors).cumprod()\n",
    "cumulative_returns.plot(figsize=(12, 6), title=\"Cumulative Returns of Factors\")\n",
    "plt.show()\n"
   ]
  },
  {
   "cell_type": "markdown",
   "metadata": {},
   "source": [
    "Market has performed the best out of each factor since 2015, previously, UMD was the best for a majority of the dataset until the 2010's"
   ]
  },
  {
   "cell_type": "markdown",
   "metadata": {},
   "source": [
    "3."
   ]
  },
  {
   "cell_type": "code",
   "execution_count": 122,
   "metadata": {},
   "outputs": [
    {
     "data": {
      "image/png": "[encoded data removed]",
      "text/plain": [
       "<Figure size 640x480 with 2 Axes>"
      ]
     },
     "metadata": {},
     "output_type": "display_data"
    }
   ],
   "source": [
    "\n",
    "sns.heatmap(numeric_factors.corr(), annot=True, cmap='coolwarm', linewidths=0.5)\n",
    "plt.title('Correlation Heatmap of Factors')\n",
    "plt.show()\n"
   ]
  },
  {
   "cell_type": "markdown",
   "metadata": {},
   "source": [
    "Yes, the construction method keeps the correlations small, besides CMA HML (0.68) and SMB RMW (-0.41).\n",
    "\n",
    "I would not say it is redundant, although it may have some of the higher correlations, it is still useful for what is not picked up by RMW and CMA."
   ]
  },
  {
   "cell_type": "markdown",
   "metadata": {},
   "source": [
    "4."
   ]
  },
  {
   "cell_type": "markdown",
   "metadata": {},
   "source": [
    "Helper function:"
   ]
  },
  {
   "cell_type": "code",
   "execution_count": 123,
   "metadata": {},
   "outputs": [],
   "source": [
    "def tangency_weights(returns,dropna=True,scale_cov=1):\n",
    "    if dropna:\n",
    "        returns = returns.dropna()\n",
    "\n",
    "    covmat_full = returns.cov()\n",
    "    covmat_diag = np.diag(np.diag(covmat_full))\n",
    "    covmat = scale_cov * covmat_full + (1-scale_cov) * covmat_diag\n",
    "\n",
    "    weights = np.linalg.solve(covmat,returns.mean())\n",
    "    weights = weights / weights.sum()\n",
    "\n",
    "    return pd.DataFrame(weights, index=returns.columns,columns=['tangency weights'])"
   ]
  },
  {
   "cell_type": "code",
   "execution_count": 124,
   "metadata": {},
   "outputs": [
    {
     "data": {
      "text/html": [
       "<div>\n",
       "<style scoped>\n",
       "    .dataframe tbody tr th:only-of-type {\n",
       "        vertical-align: middle;\n",
       "    }\n",
       "\n",
       "    .dataframe tbody tr th {\n",
       "        vertical-align: top;\n",
       "    }\n",
       "\n",
       "    .dataframe thead th {\n",
       "        text-align: right;\n",
       "    }\n",
       "</style>\n",
       "<table border=\"1\" class=\"dataframe\">\n",
       "  <thead>\n",
       "    <tr style=\"text-align: right;\">\n",
       "      <th></th>\n",
       "      <th>tangency weights</th>\n",
       "    </tr>\n",
       "  </thead>\n",
       "  <tbody>\n",
       "    <tr>\n",
       "      <th>MKT</th>\n",
       "      <td>0.209760</td>\n",
       "    </tr>\n",
       "    <tr>\n",
       "      <th>SMB</th>\n",
       "      <td>0.077337</td>\n",
       "    </tr>\n",
       "    <tr>\n",
       "      <th>HML</th>\n",
       "      <td>-0.042142</td>\n",
       "    </tr>\n",
       "    <tr>\n",
       "      <th>RMW</th>\n",
       "      <td>0.313263</td>\n",
       "    </tr>\n",
       "    <tr>\n",
       "      <th>CMA</th>\n",
       "      <td>0.338982</td>\n",
       "    </tr>\n",
       "    <tr>\n",
       "      <th>UMD</th>\n",
       "      <td>0.102798</td>\n",
       "    </tr>\n",
       "  </tbody>\n",
       "</table>\n",
       "</div>"
      ],
      "text/plain": [
       "     tangency weights\n",
       "MKT          0.209760\n",
       "SMB          0.077337\n",
       "HML         -0.042142\n",
       "RMW          0.313263\n",
       "CMA          0.338982\n",
       "UMD          0.102798"
      ]
     },
     "execution_count": 124,
     "metadata": {},
     "output_type": "execute_result"
    }
   ],
   "source": [
    "w_t = tangency_weights(factors)\n",
    "w_t"
   ]
  },
  {
   "cell_type": "markdown",
   "metadata": {},
   "source": [
    "The most important facotrs are RMA, RMW, MKT as shown by their weights. The least important are HML, SMB and UMD.\n",
    "\n",
    "The factors with the highest mean returns have been MKT and UMD which are the two most median factors by weight. So yes, even the lower weight factors are useful."
   ]
  },
  {
   "cell_type": "code",
   "execution_count": 125,
   "metadata": {},
   "outputs": [
    {
     "data": {
      "text/html": [
       "<div>\n",
       "<style scoped>\n",
       "    .dataframe tbody tr th:only-of-type {\n",
       "        vertical-align: middle;\n",
       "    }\n",
       "\n",
       "    .dataframe tbody tr th {\n",
       "        vertical-align: top;\n",
       "    }\n",
       "\n",
       "    .dataframe thead th {\n",
       "        text-align: right;\n",
       "    }\n",
       "</style>\n",
       "<table border=\"1\" class=\"dataframe\">\n",
       "  <thead>\n",
       "    <tr style=\"text-align: right;\">\n",
       "      <th></th>\n",
       "      <th>tangency weights</th>\n",
       "    </tr>\n",
       "  </thead>\n",
       "  <tbody>\n",
       "    <tr>\n",
       "      <th>MKT</th>\n",
       "      <td>0.365529</td>\n",
       "    </tr>\n",
       "    <tr>\n",
       "      <th>SMB</th>\n",
       "      <td>-0.032422</td>\n",
       "    </tr>\n",
       "    <tr>\n",
       "      <th>HML</th>\n",
       "      <td>0.356199</td>\n",
       "    </tr>\n",
       "    <tr>\n",
       "      <th>UMD</th>\n",
       "      <td>0.310694</td>\n",
       "    </tr>\n",
       "  </tbody>\n",
       "</table>\n",
       "</div>"
      ],
      "text/plain": [
       "     tangency weights\n",
       "MKT          0.365529\n",
       "SMB         -0.032422\n",
       "HML          0.356199\n",
       "UMD          0.310694"
      ]
     },
     "execution_count": 125,
     "metadata": {},
     "output_type": "execute_result"
    }
   ],
   "source": [
    "factors_a = factors[['MKT', 'SMB', 'HML', 'UMD']]\n",
    "w_t_fa = tangency_weights(factors_a)\n",
    "w_t_fa"
   ]
  },
  {
   "cell_type": "markdown",
   "metadata": {},
   "source": [
    "Now MKT, HML, and UMD have the highest weights (near even with eachother) and SMB has dropped below 0."
   ]
  },
  {
   "cell_type": "markdown",
   "metadata": {},
   "source": [
    "Although taking the tangency weights of all the factors may provide more information, the usefulness of the 4 factor tangency weights is much greater."
   ]
  },
  {
   "cell_type": "markdown",
   "metadata": {},
   "source": [
    "***"
   ]
  },
  {
   "cell_type": "markdown",
   "metadata": {},
   "source": [
    "# 3. Testing Modern LPMs\n",
    "\n",
    "Consider the following factor models:\n",
    "* CAPM: MKT\n",
    "* Fama-French 3F: MKT, SMB, HML\n",
    "* Fama-French 5F: MKT, SMB, HML, RMW, CMA\n",
    "* AQR: MKT, HML, RMW, UMD\n",
    "\n",
    "We are not saying this is “the” AQR model, but it is a good illustration of their most publicized factors: value, momentum, and more recently, profitability."
   ]
  },
  {
   "cell_type": "markdown",
   "metadata": {},
   "source": [
    "For instance, for the AQR model is..."
   ]
  },
  {
   "cell_type": "markdown",
   "metadata": {},
   "source": [
    "![](../refs/LFP-4-factors.png)"
   ]
  },
  {
   "cell_type": "markdown",
   "metadata": {},
   "source": [
    "We will test these models with the time-series regressions. Namely, for each asset i, estimate the following regression to test the AQR model:"
   ]
  },
  {
   "cell_type": "markdown",
   "metadata": {},
   "source": [
    "![](../refs/LFD-4-factors.png)"
   ]
  },
  {
   "cell_type": "markdown",
   "metadata": {},
   "source": [
    "Data\n",
    "* PORTFOLIOS: Monthly excess return data on 49 equity portfolios sorted by their industry. Denote these as $\\tilde{r}^i$ , for $n = 1, . . . , 49.$\n",
    "\n",
    "* You do NOT need the risk-free rate data. It is provided only for completeness. The other two tabs are already in terms of excess returns."
   ]
  },
  {
   "cell_type": "markdown",
   "metadata": {},
   "source": [
    "1. Test the AQR 4-Factor Model using the time-series test. (We are not doing the cross-sectional regression tests.)\n",
    "* For each regression, report the estimated α and r-squared.\n",
    "* Calculate the mean-absolute-error of the estimated alphas.\n",
    "* If the pricing model worked, should these alpha estimates be large or small? Why?\n",
    "* Based on your MAE stat, does this seem to support the pricing model or not?\n",
    "\n",
    "2. Test the CAPM, FF 3-Factor Model and the the FF 5-Factor Model.\n",
    "   * Report the MAE statistic for each of these models and compare it with the AQR Model MAE.\n",
    "   * Which model fits best?\n",
    "   \n",
    "3. Does any particular factor seem especially important or unimportant for pricing? Do you think Fama and French should use the Momentum Factor?"
   ]
  },
  {
   "cell_type": "markdown",
   "metadata": {},
   "source": [
    "4. This does not matter for pricing, but report the average (across $n$ estimations) of the time-series regression r-squared statistics.\n",
    "   * Do this for each of the three models you tested.\n",
    "   * Do these models lead to high time-series r-squared stats? That is, would these factors be good in a Linear Factor Decomposition of the assets?\n",
    "\n",
    "5. We tested three models using the time-series tests (focusing on the time-series alphas.) Re-test these models, but this time use the cross-sectional test.\n",
    "* Report the time-series premia of the factors (just their sample averages,) and compare to the cross-sectionally estimated premia of the factors. Do they differ substantially?4\n",
    "* Report the MAE of the cross-sectional regression residuals for each of the four models. How do they compare to the MAE of the time-series alphas?"
   ]
  },
  {
   "cell_type": "markdown",
   "metadata": {},
   "source": [
    "1."
   ]
  },
  {
   "cell_type": "code",
   "execution_count": 126,
   "metadata": {},
   "outputs": [
    {
     "data": {
      "text/html": [
       "<div>\n",
       "<style scoped>\n",
       "    .dataframe tbody tr th:only-of-type {\n",
       "        vertical-align: middle;\n",
       "    }\n",
       "\n",
       "    .dataframe tbody tr th {\n",
       "        vertical-align: top;\n",
       "    }\n",
       "\n",
       "    .dataframe thead th {\n",
       "        text-align: right;\n",
       "    }\n",
       "</style>\n",
       "<table border=\"1\" class=\"dataframe\">\n",
       "  <thead>\n",
       "    <tr style=\"text-align: right;\">\n",
       "      <th></th>\n",
       "      <th>alpha</th>\n",
       "      <th>r_squared</th>\n",
       "    </tr>\n",
       "  </thead>\n",
       "  <tbody>\n",
       "    <tr>\n",
       "      <th>Agric</th>\n",
       "      <td>0.000714</td>\n",
       "      <td>0.360477</td>\n",
       "    </tr>\n",
       "    <tr>\n",
       "      <th>Food</th>\n",
       "      <td>0.002489</td>\n",
       "      <td>0.420629</td>\n",
       "    </tr>\n",
       "    <tr>\n",
       "      <th>Soda</th>\n",
       "      <td>0.003376</td>\n",
       "      <td>0.282197</td>\n",
       "    </tr>\n",
       "    <tr>\n",
       "      <th>Beer</th>\n",
       "      <td>0.003703</td>\n",
       "      <td>0.371999</td>\n",
       "    </tr>\n",
       "    <tr>\n",
       "      <th>Smoke</th>\n",
       "      <td>0.005504</td>\n",
       "      <td>0.236212</td>\n",
       "    </tr>\n",
       "    <tr>\n",
       "      <th>Toys</th>\n",
       "      <td>-0.002085</td>\n",
       "      <td>0.535811</td>\n",
       "    </tr>\n",
       "    <tr>\n",
       "      <th>Fun</th>\n",
       "      <td>0.002252</td>\n",
       "      <td>0.625506</td>\n",
       "    </tr>\n",
       "    <tr>\n",
       "      <th>Books</th>\n",
       "      <td>-0.001588</td>\n",
       "      <td>0.691148</td>\n",
       "    </tr>\n",
       "    <tr>\n",
       "      <th>Hshld</th>\n",
       "      <td>0.001207</td>\n",
       "      <td>0.515003</td>\n",
       "    </tr>\n",
       "    <tr>\n",
       "      <th>Clths</th>\n",
       "      <td>0.000793</td>\n",
       "      <td>0.586925</td>\n",
       "    </tr>\n",
       "    <tr>\n",
       "      <th>Hlth</th>\n",
       "      <td>-0.001367</td>\n",
       "      <td>0.448802</td>\n",
       "    </tr>\n",
       "    <tr>\n",
       "      <th>MedEq</th>\n",
       "      <td>0.002006</td>\n",
       "      <td>0.601501</td>\n",
       "    </tr>\n",
       "    <tr>\n",
       "      <th>Drugs</th>\n",
       "      <td>0.003377</td>\n",
       "      <td>0.522669</td>\n",
       "    </tr>\n",
       "    <tr>\n",
       "      <th>Chems</th>\n",
       "      <td>-0.001125</td>\n",
       "      <td>0.735392</td>\n",
       "    </tr>\n",
       "    <tr>\n",
       "      <th>Rubbr</th>\n",
       "      <td>0.000669</td>\n",
       "      <td>0.68577</td>\n",
       "    </tr>\n",
       "    <tr>\n",
       "      <th>Txtls</th>\n",
       "      <td>-0.000858</td>\n",
       "      <td>0.617177</td>\n",
       "    </tr>\n",
       "    <tr>\n",
       "      <th>BldMt</th>\n",
       "      <td>-0.000782</td>\n",
       "      <td>0.751952</td>\n",
       "    </tr>\n",
       "    <tr>\n",
       "      <th>Cnstr</th>\n",
       "      <td>-0.001713</td>\n",
       "      <td>0.658814</td>\n",
       "    </tr>\n",
       "    <tr>\n",
       "      <th>Steel</th>\n",
       "      <td>-0.003911</td>\n",
       "      <td>0.652895</td>\n",
       "    </tr>\n",
       "    <tr>\n",
       "      <th>FabPr</th>\n",
       "      <td>-0.002535</td>\n",
       "      <td>0.513979</td>\n",
       "    </tr>\n",
       "    <tr>\n",
       "      <th>Mach</th>\n",
       "      <td>-0.000621</td>\n",
       "      <td>0.782338</td>\n",
       "    </tr>\n",
       "    <tr>\n",
       "      <th>ElcEq</th>\n",
       "      <td>0.000123</td>\n",
       "      <td>0.740817</td>\n",
       "    </tr>\n",
       "    <tr>\n",
       "      <th>Autos</th>\n",
       "      <td>0.000891</td>\n",
       "      <td>0.554494</td>\n",
       "    </tr>\n",
       "    <tr>\n",
       "      <th>Aero</th>\n",
       "      <td>0.000726</td>\n",
       "      <td>0.585053</td>\n",
       "    </tr>\n",
       "    <tr>\n",
       "      <th>Ships</th>\n",
       "      <td>-0.001499</td>\n",
       "      <td>0.499757</td>\n",
       "    </tr>\n",
       "    <tr>\n",
       "      <th>Guns</th>\n",
       "      <td>0.002833</td>\n",
       "      <td>0.277681</td>\n",
       "    </tr>\n",
       "    <tr>\n",
       "      <th>Gold</th>\n",
       "      <td>0.000419</td>\n",
       "      <td>0.055824</td>\n",
       "    </tr>\n",
       "    <tr>\n",
       "      <th>Mines</th>\n",
       "      <td>-0.001392</td>\n",
       "      <td>0.479411</td>\n",
       "    </tr>\n",
       "    <tr>\n",
       "      <th>Coal</th>\n",
       "      <td>-0.003525</td>\n",
       "      <td>0.229481</td>\n",
       "    </tr>\n",
       "    <tr>\n",
       "      <th>Oil</th>\n",
       "      <td>-0.001404</td>\n",
       "      <td>0.451747</td>\n",
       "    </tr>\n",
       "    <tr>\n",
       "      <th>Util</th>\n",
       "      <td>0.001149</td>\n",
       "      <td>0.371569</td>\n",
       "    </tr>\n",
       "    <tr>\n",
       "      <th>Telcm</th>\n",
       "      <td>0.000087</td>\n",
       "      <td>0.595556</td>\n",
       "    </tr>\n",
       "    <tr>\n",
       "      <th>PerSv</th>\n",
       "      <td>-0.003023</td>\n",
       "      <td>0.593885</td>\n",
       "    </tr>\n",
       "    <tr>\n",
       "      <th>BusSv</th>\n",
       "      <td>-0.000053</td>\n",
       "      <td>0.872578</td>\n",
       "    </tr>\n",
       "    <tr>\n",
       "      <th>Hardw</th>\n",
       "      <td>0.001782</td>\n",
       "      <td>0.649779</td>\n",
       "    </tr>\n",
       "    <tr>\n",
       "      <th>Softw</th>\n",
       "      <td>0.005047</td>\n",
       "      <td>0.741481</td>\n",
       "    </tr>\n",
       "    <tr>\n",
       "      <th>Chips</th>\n",
       "      <td>0.003585</td>\n",
       "      <td>0.744292</td>\n",
       "    </tr>\n",
       "    <tr>\n",
       "      <th>LabEq</th>\n",
       "      <td>0.001064</td>\n",
       "      <td>0.755063</td>\n",
       "    </tr>\n",
       "    <tr>\n",
       "      <th>Paper</th>\n",
       "      <td>-0.001473</td>\n",
       "      <td>0.644884</td>\n",
       "    </tr>\n",
       "    <tr>\n",
       "      <th>Boxes</th>\n",
       "      <td>0.0011</td>\n",
       "      <td>0.573574</td>\n",
       "    </tr>\n",
       "    <tr>\n",
       "      <th>Trans</th>\n",
       "      <td>-0.000263</td>\n",
       "      <td>0.697673</td>\n",
       "    </tr>\n",
       "    <tr>\n",
       "      <th>Whlsl</th>\n",
       "      <td>-0.000379</td>\n",
       "      <td>0.774311</td>\n",
       "    </tr>\n",
       "    <tr>\n",
       "      <th>Rtail</th>\n",
       "      <td>0.003049</td>\n",
       "      <td>0.665433</td>\n",
       "    </tr>\n",
       "    <tr>\n",
       "      <th>Meals</th>\n",
       "      <td>0.001902</td>\n",
       "      <td>0.593074</td>\n",
       "    </tr>\n",
       "    <tr>\n",
       "      <th>Banks</th>\n",
       "      <td>-0.001506</td>\n",
       "      <td>0.774837</td>\n",
       "    </tr>\n",
       "    <tr>\n",
       "      <th>Insur</th>\n",
       "      <td>0.000292</td>\n",
       "      <td>0.674585</td>\n",
       "    </tr>\n",
       "    <tr>\n",
       "      <th>RlEst</th>\n",
       "      <td>-0.004364</td>\n",
       "      <td>0.690003</td>\n",
       "    </tr>\n",
       "    <tr>\n",
       "      <th>Fin</th>\n",
       "      <td>-0.000038</td>\n",
       "      <td>0.798089</td>\n",
       "    </tr>\n",
       "    <tr>\n",
       "      <th>Other</th>\n",
       "      <td>-0.003002</td>\n",
       "      <td>0.592311</td>\n",
       "    </tr>\n",
       "  </tbody>\n",
       "</table>\n",
       "</div>"
      ],
      "text/plain": [
       "          alpha r_squared\n",
       "Agric  0.000714  0.360477\n",
       "Food   0.002489  0.420629\n",
       "Soda   0.003376  0.282197\n",
       "Beer   0.003703  0.371999\n",
       "Smoke  0.005504  0.236212\n",
       "Toys  -0.002085  0.535811\n",
       "Fun    0.002252  0.625506\n",
       "Books -0.001588  0.691148\n",
       "Hshld  0.001207  0.515003\n",
       "Clths  0.000793  0.586925\n",
       "Hlth  -0.001367  0.448802\n",
       "MedEq  0.002006  0.601501\n",
       "Drugs  0.003377  0.522669\n",
       "Chems -0.001125  0.735392\n",
       "Rubbr  0.000669   0.68577\n",
       "Txtls -0.000858  0.617177\n",
       "BldMt -0.000782  0.751952\n",
       "Cnstr -0.001713  0.658814\n",
       "Steel -0.003911  0.652895\n",
       "FabPr -0.002535  0.513979\n",
       "Mach  -0.000621  0.782338\n",
       "ElcEq  0.000123  0.740817\n",
       "Autos  0.000891  0.554494\n",
       "Aero   0.000726  0.585053\n",
       "Ships -0.001499  0.499757\n",
       "Guns   0.002833  0.277681\n",
       "Gold   0.000419  0.055824\n",
       "Mines -0.001392  0.479411\n",
       "Coal  -0.003525  0.229481\n",
       "Oil   -0.001404  0.451747\n",
       "Util   0.001149  0.371569\n",
       "Telcm  0.000087  0.595556\n",
       "PerSv -0.003023  0.593885\n",
       "BusSv -0.000053  0.872578\n",
       "Hardw  0.001782  0.649779\n",
       "Softw  0.005047  0.741481\n",
       "Chips  0.003585  0.744292\n",
       "LabEq  0.001064  0.755063\n",
       "Paper -0.001473  0.644884\n",
       "Boxes    0.0011  0.573574\n",
       "Trans -0.000263  0.697673\n",
       "Whlsl -0.000379  0.774311\n",
       "Rtail  0.003049  0.665433\n",
       "Meals  0.001902  0.593074\n",
       "Banks -0.001506  0.774837\n",
       "Insur  0.000292  0.674585\n",
       "RlEst -0.004364  0.690003\n",
       "Fin   -0.000038  0.798089\n",
       "Other -0.003002  0.592311"
      ]
     },
     "execution_count": 126,
     "metadata": {},
     "output_type": "execute_result"
    }
   ],
   "source": [
    "import statsmodels.api as sm\n",
    "\n",
    "capm = factors[['MKT']]\n",
    "ff3 = factors[['MKT', 'SMB', 'HML']]\n",
    "ff5 = factors[['MKT', 'SMB', 'HML', 'RMW', 'CMA']]\n",
    "aqr = factors[['MKT', 'SMB', 'HML', 'UMD']]\n",
    "\n",
    "def time_series_regression(data, factors):\n",
    "    results = pd.DataFrame(index=data.columns, columns=['alpha', 'r_squared'])\n",
    "    for col in data.columns:\n",
    "        y = data[col]\n",
    "        x = factors\n",
    "        x = sm.add_constant(x)\n",
    "        model = sm.OLS(y, x).fit()\n",
    "        results.loc[col, 'alpha'] = model.params['const']\n",
    "        results.loc[col, 'r_squared'] = model.rsquared\n",
    "    return results\n",
    "\n",
    "aqr_results = time_series_regression(portfolios, aqr)\n",
    "\n",
    "aqr_results\n"
   ]
  },
  {
   "cell_type": "markdown",
   "metadata": {},
   "source": [
    "The following includes part of 2."
   ]
  },
  {
   "cell_type": "code",
   "execution_count": 127,
   "metadata": {},
   "outputs": [
    {
     "data": {
      "text/html": [
       "<div>\n",
       "<style scoped>\n",
       "    .dataframe tbody tr th:only-of-type {\n",
       "        vertical-align: middle;\n",
       "    }\n",
       "\n",
       "    .dataframe tbody tr th {\n",
       "        vertical-align: top;\n",
       "    }\n",
       "\n",
       "    .dataframe thead th {\n",
       "        text-align: right;\n",
       "    }\n",
       "</style>\n",
       "<table border=\"1\" class=\"dataframe\">\n",
       "  <thead>\n",
       "    <tr style=\"text-align: right;\">\n",
       "      <th></th>\n",
       "      <th>MAE</th>\n",
       "    </tr>\n",
       "  </thead>\n",
       "  <tbody>\n",
       "    <tr>\n",
       "      <th>CAPM</th>\n",
       "      <td>0.001700</td>\n",
       "    </tr>\n",
       "    <tr>\n",
       "      <th>AQR</th>\n",
       "      <td>0.001809</td>\n",
       "    </tr>\n",
       "    <tr>\n",
       "      <th>FF3</th>\n",
       "      <td>0.001999</td>\n",
       "    </tr>\n",
       "    <tr>\n",
       "      <th>FF5</th>\n",
       "      <td>0.002614</td>\n",
       "    </tr>\n",
       "  </tbody>\n",
       "</table>\n",
       "</div>"
      ],
      "text/plain": [
       "           MAE\n",
       "CAPM  0.001700\n",
       "AQR   0.001809\n",
       "FF3   0.001999\n",
       "FF5   0.002614"
      ]
     },
     "execution_count": 127,
     "metadata": {},
     "output_type": "execute_result"
    }
   ],
   "source": [
    "def calc_mae(data, factors):\n",
    "    results = time_series_regression(data, factors)\n",
    "    return results['alpha'].abs().mean()\n",
    "\n",
    "mae_capm = calc_mae(portfolios, capm)\n",
    "mae_aqr = calc_mae(portfolios, aqr)\n",
    "mae_ff3 = calc_mae(portfolios, ff3)\n",
    "mae_ff5 = calc_mae(portfolios, ff5)\n",
    "\n",
    "mae = pd.DataFrame({\n",
    "    'CAPM': mae_capm,\n",
    "    'AQR': mae_aqr,\n",
    "    'FF3': mae_ff3,\n",
    "    'FF5': mae_ff5\n",
    "}, index=['MAE'])\n",
    "\n",
    "mae.T"
   ]
  },
  {
   "cell_type": "markdown",
   "metadata": {},
   "source": [
    "If the pricing model worked we would expect MAE near 0, this value explains the accuracy of the model."
   ]
  },
  {
   "cell_type": "markdown",
   "metadata": {},
   "source": [
    "No it does not support the pricing model, they all have around a 2% error which over time is a drastic difference."
   ]
  },
  {
   "cell_type": "markdown",
   "metadata": {},
   "source": [
    "2."
   ]
  },
  {
   "cell_type": "markdown",
   "metadata": {},
   "source": [
    "It is shown above that CAPM is the best model. The FF3 and FF5 models are both worse than AQR. Hence the CAPM fits best."
   ]
  },
  {
   "cell_type": "markdown",
   "metadata": {},
   "source": [
    "3."
   ]
  },
  {
   "cell_type": "markdown",
   "metadata": {},
   "source": [
    "The most important is MKT because of the actual mean returns. But because"
   ]
  },
  {
   "cell_type": "code",
   "execution_count": 129,
   "metadata": {},
   "outputs": [
    {
     "data": {
      "text/html": [
       "<div>\n",
       "<style scoped>\n",
       "    .dataframe tbody tr th:only-of-type {\n",
       "        vertical-align: middle;\n",
       "    }\n",
       "\n",
       "    .dataframe tbody tr th {\n",
       "        vertical-align: top;\n",
       "    }\n",
       "\n",
       "    .dataframe thead th {\n",
       "        text-align: right;\n",
       "    }\n",
       "</style>\n",
       "<table border=\"1\" class=\"dataframe\">\n",
       "  <thead>\n",
       "    <tr style=\"text-align: right;\">\n",
       "      <th></th>\n",
       "      <th>R Squared</th>\n",
       "    </tr>\n",
       "  </thead>\n",
       "  <tbody>\n",
       "    <tr>\n",
       "      <th>CAPM</th>\n",
       "      <td>0.526107</td>\n",
       "    </tr>\n",
       "    <tr>\n",
       "      <th>AQR</th>\n",
       "      <td>0.577029</td>\n",
       "    </tr>\n",
       "    <tr>\n",
       "      <th>FF3</th>\n",
       "      <td>0.571484</td>\n",
       "    </tr>\n",
       "    <tr>\n",
       "      <th>FF5</th>\n",
       "      <td>0.595951</td>\n",
       "    </tr>\n",
       "  </tbody>\n",
       "</table>\n",
       "</div>"
      ],
      "text/plain": [
       "      R Squared\n",
       "CAPM   0.526107\n",
       "AQR    0.577029\n",
       "FF3    0.571484\n",
       "FF5    0.595951"
      ]
     },
     "execution_count": 129,
     "metadata": {},
     "output_type": "execute_result"
    }
   ],
   "source": [
    "CAPMM = time_series_regression(portfolios, capm)\n",
    "CAPMM_R = CAPMM['r_squared'].mean()\n",
    "\n",
    "AQRMM = time_series_regression(portfolios, aqr)\n",
    "AQRMM_R = AQRMM['r_squared'].mean()\n",
    "\n",
    "FF3MM = time_series_regression(portfolios, ff3)\n",
    "FF3MM_R = FF3MM['r_squared'].mean()\n",
    "\n",
    "FF5MM = time_series_regression(portfolios, ff5)\n",
    "FF5MM_R = FF5MM['r_squared'].mean()\n",
    "\n",
    "r_squared = pd.DataFrame({\n",
    "    'CAPM': CAPMM_R,\n",
    "    'AQR': AQRMM_R,\n",
    "    'FF3': FF3MM_R,\n",
    "    'FF5': FF5MM_R\n",
    "}, index=['R Squared'])\n",
    "\n",
    "r_squared.T"
   ]
  },
  {
   "cell_type": "markdown",
   "metadata": {},
   "source": [
    "***"
   ]
  },
  {
   "cell_type": "code",
   "execution_count": null,
   "metadata": {},
   "outputs": [],
   "source": []
  }
 ],
 "metadata": {
  "kernelspec": {
   "display_name": "base",
   "language": "python",
   "name": "python3"
  },
  "language_info": {
   "codemirror_mode": {
    "name": "ipython",
    "version": 3
   },
   "file_extension": ".py",
   "mimetype": "text/x-python",
   "name": "python",
   "nbconvert_exporter": "python",
   "pygments_lexer": "ipython3",
   "version": "3.12.3"
  }
 },
 "nbformat": 4,
 "nbformat_minor": 4
}
