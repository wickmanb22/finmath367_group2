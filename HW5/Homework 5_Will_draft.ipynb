{
 "cells": [
  {
   "cell_type": "markdown",
   "metadata": {},
   "source": [
    "# Homework 5\n",
    "\n",
    "## FINM 36700 - 2024\n",
    "\n",
    "### UChicago Financial Mathematics\n",
    "\n",
    "* Mark Hendricks\n",
    "* hendricks@uchicago.edu"
   ]
  },
  {
   "cell_type": "markdown",
   "metadata": {},
   "source": [
    "***"
   ]
  },
  {
   "cell_type": "code",
   "execution_count": 24,
   "metadata": {},
   "outputs": [],
   "source": [
    "import numpy as np\n",
    "import pandas as pd\n",
    "import matplotlib.pyplot as plt\n",
    "import statsmodels.api as sm"
   ]
  },
  {
   "cell_type": "markdown",
   "metadata": {},
   "source": [
    "# Section 1: Harvard Case\n",
    "\n",
    "*This section will not be graded, but it will be discussed in class.*\n",
    "\n",
    "**Smart Beta Exchange-Traded-Funds and Factor Investing**.\n",
    "\n",
    "* The case is a good introduction to important pricing factors.\n",
    "* It also gives useful introduction and context to ETFs, passive vs active investing, and so-called “smart beta” funds."
   ]
  },
  {
   "cell_type": "markdown",
   "metadata": {},
   "source": [
    "1. Describe how each of the factors (other than MKT) is measured.1That is, each factor is a portfolio of stocks–which stocks are included in the factor portfolio?\n",
    "\n",
    "2. Is the factor portfolio...\n",
    "* long-only\n",
    "* long-short\n",
    "* value-weighted\n",
    "* equally-weighted\n",
    "\n",
    "4. What steps are taken in the factor construction to try to reduce the correlation between the factors?\n",
    "5. What is the point of figures 1-6?\n",
    "6. How is a “smart beta” ETF different from a traditional ETF?\n",
    "7. Is it possible for all investors to have exposure to the “value” factor?\n",
    "8. How does factor investing differ from traditional diversification?\n",
    "\n",
    "\n",
    "If you need more info in how these factor portfolios are created, see Ken French’s website, and the follow- details: \n",
    "\n",
    "https://mba.tuck.dartmouth.edu/pages/faculty/ken.french/Data_Library/f-f_5_factors_2x3.html\n",
    "\n",
    "https://mba.tuck.dartmouth.edu/pages/faculty/ken.french/Data_Library/det_mom_factor.html"
   ]
  },
  {
   "cell_type": "markdown",
   "metadata": {},
   "source": [
    "***"
   ]
  },
  {
   "cell_type": "markdown",
   "metadata": {},
   "source": [
    "# 2. The Factors\n",
    "\n",
    "Use the data found in `factor_pricing_data.xlsx`.\n",
    "\n",
    "* FACTORS: Monthly excess return data for the overall equity market, $\\tilde{r}^{\\text{MKT}}$.\n",
    "* The column header to the market factor is `MKT` rather than `MKT-RF`, but it is indeed already in excess return form.\n",
    "* The sheet also contains data on five additional factors.\n",
    "* All factor data is already provided as excess returns"
   ]
  },
  {
   "cell_type": "code",
   "execution_count": 4,
   "metadata": {},
   "outputs": [
    {
     "data": {
      "text/html": [
       "<div>\n",
       "<style scoped>\n",
       "    .dataframe tbody tr th:only-of-type {\n",
       "        vertical-align: middle;\n",
       "    }\n",
       "\n",
       "    .dataframe tbody tr th {\n",
       "        vertical-align: top;\n",
       "    }\n",
       "\n",
       "    .dataframe thead th {\n",
       "        text-align: right;\n",
       "    }\n",
       "</style>\n",
       "<table border=\"1\" class=\"dataframe\">\n",
       "  <thead>\n",
       "    <tr style=\"text-align: right;\">\n",
       "      <th></th>\n",
       "      <th>MKT</th>\n",
       "      <th>SMB</th>\n",
       "      <th>HML</th>\n",
       "      <th>RMW</th>\n",
       "      <th>CMA</th>\n",
       "      <th>UMD</th>\n",
       "    </tr>\n",
       "    <tr>\n",
       "      <th>Date</th>\n",
       "      <th></th>\n",
       "      <th></th>\n",
       "      <th></th>\n",
       "      <th></th>\n",
       "      <th></th>\n",
       "      <th></th>\n",
       "    </tr>\n",
       "  </thead>\n",
       "  <tbody>\n",
       "    <tr>\n",
       "      <th>1980-01-31</th>\n",
       "      <td>0.0551</td>\n",
       "      <td>0.0183</td>\n",
       "      <td>0.0175</td>\n",
       "      <td>-0.0170</td>\n",
       "      <td>0.0164</td>\n",
       "      <td>0.0755</td>\n",
       "    </tr>\n",
       "    <tr>\n",
       "      <th>1980-02-29</th>\n",
       "      <td>-0.0122</td>\n",
       "      <td>-0.0157</td>\n",
       "      <td>0.0061</td>\n",
       "      <td>0.0004</td>\n",
       "      <td>0.0268</td>\n",
       "      <td>0.0788</td>\n",
       "    </tr>\n",
       "    <tr>\n",
       "      <th>1980-03-31</th>\n",
       "      <td>-0.1290</td>\n",
       "      <td>-0.0693</td>\n",
       "      <td>-0.0101</td>\n",
       "      <td>0.0146</td>\n",
       "      <td>-0.0119</td>\n",
       "      <td>-0.0955</td>\n",
       "    </tr>\n",
       "    <tr>\n",
       "      <th>1980-04-30</th>\n",
       "      <td>0.0397</td>\n",
       "      <td>0.0105</td>\n",
       "      <td>0.0106</td>\n",
       "      <td>-0.0210</td>\n",
       "      <td>0.0029</td>\n",
       "      <td>-0.0043</td>\n",
       "    </tr>\n",
       "    <tr>\n",
       "      <th>1980-05-31</th>\n",
       "      <td>0.0526</td>\n",
       "      <td>0.0211</td>\n",
       "      <td>0.0038</td>\n",
       "      <td>0.0034</td>\n",
       "      <td>-0.0031</td>\n",
       "      <td>-0.0112</td>\n",
       "    </tr>\n",
       "    <tr>\n",
       "      <th>...</th>\n",
       "      <td>...</td>\n",
       "      <td>...</td>\n",
       "      <td>...</td>\n",
       "      <td>...</td>\n",
       "      <td>...</td>\n",
       "      <td>...</td>\n",
       "    </tr>\n",
       "    <tr>\n",
       "      <th>2024-04-30</th>\n",
       "      <td>-0.0467</td>\n",
       "      <td>-0.0256</td>\n",
       "      <td>-0.0052</td>\n",
       "      <td>0.0148</td>\n",
       "      <td>-0.0030</td>\n",
       "      <td>-0.0042</td>\n",
       "    </tr>\n",
       "    <tr>\n",
       "      <th>2024-05-31</th>\n",
       "      <td>0.0434</td>\n",
       "      <td>0.0076</td>\n",
       "      <td>-0.0166</td>\n",
       "      <td>0.0298</td>\n",
       "      <td>-0.0307</td>\n",
       "      <td>-0.0002</td>\n",
       "    </tr>\n",
       "    <tr>\n",
       "      <th>2024-06-30</th>\n",
       "      <td>0.0277</td>\n",
       "      <td>-0.0437</td>\n",
       "      <td>-0.0331</td>\n",
       "      <td>0.0051</td>\n",
       "      <td>-0.0178</td>\n",
       "      <td>0.0090</td>\n",
       "    </tr>\n",
       "    <tr>\n",
       "      <th>2024-07-31</th>\n",
       "      <td>0.0124</td>\n",
       "      <td>0.0828</td>\n",
       "      <td>0.0573</td>\n",
       "      <td>0.0022</td>\n",
       "      <td>0.0043</td>\n",
       "      <td>-0.0242</td>\n",
       "    </tr>\n",
       "    <tr>\n",
       "      <th>2024-08-31</th>\n",
       "      <td>0.0161</td>\n",
       "      <td>-0.0365</td>\n",
       "      <td>-0.0112</td>\n",
       "      <td>0.0085</td>\n",
       "      <td>0.0086</td>\n",
       "      <td>0.0478</td>\n",
       "    </tr>\n",
       "  </tbody>\n",
       "</table>\n",
       "<p>536 rows × 6 columns</p>\n",
       "</div>"
      ],
      "text/plain": [
       "               MKT     SMB     HML     RMW     CMA     UMD\n",
       "Date                                                      \n",
       "1980-01-31  0.0551  0.0183  0.0175 -0.0170  0.0164  0.0755\n",
       "1980-02-29 -0.0122 -0.0157  0.0061  0.0004  0.0268  0.0788\n",
       "1980-03-31 -0.1290 -0.0693 -0.0101  0.0146 -0.0119 -0.0955\n",
       "1980-04-30  0.0397  0.0105  0.0106 -0.0210  0.0029 -0.0043\n",
       "1980-05-31  0.0526  0.0211  0.0038  0.0034 -0.0031 -0.0112\n",
       "...            ...     ...     ...     ...     ...     ...\n",
       "2024-04-30 -0.0467 -0.0256 -0.0052  0.0148 -0.0030 -0.0042\n",
       "2024-05-31  0.0434  0.0076 -0.0166  0.0298 -0.0307 -0.0002\n",
       "2024-06-30  0.0277 -0.0437 -0.0331  0.0051 -0.0178  0.0090\n",
       "2024-07-31  0.0124  0.0828  0.0573  0.0022  0.0043 -0.0242\n",
       "2024-08-31  0.0161 -0.0365 -0.0112  0.0085  0.0086  0.0478\n",
       "\n",
       "[536 rows x 6 columns]"
      ]
     },
     "execution_count": 4,
     "metadata": {},
     "output_type": "execute_result"
    }
   ],
   "source": [
    "factors = pd.read_excel(\"factor_pricing_data.xlsx\", sheet_name=1, index_col=0)\n",
    "factors"
   ]
  },
  {
   "cell_type": "markdown",
   "metadata": {},
   "source": [
    "1. Analyze the factors, similar to how you analyzed the three Fama-French factors in Homework 4.\n",
    "You now have three additional factors, so let’s compare there univariate statistics. • mean\n",
    "• volatility\n",
    "• Sharpe\n",
    "\n",
    "2. Based on the factor statistics above, answer the following.\n",
    "(a) Does each factor have a positive risk premium (positive expected excess return)? (b) How have the factors performed since the time of the case, (2015-present)?\n",
    "\n",
    "3. Report the correlation matrix across the six factors.\n",
    "* Does the construction method succeed in keeping correlations small?\n",
    "* Fama and French say that HML is somewhat redundant in their 5-factor model. Does this seem to be the case?\n",
    "\n",
    "4. Report the tangency weights for a portfolio of these 6 factors.\n",
    "* Which factors seem most important? And Least?\n",
    "* Are the factors with low mean returns still useful?\n",
    "* Re-do the tangency portfolio, but this time only include MKT, SMB, HML, and UMD. Which factors get high/low tangency weights now?\n",
    "\n",
    "What do you conclude about the importance or unimportance of these styles?"
   ]
  },
  {
   "cell_type": "markdown",
   "metadata": {},
   "source": [
    "### 1)"
   ]
  },
  {
   "cell_type": "code",
   "execution_count": 5,
   "metadata": {},
   "outputs": [],
   "source": [
    "def stats_mean_vol_sharpe(data,portfolio = None,portfolio_name = 'Portfolio',annualize = 12):\n",
    "    \n",
    "    if portfolio is None:\n",
    "        returns = data\n",
    "    else:\n",
    "        returns = data @ portfolio\n",
    "    \n",
    "    output = returns.agg(['mean','std'])\n",
    "    output.loc['sharpe'] = output.loc['mean'] / output.loc['std']\n",
    "    \n",
    "    output.loc['mean'] *= annualize\n",
    "    output.loc['std'] *= np.sqrt(annualize)\n",
    "    output.loc['sharpe'] *= np.sqrt(annualize)\n",
    "    \n",
    "    if portfolio is None:\n",
    "        pass\n",
    "    else:\n",
    "        output.columns = [portfolio_name]\n",
    "    \n",
    "    return output"
   ]
  },
  {
   "cell_type": "code",
   "execution_count": 6,
   "metadata": {},
   "outputs": [
    {
     "data": {
      "text/html": [
       "<div>\n",
       "<style scoped>\n",
       "    .dataframe tbody tr th:only-of-type {\n",
       "        vertical-align: middle;\n",
       "    }\n",
       "\n",
       "    .dataframe tbody tr th {\n",
       "        vertical-align: top;\n",
       "    }\n",
       "\n",
       "    .dataframe thead th {\n",
       "        text-align: right;\n",
       "    }\n",
       "</style>\n",
       "<table border=\"1\" class=\"dataframe\">\n",
       "  <thead>\n",
       "    <tr style=\"text-align: right;\">\n",
       "      <th></th>\n",
       "      <th>MKT</th>\n",
       "      <th>SMB</th>\n",
       "      <th>HML</th>\n",
       "      <th>RMW</th>\n",
       "      <th>CMA</th>\n",
       "      <th>UMD</th>\n",
       "    </tr>\n",
       "  </thead>\n",
       "  <tbody>\n",
       "    <tr>\n",
       "      <th>mean</th>\n",
       "      <td>0.086277</td>\n",
       "      <td>0.008319</td>\n",
       "      <td>0.025809</td>\n",
       "      <td>0.047096</td>\n",
       "      <td>0.029537</td>\n",
       "      <td>0.062709</td>\n",
       "    </tr>\n",
       "    <tr>\n",
       "      <th>std</th>\n",
       "      <td>0.156904</td>\n",
       "      <td>0.101873</td>\n",
       "      <td>0.109999</td>\n",
       "      <td>0.083213</td>\n",
       "      <td>0.073084</td>\n",
       "      <td>0.154564</td>\n",
       "    </tr>\n",
       "    <tr>\n",
       "      <th>sharpe</th>\n",
       "      <td>0.549872</td>\n",
       "      <td>0.081665</td>\n",
       "      <td>0.234629</td>\n",
       "      <td>0.565962</td>\n",
       "      <td>0.404148</td>\n",
       "      <td>0.405714</td>\n",
       "    </tr>\n",
       "  </tbody>\n",
       "</table>\n",
       "</div>"
      ],
      "text/plain": [
       "             MKT       SMB       HML       RMW       CMA       UMD\n",
       "mean    0.086277  0.008319  0.025809  0.047096  0.029537  0.062709\n",
       "std     0.156904  0.101873  0.109999  0.083213  0.073084  0.154564\n",
       "sharpe  0.549872  0.081665  0.234629  0.565962  0.404148  0.405714"
      ]
     },
     "execution_count": 6,
     "metadata": {},
     "output_type": "execute_result"
    }
   ],
   "source": [
    "stats_mean_vol_sharpe(factors)"
   ]
  },
  {
   "cell_type": "markdown",
   "metadata": {},
   "source": [
    "### 2)\n",
    "\n",
    "All factors have a positive risk premium if counting from the first available data. "
   ]
  },
  {
   "cell_type": "code",
   "execution_count": 10,
   "metadata": {},
   "outputs": [
    {
     "data": {
      "text/html": [
       "<div>\n",
       "<style scoped>\n",
       "    .dataframe tbody tr th:only-of-type {\n",
       "        vertical-align: middle;\n",
       "    }\n",
       "\n",
       "    .dataframe tbody tr th {\n",
       "        vertical-align: top;\n",
       "    }\n",
       "\n",
       "    .dataframe thead th {\n",
       "        text-align: right;\n",
       "    }\n",
       "</style>\n",
       "<table border=\"1\" class=\"dataframe\">\n",
       "  <thead>\n",
       "    <tr style=\"text-align: right;\">\n",
       "      <th></th>\n",
       "      <th>MKT</th>\n",
       "      <th>SMB</th>\n",
       "      <th>HML</th>\n",
       "      <th>RMW</th>\n",
       "      <th>CMA</th>\n",
       "      <th>UMD</th>\n",
       "    </tr>\n",
       "  </thead>\n",
       "  <tbody>\n",
       "    <tr>\n",
       "      <th>mean</th>\n",
       "      <td>0.116586</td>\n",
       "      <td>-0.019500</td>\n",
       "      <td>-0.017855</td>\n",
       "      <td>0.050886</td>\n",
       "      <td>-0.008410</td>\n",
       "      <td>0.021083</td>\n",
       "    </tr>\n",
       "    <tr>\n",
       "      <th>std</th>\n",
       "      <td>0.160285</td>\n",
       "      <td>0.104524</td>\n",
       "      <td>0.132709</td>\n",
       "      <td>0.073338</td>\n",
       "      <td>0.083989</td>\n",
       "      <td>0.140812</td>\n",
       "    </tr>\n",
       "    <tr>\n",
       "      <th>sharpe</th>\n",
       "      <td>0.727369</td>\n",
       "      <td>-0.186559</td>\n",
       "      <td>-0.134544</td>\n",
       "      <td>0.693862</td>\n",
       "      <td>-0.100137</td>\n",
       "      <td>0.149723</td>\n",
       "    </tr>\n",
       "  </tbody>\n",
       "</table>\n",
       "</div>"
      ],
      "text/plain": [
       "             MKT       SMB       HML       RMW       CMA       UMD\n",
       "mean    0.116586 -0.019500 -0.017855  0.050886 -0.008410  0.021083\n",
       "std     0.160285  0.104524  0.132709  0.073338  0.083989  0.140812\n",
       "sharpe  0.727369 -0.186559 -0.134544  0.693862 -0.100137  0.149723"
      ]
     },
     "execution_count": 10,
     "metadata": {},
     "output_type": "execute_result"
    }
   ],
   "source": [
    "stats_mean_vol_sharpe(factors['2015':])"
   ]
  },
  {
   "cell_type": "markdown",
   "metadata": {},
   "source": [
    "However, if we consider the performance since 2015, we see that SMB, HML and CMA have negative risk premiums"
   ]
  },
  {
   "cell_type": "markdown",
   "metadata": {},
   "source": [
    "### 3)"
   ]
  },
  {
   "cell_type": "code",
   "execution_count": 11,
   "metadata": {},
   "outputs": [
    {
     "data": {
      "text/html": [
       "<div>\n",
       "<style scoped>\n",
       "    .dataframe tbody tr th:only-of-type {\n",
       "        vertical-align: middle;\n",
       "    }\n",
       "\n",
       "    .dataframe tbody tr th {\n",
       "        vertical-align: top;\n",
       "    }\n",
       "\n",
       "    .dataframe thead th {\n",
       "        text-align: right;\n",
       "    }\n",
       "</style>\n",
       "<table border=\"1\" class=\"dataframe\">\n",
       "  <thead>\n",
       "    <tr style=\"text-align: right;\">\n",
       "      <th></th>\n",
       "      <th>MKT</th>\n",
       "      <th>SMB</th>\n",
       "      <th>HML</th>\n",
       "      <th>RMW</th>\n",
       "      <th>CMA</th>\n",
       "      <th>UMD</th>\n",
       "    </tr>\n",
       "  </thead>\n",
       "  <tbody>\n",
       "    <tr>\n",
       "      <th>MKT</th>\n",
       "      <td>1.000000</td>\n",
       "      <td>0.227756</td>\n",
       "      <td>-0.204356</td>\n",
       "      <td>-0.246768</td>\n",
       "      <td>-0.357823</td>\n",
       "      <td>-0.175585</td>\n",
       "    </tr>\n",
       "    <tr>\n",
       "      <th>SMB</th>\n",
       "      <td>0.227756</td>\n",
       "      <td>1.000000</td>\n",
       "      <td>-0.029072</td>\n",
       "      <td>-0.414055</td>\n",
       "      <td>-0.049575</td>\n",
       "      <td>-0.055304</td>\n",
       "    </tr>\n",
       "    <tr>\n",
       "      <th>HML</th>\n",
       "      <td>-0.204356</td>\n",
       "      <td>-0.029072</td>\n",
       "      <td>1.000000</td>\n",
       "      <td>0.219651</td>\n",
       "      <td>0.678450</td>\n",
       "      <td>-0.216986</td>\n",
       "    </tr>\n",
       "    <tr>\n",
       "      <th>RMW</th>\n",
       "      <td>-0.246768</td>\n",
       "      <td>-0.414055</td>\n",
       "      <td>0.219651</td>\n",
       "      <td>1.000000</td>\n",
       "      <td>0.127209</td>\n",
       "      <td>0.079525</td>\n",
       "    </tr>\n",
       "    <tr>\n",
       "      <th>CMA</th>\n",
       "      <td>-0.357823</td>\n",
       "      <td>-0.049575</td>\n",
       "      <td>0.678450</td>\n",
       "      <td>0.127209</td>\n",
       "      <td>1.000000</td>\n",
       "      <td>0.008398</td>\n",
       "    </tr>\n",
       "    <tr>\n",
       "      <th>UMD</th>\n",
       "      <td>-0.175585</td>\n",
       "      <td>-0.055304</td>\n",
       "      <td>-0.216986</td>\n",
       "      <td>0.079525</td>\n",
       "      <td>0.008398</td>\n",
       "      <td>1.000000</td>\n",
       "    </tr>\n",
       "  </tbody>\n",
       "</table>\n",
       "</div>"
      ],
      "text/plain": [
       "          MKT       SMB       HML       RMW       CMA       UMD\n",
       "MKT  1.000000  0.227756 -0.204356 -0.246768 -0.357823 -0.175585\n",
       "SMB  0.227756  1.000000 -0.029072 -0.414055 -0.049575 -0.055304\n",
       "HML -0.204356 -0.029072  1.000000  0.219651  0.678450 -0.216986\n",
       "RMW -0.246768 -0.414055  0.219651  1.000000  0.127209  0.079525\n",
       "CMA -0.357823 -0.049575  0.678450  0.127209  1.000000  0.008398\n",
       "UMD -0.175585 -0.055304 -0.216986  0.079525  0.008398  1.000000"
      ]
     },
     "execution_count": 11,
     "metadata": {},
     "output_type": "execute_result"
    }
   ],
   "source": [
    "factors.corr()"
   ]
  },
  {
   "cell_type": "markdown",
   "metadata": {},
   "source": [
    "Some correlations certainly aren't small. For example CMA-HML is really high at 0.67, and we can also note RMW-SMB and CMA-MKT. Due to the HML-CMA correlation being so high, a point could be made that it is redundant in the model given the other factors."
   ]
  },
  {
   "cell_type": "markdown",
   "metadata": {},
   "source": [
    "### 4)"
   ]
  },
  {
   "cell_type": "code",
   "execution_count": 15,
   "metadata": {},
   "outputs": [],
   "source": [
    "Sigma = factors.cov() * 12\n",
    "mu = factors.mean() * 12\n",
    "\n",
    "w_tan = np.linalg.solve(Sigma, mu)\n",
    "w_tan /= w_tan.sum()"
   ]
  },
  {
   "cell_type": "code",
   "execution_count": 16,
   "metadata": {},
   "outputs": [
    {
     "data": {
      "text/plain": [
       "MKT    0.209760\n",
       "SMB    0.077337\n",
       "HML   -0.042142\n",
       "RMW    0.313263\n",
       "CMA    0.338982\n",
       "UMD    0.102798\n",
       "dtype: float64"
      ]
     },
     "execution_count": 16,
     "metadata": {},
     "output_type": "execute_result"
    }
   ],
   "source": [
    "pd.Series(data=w_tan, index=factors.columns)"
   ]
  },
  {
   "cell_type": "markdown",
   "metadata": {},
   "source": [
    "The most important factors are RMW and CMA, despite CMA having negative risk premium in recent years and RMW having much lower risk premium than MKT for example.\n",
    "\n",
    "HML and SMB seem to be the least useful given their weights."
   ]
  },
  {
   "cell_type": "code",
   "execution_count": 18,
   "metadata": {},
   "outputs": [
    {
     "data": {
      "text/plain": [
       "MKT    0.365529\n",
       "SMB   -0.032422\n",
       "HML    0.356199\n",
       "UMD    0.310694\n",
       "dtype: float64"
      ]
     },
     "execution_count": 18,
     "metadata": {},
     "output_type": "execute_result"
    }
   ],
   "source": [
    "factors_small = factors[['MKT',\"SMB\", \"HML\",\"UMD\"]]\n",
    "Sigma_s = factors_small.cov() * 12\n",
    "mu_s = factors_small.mean() * 12\n",
    "\n",
    "w_tan_s = np.linalg.solve(Sigma_s, mu_s)\n",
    "w_tan_s /= w_tan_s.sum()\n",
    "\n",
    "pd.Series(data=w_tan_s, index=factors_small.columns)"
   ]
  },
  {
   "cell_type": "markdown",
   "metadata": {},
   "source": [
    "This time HML seems to have gained a lot of importance, which corroborates with the previous hypothesis that it is less useful when CMA is given. \n",
    "\n",
    "SMB is still unimportant given its weight."
   ]
  },
  {
   "cell_type": "markdown",
   "metadata": {},
   "source": [
    "***"
   ]
  },
  {
   "cell_type": "markdown",
   "metadata": {},
   "source": [
    "# 3. Testing Modern LPMs\n",
    "\n",
    "Consider the following factor models:\n",
    "* CAPM: MKT\n",
    "* Fama-French 3F: MKT, SMB, HML\n",
    "* Fama-French 5F: MKT, SMB, HML, RMW, CMA\n",
    "* AQR: MKT, HML, RMW, UMD\n",
    "\n",
    "We are not saying this is “the” AQR model, but it is a good illustration of their most publicized factors: value, momentum, and more recently, profitability."
   ]
  },
  {
   "cell_type": "markdown",
   "metadata": {},
   "source": [
    "For instance, for the AQR model is..."
   ]
  },
  {
   "cell_type": "markdown",
   "metadata": {},
   "source": [
    "$$\n",
    "\\mathbb{E}[\\tilde{r}^i] = \\beta^{i, \\text{MKT}}\\mathbb{E}[\\tilde{f}_t^{\\text{MKT}}] +\n",
    " \\beta^{i,\\text{HML}} \\mathbb{E}[\\tilde{f}_t^{\\text{HML}}] +\n",
    "  \\beta^{i, \\text{RMW}} \\mathbb{E}[\\tilde{f}_t^{\\text{RMW}}] +\n",
    "   \\beta^{i, \\text{UMD}} \\mathbb{E}[\\tilde{f}_t^{\\text{UMD}}]\n",
    "$$"
   ]
  },
  {
   "cell_type": "markdown",
   "metadata": {},
   "source": [
    "We will test these models with the time-series regressions. Namely, for each asset i, estimate the following regression to test the AQR model:"
   ]
  },
  {
   "cell_type": "markdown",
   "metadata": {},
   "source": [
    "$$\n",
    "\\tilde{r}_t^i = \\alpha^i + \\beta^{i, \\text{MKT}}\\tilde{f}_t^{\\text{MKT}} +\n",
    " \\beta^{i, \\text{HML}}\\tilde{f}_t^{\\text{HML}} +\n",
    "  \\beta^{i, \\text{RMW}}\\tilde{f}_t^{\\text{RMW}} +\n",
    "   \\beta^{i, \\text{UMD}}\\tilde{f}_t^{\\text{UMD}}\n",
    "   + \\epsilon_t\n",
    "$$"
   ]
  },
  {
   "cell_type": "markdown",
   "metadata": {},
   "source": [
    "Data\n",
    "* PORTFOLIOS: Monthly excess return data on 49 equity portfolios sorted by their industry. Denote these as $\\tilde{r}^i$ , for $n = 1, . . . , 49.$\n",
    "\n",
    "* You do NOT need the risk-free rate data. It is provided only for completeness. The other two tabs are already in terms of excess returns."
   ]
  },
  {
   "cell_type": "code",
   "execution_count": 28,
   "metadata": {},
   "outputs": [],
   "source": [
    "ports = pd.read_excel(\"factor_pricing_data.xlsx\", sheet_name=2, index_col = 0)\n",
    "factors4 = pd.read_excel(\"factor_pricing_data.xlsx\", sheet_name=1, index_col = 0)[['MKT','HML','RMW','UMD']]"
   ]
  },
  {
   "cell_type": "markdown",
   "metadata": {},
   "source": [
    "1. Test the AQR 4-Factor Model using the time-series test. (We are not doing the cross-sectional regression tests.)\n",
    "* For each regression, report the estimated α and r-squared.\n",
    "* Calculate the mean-absolute-error of the estimated alphas.\n",
    "* If the pricing model worked, should these alpha estimates be large or small? Why?\n",
    "* Based on your MAE stat, does this seem to support the pricing model or not?\n",
    "\n",
    "2. Test the CAPM, FF 3-Factor Model and the the FF 5-Factor Model.\n",
    "   * Report the MAE statistic for each of these models and compare it with the AQR Model MAE.\n",
    "   * Which model fits best?\n",
    "   \n",
    "3. Does any particular factor seem especially important or unimportant for pricing? Do you think Fama and French should use the Momentum Factor?"
   ]
  },
  {
   "cell_type": "markdown",
   "metadata": {},
   "source": [
    "4. This does not matter for pricing, but report the average (across $n$ estimations) of the time-series regression r-squared statistics.\n",
    "   * Do this for each of the three models you tested.\n",
    "   * Do these models lead to high time-series r-squared stats? That is, would these factors be good in a Linear Factor Decomposition of the assets?\n",
    "\n",
    "5. We tested three models using the time-series tests (focusing on the time-series alphas.) Re-test these models, but this time use the cross-sectional test.\n",
    "* Report the time-series premia of the factors (just their sample averages,) and compare to the cross-sectionally estimated premia of the factors. Do they differ substantially?4\n",
    "* Report the MAE of the cross-sectional regression residuals for each of the four models. How do they compare to the MAE of the time-series alphas?"
   ]
  },
  {
   "cell_type": "markdown",
   "metadata": {},
   "source": [
    "***"
   ]
  },
  {
   "cell_type": "markdown",
   "metadata": {},
   "source": [
    "### 1)"
   ]
  },
  {
   "cell_type": "code",
   "execution_count": 58,
   "metadata": {},
   "outputs": [],
   "source": [
    "def reg_output(x, factors):\n",
    "    a = sm.OLS(x, sm.add_constant(factors)).fit()\n",
    "    return pd.Series({'R2': a.rsquared, 'alpha': a.params['const']})\n",
    "\n",
    "reg_output4 = lambda x : reg_output(x, factors4)"
   ]
  },
  {
   "cell_type": "code",
   "execution_count": 60,
   "metadata": {},
   "outputs": [
    {
     "data": {
      "text/html": [
       "<div>\n",
       "<style scoped>\n",
       "    .dataframe tbody tr th:only-of-type {\n",
       "        vertical-align: middle;\n",
       "    }\n",
       "\n",
       "    .dataframe tbody tr th {\n",
       "        vertical-align: top;\n",
       "    }\n",
       "\n",
       "    .dataframe thead th {\n",
       "        text-align: right;\n",
       "    }\n",
       "</style>\n",
       "<table border=\"1\" class=\"dataframe\">\n",
       "  <thead>\n",
       "    <tr style=\"text-align: right;\">\n",
       "      <th></th>\n",
       "      <th>Agric</th>\n",
       "      <th>Food</th>\n",
       "      <th>Soda</th>\n",
       "      <th>Beer</th>\n",
       "      <th>Smoke</th>\n",
       "      <th>Toys</th>\n",
       "      <th>Fun</th>\n",
       "      <th>Books</th>\n",
       "      <th>Hshld</th>\n",
       "      <th>Clths</th>\n",
       "      <th>...</th>\n",
       "      <th>Boxes</th>\n",
       "      <th>Trans</th>\n",
       "      <th>Whlsl</th>\n",
       "      <th>Rtail</th>\n",
       "      <th>Meals</th>\n",
       "      <th>Banks</th>\n",
       "      <th>Insur</th>\n",
       "      <th>RlEst</th>\n",
       "      <th>Fin</th>\n",
       "      <th>Other</th>\n",
       "    </tr>\n",
       "  </thead>\n",
       "  <tbody>\n",
       "    <tr>\n",
       "      <th>R2</th>\n",
       "      <td>0.339175</td>\n",
       "      <td>0.464221</td>\n",
       "      <td>0.308354</td>\n",
       "      <td>0.420762</td>\n",
       "      <td>0.273489</td>\n",
       "      <td>0.508340</td>\n",
       "      <td>0.616501</td>\n",
       "      <td>0.686774</td>\n",
       "      <td>0.558410</td>\n",
       "      <td>0.618299</td>\n",
       "      <td>...</td>\n",
       "      <td>0.582882</td>\n",
       "      <td>0.709527</td>\n",
       "      <td>0.753533</td>\n",
       "      <td>0.686135</td>\n",
       "      <td>0.636929</td>\n",
       "      <td>0.774982</td>\n",
       "      <td>0.675543</td>\n",
       "      <td>0.606331</td>\n",
       "      <td>0.814851</td>\n",
       "      <td>0.594589</td>\n",
       "    </tr>\n",
       "    <tr>\n",
       "      <th>alpha</th>\n",
       "      <td>0.000643</td>\n",
       "      <td>0.000579</td>\n",
       "      <td>0.001436</td>\n",
       "      <td>0.001422</td>\n",
       "      <td>0.002942</td>\n",
       "      <td>-0.003111</td>\n",
       "      <td>0.002542</td>\n",
       "      <td>-0.002452</td>\n",
       "      <td>-0.000674</td>\n",
       "      <td>-0.001513</td>\n",
       "      <td>...</td>\n",
       "      <td>0.000103</td>\n",
       "      <td>-0.001652</td>\n",
       "      <td>-0.001213</td>\n",
       "      <td>0.001665</td>\n",
       "      <td>-0.000067</td>\n",
       "      <td>-0.001814</td>\n",
       "      <td>-0.000622</td>\n",
       "      <td>-0.004791</td>\n",
       "      <td>0.001548</td>\n",
       "      <td>-0.003522</td>\n",
       "    </tr>\n",
       "  </tbody>\n",
       "</table>\n",
       "<p>2 rows × 49 columns</p>\n",
       "</div>"
      ],
      "text/plain": [
       "          Agric     Food      Soda      Beer      Smoke     Toys      Fun    \\\n",
       "R2     0.339175  0.464221  0.308354  0.420762  0.273489  0.508340  0.616501   \n",
       "alpha  0.000643  0.000579  0.001436  0.001422  0.002942 -0.003111  0.002542   \n",
       "\n",
       "          Books     Hshld     Clths  ...     Boxes     Trans     Whlsl  \\\n",
       "R2     0.686774  0.558410  0.618299  ...  0.582882  0.709527  0.753533   \n",
       "alpha -0.002452 -0.000674 -0.001513  ...  0.000103 -0.001652 -0.001213   \n",
       "\n",
       "          Rtail     Meals     Banks     Insur     RlEst     Fin       Other  \n",
       "R2     0.686135  0.636929  0.774982  0.675543  0.606331  0.814851  0.594589  \n",
       "alpha  0.001665 -0.000067 -0.001814 -0.000622 -0.004791  0.001548 -0.003522  \n",
       "\n",
       "[2 rows x 49 columns]"
      ]
     },
     "execution_count": 60,
     "metadata": {},
     "output_type": "execute_result"
    }
   ],
   "source": [
    "regs_out = ports.apply(reg_output4)\n",
    "regs_out"
   ]
  },
  {
   "cell_type": "code",
   "execution_count": 56,
   "metadata": {},
   "outputs": [
    {
     "data": {
      "text/plain": [
       "0.001916051581645664"
      ]
     },
     "execution_count": 56,
     "metadata": {},
     "output_type": "execute_result"
    }
   ],
   "source": [
    "regs_out.loc['alpha'].abs().mean()"
   ]
  },
  {
   "cell_type": "markdown",
   "metadata": {},
   "source": [
    "If the pricing model was correct, these alphas should be close to zero since alpha is exactly the intercept, that is, the values that are not explained by the other factors.\n",
    "\n",
    "The value of alpha seems small enough, although statistical testing could be done."
   ]
  },
  {
   "cell_type": "markdown",
   "metadata": {},
   "source": [
    "### 2)"
   ]
  },
  {
   "cell_type": "code",
   "execution_count": 68,
   "metadata": {},
   "outputs": [],
   "source": [
    "factors1 = pd.read_excel(\"factor_pricing_data.xlsx\", sheet_name=1, index_col = 0)[['MKT']]\n",
    "factors3 = pd.read_excel(\"factor_pricing_data.xlsx\", sheet_name=1, index_col = 0)[['MKT','HML','SMB']]\n",
    "factors5 = pd.read_excel(\"factor_pricing_data.xlsx\", sheet_name=1, index_col = 0)[['MKT','HML','SMB', 'RMW', 'CMA']]\n",
    "\n",
    "reg_output1 = lambda x : reg_output(x, factors1)\n",
    "reg_output3 = lambda x : reg_output(x, factors3)\n",
    "reg_output5 = lambda x : reg_output(x, factors5)"
   ]
  },
  {
   "cell_type": "code",
   "execution_count": 69,
   "metadata": {},
   "outputs": [
    {
     "data": {
      "text/html": [
       "<div>\n",
       "<style scoped>\n",
       "    .dataframe tbody tr th:only-of-type {\n",
       "        vertical-align: middle;\n",
       "    }\n",
       "\n",
       "    .dataframe tbody tr th {\n",
       "        vertical-align: top;\n",
       "    }\n",
       "\n",
       "    .dataframe thead th {\n",
       "        text-align: right;\n",
       "    }\n",
       "</style>\n",
       "<table border=\"1\" class=\"dataframe\">\n",
       "  <thead>\n",
       "    <tr style=\"text-align: right;\">\n",
       "      <th></th>\n",
       "      <th>Agric</th>\n",
       "      <th>Food</th>\n",
       "      <th>Soda</th>\n",
       "      <th>Beer</th>\n",
       "      <th>Smoke</th>\n",
       "      <th>Toys</th>\n",
       "      <th>Fun</th>\n",
       "      <th>Books</th>\n",
       "      <th>Hshld</th>\n",
       "      <th>Clths</th>\n",
       "      <th>...</th>\n",
       "      <th>Boxes</th>\n",
       "      <th>Trans</th>\n",
       "      <th>Whlsl</th>\n",
       "      <th>Rtail</th>\n",
       "      <th>Meals</th>\n",
       "      <th>Banks</th>\n",
       "      <th>Insur</th>\n",
       "      <th>RlEst</th>\n",
       "      <th>Fin</th>\n",
       "      <th>Other</th>\n",
       "    </tr>\n",
       "  </thead>\n",
       "  <tbody>\n",
       "    <tr>\n",
       "      <th>R2</th>\n",
       "      <td>0.330534</td>\n",
       "      <td>0.366464</td>\n",
       "      <td>0.253740</td>\n",
       "      <td>0.333662</td>\n",
       "      <td>0.189975</td>\n",
       "      <td>0.495417</td>\n",
       "      <td>0.599294</td>\n",
       "      <td>0.652329</td>\n",
       "      <td>0.493945</td>\n",
       "      <td>0.558941</td>\n",
       "      <td>...</td>\n",
       "      <td>0.554475</td>\n",
       "      <td>0.667362</td>\n",
       "      <td>0.741252</td>\n",
       "      <td>0.662701</td>\n",
       "      <td>0.581694</td>\n",
       "      <td>0.610876</td>\n",
       "      <td>0.572667</td>\n",
       "      <td>0.527597</td>\n",
       "      <td>0.772817</td>\n",
       "      <td>0.589199</td>\n",
       "    </tr>\n",
       "    <tr>\n",
       "      <th>alpha</th>\n",
       "      <td>0.001695</td>\n",
       "      <td>0.003818</td>\n",
       "      <td>0.003923</td>\n",
       "      <td>0.004953</td>\n",
       "      <td>0.006770</td>\n",
       "      <td>-0.003140</td>\n",
       "      <td>0.000574</td>\n",
       "      <td>-0.001206</td>\n",
       "      <td>0.001765</td>\n",
       "      <td>0.000044</td>\n",
       "      <td>...</td>\n",
       "      <td>0.000977</td>\n",
       "      <td>-0.000016</td>\n",
       "      <td>0.000072</td>\n",
       "      <td>0.002532</td>\n",
       "      <td>0.002110</td>\n",
       "      <td>0.000007</td>\n",
       "      <td>0.001946</td>\n",
       "      <td>-0.004235</td>\n",
       "      <td>0.000385</td>\n",
       "      <td>-0.002754</td>\n",
       "    </tr>\n",
       "  </tbody>\n",
       "</table>\n",
       "<p>2 rows × 49 columns</p>\n",
       "</div>"
      ],
      "text/plain": [
       "          Agric     Food      Soda      Beer      Smoke     Toys      Fun    \\\n",
       "R2     0.330534  0.366464  0.253740  0.333662  0.189975  0.495417  0.599294   \n",
       "alpha  0.001695  0.003818  0.003923  0.004953  0.006770 -0.003140  0.000574   \n",
       "\n",
       "          Books     Hshld     Clths  ...     Boxes     Trans     Whlsl  \\\n",
       "R2     0.652329  0.493945  0.558941  ...  0.554475  0.667362  0.741252   \n",
       "alpha -0.001206  0.001765  0.000044  ...  0.000977 -0.000016  0.000072   \n",
       "\n",
       "          Rtail     Meals     Banks     Insur     RlEst     Fin       Other  \n",
       "R2     0.662701  0.581694  0.610876  0.572667  0.527597  0.772817  0.589199  \n",
       "alpha  0.002532  0.002110  0.000007  0.001946 -0.004235  0.000385 -0.002754  \n",
       "\n",
       "[2 rows x 49 columns]"
      ]
     },
     "execution_count": 69,
     "metadata": {},
     "output_type": "execute_result"
    }
   ],
   "source": [
    "regs_out1 = ports.apply(reg_output1)\n",
    "regs_out1"
   ]
  },
  {
   "cell_type": "code",
   "execution_count": 117,
   "metadata": {},
   "outputs": [
    {
     "data": {
      "text/plain": [
       "0.0017001307693664562"
      ]
     },
     "execution_count": 117,
     "metadata": {},
     "output_type": "execute_result"
    }
   ],
   "source": [
    "regs_out1.loc['alpha'].abs().mean()"
   ]
  },
  {
   "cell_type": "code",
   "execution_count": 63,
   "metadata": {},
   "outputs": [
    {
     "data": {
      "text/html": [
       "<div>\n",
       "<style scoped>\n",
       "    .dataframe tbody tr th:only-of-type {\n",
       "        vertical-align: middle;\n",
       "    }\n",
       "\n",
       "    .dataframe tbody tr th {\n",
       "        vertical-align: top;\n",
       "    }\n",
       "\n",
       "    .dataframe thead th {\n",
       "        text-align: right;\n",
       "    }\n",
       "</style>\n",
       "<table border=\"1\" class=\"dataframe\">\n",
       "  <thead>\n",
       "    <tr style=\"text-align: right;\">\n",
       "      <th></th>\n",
       "      <th>Agric</th>\n",
       "      <th>Food</th>\n",
       "      <th>Soda</th>\n",
       "      <th>Beer</th>\n",
       "      <th>Smoke</th>\n",
       "      <th>Toys</th>\n",
       "      <th>Fun</th>\n",
       "      <th>Books</th>\n",
       "      <th>Hshld</th>\n",
       "      <th>Clths</th>\n",
       "      <th>...</th>\n",
       "      <th>Boxes</th>\n",
       "      <th>Trans</th>\n",
       "      <th>Whlsl</th>\n",
       "      <th>Rtail</th>\n",
       "      <th>Meals</th>\n",
       "      <th>Banks</th>\n",
       "      <th>Insur</th>\n",
       "      <th>RlEst</th>\n",
       "      <th>Fin</th>\n",
       "      <th>Other</th>\n",
       "    </tr>\n",
       "  </thead>\n",
       "  <tbody>\n",
       "    <tr>\n",
       "      <th>R2</th>\n",
       "      <td>0.363375</td>\n",
       "      <td>0.490799</td>\n",
       "      <td>0.313214</td>\n",
       "      <td>0.442389</td>\n",
       "      <td>0.305338</td>\n",
       "      <td>0.549694</td>\n",
       "      <td>0.613717</td>\n",
       "      <td>0.702782</td>\n",
       "      <td>0.589291</td>\n",
       "      <td>0.628634</td>\n",
       "      <td>...</td>\n",
       "      <td>0.578576</td>\n",
       "      <td>0.721812</td>\n",
       "      <td>0.800149</td>\n",
       "      <td>0.688080</td>\n",
       "      <td>0.646969</td>\n",
       "      <td>0.782535</td>\n",
       "      <td>0.680600</td>\n",
       "      <td>0.695625</td>\n",
       "      <td>0.823622</td>\n",
       "      <td>0.595786</td>\n",
       "    </tr>\n",
       "    <tr>\n",
       "      <th>alpha</th>\n",
       "      <td>0.000028</td>\n",
       "      <td>-0.000220</td>\n",
       "      <td>-0.000153</td>\n",
       "      <td>0.000846</td>\n",
       "      <td>0.000916</td>\n",
       "      <td>-0.005700</td>\n",
       "      <td>0.001388</td>\n",
       "      <td>-0.003698</td>\n",
       "      <td>-0.001803</td>\n",
       "      <td>-0.003385</td>\n",
       "      <td>...</td>\n",
       "      <td>-0.000551</td>\n",
       "      <td>-0.002648</td>\n",
       "      <td>-0.002279</td>\n",
       "      <td>0.001223</td>\n",
       "      <td>-0.001342</td>\n",
       "      <td>-0.001284</td>\n",
       "      <td>-0.000215</td>\n",
       "      <td>-0.007038</td>\n",
       "      <td>0.002369</td>\n",
       "      <td>-0.004058</td>\n",
       "    </tr>\n",
       "  </tbody>\n",
       "</table>\n",
       "<p>2 rows × 49 columns</p>\n",
       "</div>"
      ],
      "text/plain": [
       "          Agric     Food      Soda      Beer      Smoke     Toys      Fun    \\\n",
       "R2     0.363375  0.490799  0.313214  0.442389  0.305338  0.549694  0.613717   \n",
       "alpha  0.000028 -0.000220 -0.000153  0.000846  0.000916 -0.005700  0.001388   \n",
       "\n",
       "          Books     Hshld     Clths  ...     Boxes     Trans     Whlsl  \\\n",
       "R2     0.702782  0.589291  0.628634  ...  0.578576  0.721812  0.800149   \n",
       "alpha -0.003698 -0.001803 -0.003385  ... -0.000551 -0.002648 -0.002279   \n",
       "\n",
       "          Rtail     Meals     Banks     Insur     RlEst     Fin       Other  \n",
       "R2     0.688080  0.646969  0.782535  0.680600  0.695625  0.823622  0.595786  \n",
       "alpha  0.001223 -0.001342 -0.001284 -0.000215 -0.007038  0.002369 -0.004058  \n",
       "\n",
       "[2 rows x 49 columns]"
      ]
     },
     "execution_count": 63,
     "metadata": {},
     "output_type": "execute_result"
    }
   ],
   "source": [
    "regs_out5 = ports.apply(reg_output5)\n",
    "regs_out5"
   ]
  },
  {
   "cell_type": "code",
   "execution_count": 108,
   "metadata": {},
   "outputs": [
    {
     "data": {
      "text/plain": [
       "0.0026139465380550357"
      ]
     },
     "execution_count": 108,
     "metadata": {},
     "output_type": "execute_result"
    }
   ],
   "source": [
    "regs_out5.loc['alpha'].abs().mean()"
   ]
  },
  {
   "cell_type": "code",
   "execution_count": 66,
   "metadata": {},
   "outputs": [
    {
     "data": {
      "text/html": [
       "<div>\n",
       "<style scoped>\n",
       "    .dataframe tbody tr th:only-of-type {\n",
       "        vertical-align: middle;\n",
       "    }\n",
       "\n",
       "    .dataframe tbody tr th {\n",
       "        vertical-align: top;\n",
       "    }\n",
       "\n",
       "    .dataframe thead th {\n",
       "        text-align: right;\n",
       "    }\n",
       "</style>\n",
       "<table border=\"1\" class=\"dataframe\">\n",
       "  <thead>\n",
       "    <tr style=\"text-align: right;\">\n",
       "      <th></th>\n",
       "      <th>Agric</th>\n",
       "      <th>Food</th>\n",
       "      <th>Soda</th>\n",
       "      <th>Beer</th>\n",
       "      <th>Smoke</th>\n",
       "      <th>Toys</th>\n",
       "      <th>Fun</th>\n",
       "      <th>Books</th>\n",
       "      <th>Hshld</th>\n",
       "      <th>Clths</th>\n",
       "      <th>...</th>\n",
       "      <th>Boxes</th>\n",
       "      <th>Trans</th>\n",
       "      <th>Whlsl</th>\n",
       "      <th>Rtail</th>\n",
       "      <th>Meals</th>\n",
       "      <th>Banks</th>\n",
       "      <th>Insur</th>\n",
       "      <th>RlEst</th>\n",
       "      <th>Fin</th>\n",
       "      <th>Other</th>\n",
       "    </tr>\n",
       "  </thead>\n",
       "  <tbody>\n",
       "    <tr>\n",
       "      <th>R2</th>\n",
       "      <td>0.357393</td>\n",
       "      <td>0.416709</td>\n",
       "      <td>0.280459</td>\n",
       "      <td>0.362360</td>\n",
       "      <td>0.236211</td>\n",
       "      <td>0.528722</td>\n",
       "      <td>0.609808</td>\n",
       "      <td>0.688783</td>\n",
       "      <td>0.513703</td>\n",
       "      <td>0.574434</td>\n",
       "      <td>...</td>\n",
       "      <td>0.567710</td>\n",
       "      <td>0.694622</td>\n",
       "      <td>0.773986</td>\n",
       "      <td>0.664633</td>\n",
       "      <td>0.591929</td>\n",
       "      <td>0.766700</td>\n",
       "      <td>0.674567</td>\n",
       "      <td>0.677585</td>\n",
       "      <td>0.796552</td>\n",
       "      <td>0.592239</td>\n",
       "    </tr>\n",
       "    <tr>\n",
       "      <th>alpha</th>\n",
       "      <td>0.001344</td>\n",
       "      <td>0.002980</td>\n",
       "      <td>0.002899</td>\n",
       "      <td>0.004569</td>\n",
       "      <td>0.005512</td>\n",
       "      <td>-0.003176</td>\n",
       "      <td>0.000528</td>\n",
       "      <td>-0.002111</td>\n",
       "      <td>0.001494</td>\n",
       "      <td>-0.000513</td>\n",
       "      <td>...</td>\n",
       "      <td>0.000305</td>\n",
       "      <td>-0.000839</td>\n",
       "      <td>-0.000210</td>\n",
       "      <td>0.002774</td>\n",
       "      <td>0.001583</td>\n",
       "      <td>-0.002513</td>\n",
       "      <td>0.000252</td>\n",
       "      <td>-0.005825</td>\n",
       "      <td>-0.000493</td>\n",
       "      <td>-0.003095</td>\n",
       "    </tr>\n",
       "  </tbody>\n",
       "</table>\n",
       "<p>2 rows × 49 columns</p>\n",
       "</div>"
      ],
      "text/plain": [
       "          Agric     Food      Soda      Beer      Smoke     Toys      Fun    \\\n",
       "R2     0.357393  0.416709  0.280459  0.362360  0.236211  0.528722  0.609808   \n",
       "alpha  0.001344  0.002980  0.002899  0.004569  0.005512 -0.003176  0.000528   \n",
       "\n",
       "          Books     Hshld     Clths  ...     Boxes     Trans     Whlsl  \\\n",
       "R2     0.688783  0.513703  0.574434  ...  0.567710  0.694622  0.773986   \n",
       "alpha -0.002111  0.001494 -0.000513  ...  0.000305 -0.000839 -0.000210   \n",
       "\n",
       "          Rtail     Meals     Banks     Insur     RlEst     Fin       Other  \n",
       "R2     0.664633  0.591929  0.766700  0.674567  0.677585  0.796552  0.592239  \n",
       "alpha  0.002774  0.001583 -0.002513  0.000252 -0.005825 -0.000493 -0.003095  \n",
       "\n",
       "[2 rows x 49 columns]"
      ]
     },
     "execution_count": 66,
     "metadata": {},
     "output_type": "execute_result"
    }
   ],
   "source": [
    "regs_out3 = ports.apply(reg_output3)\n",
    "regs_out3"
   ]
  },
  {
   "cell_type": "code",
   "execution_count": 67,
   "metadata": {},
   "outputs": [
    {
     "data": {
      "text/plain": [
       "0.001998650354322511"
      ]
     },
     "execution_count": 67,
     "metadata": {},
     "output_type": "execute_result"
    }
   ],
   "source": [
    "regs_out3.loc['alpha'].abs().mean()"
   ]
  },
  {
   "cell_type": "markdown",
   "metadata": {},
   "source": [
    "From this criterion, CAPM fits best."
   ]
  },
  {
   "cell_type": "markdown",
   "metadata": {},
   "source": [
    "### 3)"
   ]
  },
  {
   "cell_type": "markdown",
   "metadata": {},
   "source": [
    "Since AQR4 performed substatially better than the 5 factor model, and also better than the FF 3 factor model, it could be argued that momentum is an important factor.\n",
    "\n",
    "CMA seems to not be very important, as its addition increased the MAE of the alphas. Meanwhile, MKT seems to be by far the most important factor, since the CAPM alone was able to find alphas that give very small MAE."
   ]
  },
  {
   "cell_type": "markdown",
   "metadata": {},
   "source": [
    "### 4)"
   ]
  },
  {
   "cell_type": "code",
   "execution_count": 74,
   "metadata": {},
   "outputs": [
    {
     "data": {
      "text/plain": [
       "CAPM    0.526107\n",
       "FF3     0.571484\n",
       "FF5     0.595951\n",
       "dtype: float64"
      ]
     },
     "execution_count": 74,
     "metadata": {},
     "output_type": "execute_result"
    }
   ],
   "source": [
    "pd.Series(\n",
    "data=[\n",
    "regs_out1.loc['R2'].mean(),\n",
    "regs_out3.loc['R2'].mean(),\n",
    "regs_out5.loc['R2'].mean()],\n",
    "index= ['CAPM', 'FF3', 'FF5'])"
   ]
  },
  {
   "cell_type": "markdown",
   "metadata": {},
   "source": [
    "The $R^2$ values are not very high, making them unsuitable for LFD and hedging"
   ]
  },
  {
   "cell_type": "code",
   "execution_count": 81,
   "metadata": {},
   "outputs": [],
   "source": [
    "def reg_betas(x, factors):\n",
    "    a = sm.OLS(x, sm.add_constant(factors)).fit()\n",
    "    return a.params"
   ]
  },
  {
   "cell_type": "code",
   "execution_count": 109,
   "metadata": {},
   "outputs": [],
   "source": [
    "reg_betas1 = lambda x : reg_betas(x, factors1)\n",
    "reg_betas3 = lambda x : reg_betas(x, factors3)\n",
    "reg_betas4 = lambda x : reg_betas(x, factors4)\n",
    "reg_betas5 = lambda x : reg_betas(x, factors5)"
   ]
  },
  {
   "cell_type": "code",
   "execution_count": 90,
   "metadata": {},
   "outputs": [
    {
     "data": {
      "text/plain": [
       "MKT    0.086096\n",
       "dtype: float64"
      ]
     },
     "execution_count": 90,
     "metadata": {},
     "output_type": "execute_result"
    }
   ],
   "source": [
    "capm_betas = ports.apply(reg_betas1).loc['MKT']\n",
    "sm.OLS(ports.mean() * 12, capm_betas).fit().params"
   ]
  },
  {
   "cell_type": "code",
   "execution_count": 94,
   "metadata": {},
   "outputs": [
    {
     "data": {
      "text/plain": [
       "MKT    0.102214\n",
       "HML   -0.015204\n",
       "SMB   -0.064485\n",
       "dtype: float64"
      ]
     },
     "execution_count": 94,
     "metadata": {},
     "output_type": "execute_result"
    }
   ],
   "source": [
    "ff3_betas = ports.apply(reg_betas3).loc[['MKT','HML','SMB']]\n",
    "sm.OLS(ports.mean() * 12, ff3_betas.T).fit().params"
   ]
  },
  {
   "cell_type": "code",
   "execution_count": 111,
   "metadata": {},
   "outputs": [
    {
     "data": {
      "text/plain": [
       "MKT    0.089125\n",
       "HML   -0.038711\n",
       "RMW    0.043748\n",
       "UMD    0.060747\n",
       "dtype: float64"
      ]
     },
     "execution_count": 111,
     "metadata": {},
     "output_type": "execute_result"
    }
   ],
   "source": [
    "ff4_betas = ports.apply(reg_betas4).loc[['MKT','HML', 'RMW','UMD']]\n",
    "sm.OLS(ports.mean() * 12, ff4_betas.T).fit().params"
   ]
  },
  {
   "cell_type": "code",
   "execution_count": 98,
   "metadata": {},
   "outputs": [
    {
     "data": {
      "text/plain": [
       "MKT    0.096486\n",
       "HML   -0.030994\n",
       "SMB   -0.056991\n",
       "RMW    0.033605\n",
       "CMA   -0.011559\n",
       "dtype: float64"
      ]
     },
     "execution_count": 98,
     "metadata": {},
     "output_type": "execute_result"
    }
   ],
   "source": [
    "ff5_betas = ports.apply(reg_betas5).loc[['MKT','HML','SMB', 'RMW','CMA']]\n",
    "sm.OLS(ports.mean() * 12, ff5_betas.T).fit().params"
   ]
  },
  {
   "cell_type": "code",
   "execution_count": 100,
   "metadata": {},
   "outputs": [
    {
     "data": {
      "text/plain": [
       "MKT    0.086277\n",
       "SMB    0.008319\n",
       "HML    0.025809\n",
       "RMW    0.047096\n",
       "CMA    0.029537\n",
       "UMD    0.062709\n",
       "dtype: float64"
      ]
     },
     "execution_count": 100,
     "metadata": {},
     "output_type": "execute_result"
    }
   ],
   "source": [
    "factors.mean() * 12"
   ]
  },
  {
   "cell_type": "markdown",
   "metadata": {},
   "source": [
    "MKT has consistent values, and so is the case for RMW. SMB, HML and CMA however are not cosistent from the sample mean and cross-sectional risk-premia."
   ]
  },
  {
   "cell_type": "code",
   "execution_count": 113,
   "metadata": {},
   "outputs": [
    {
     "data": {
      "text/plain": [
       "0.08538430702935564"
      ]
     },
     "execution_count": 113,
     "metadata": {},
     "output_type": "execute_result"
    }
   ],
   "source": [
    "sm.OLS(ports.mean() * 12, sm.add_constant(capm_betas)).fit().params['const']"
   ]
  },
  {
   "cell_type": "code",
   "execution_count": 114,
   "metadata": {},
   "outputs": [
    {
     "data": {
      "text/plain": [
       "0.06224499665984369"
      ]
     },
     "execution_count": 114,
     "metadata": {},
     "output_type": "execute_result"
    }
   ],
   "source": [
    "sm.OLS(ports.mean() * 12, sm.add_constant(ff3_betas.T)).fit().params['const']"
   ]
  },
  {
   "cell_type": "code",
   "execution_count": 115,
   "metadata": {},
   "outputs": [
    {
     "data": {
      "text/plain": [
       "0.06939177575580863"
      ]
     },
     "execution_count": 115,
     "metadata": {},
     "output_type": "execute_result"
    }
   ],
   "source": [
    "sm.OLS(ports.mean() * 12, sm.add_constant(ff4_betas.T)).fit().params['const']"
   ]
  },
  {
   "cell_type": "code",
   "execution_count": 116,
   "metadata": {},
   "outputs": [
    {
     "data": {
      "text/plain": [
       "0.05312189072347109"
      ]
     },
     "execution_count": 116,
     "metadata": {},
     "output_type": "execute_result"
    }
   ],
   "source": [
    "sm.OLS(ports.mean() * 12, sm.add_constant(ff5_betas.T)).fit().params['const']"
   ]
  },
  {
   "cell_type": "markdown",
   "metadata": {},
   "source": [
    "The alphas resulting from the cross-sectional regression are much higher"
   ]
  }
 ],
 "metadata": {
  "kernelspec": {
   "display_name": "Python 3 (ipykernel)",
   "language": "python",
   "name": "python3"
  },
  "language_info": {
   "codemirror_mode": {
    "name": "ipython",
    "version": 3
   },
   "file_extension": ".py",
   "mimetype": "text/x-python",
   "name": "python",
   "nbconvert_exporter": "python",
   "pygments_lexer": "ipython3",
   "version": "3.10.6"
  }
 },
 "nbformat": 4,
 "nbformat_minor": 4
}
