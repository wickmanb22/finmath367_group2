{
 "cells": [
  {
   "cell_type": "code",
   "execution_count": 80,
   "metadata": {},
   "outputs": [],
   "source": [
    "import pandas as pd\n",
    "import numpy as np\n",
    "\n",
    "factors_excess_returns_with_dates = pd.read_excel('momentum_data.xlsx', sheet_name='factors (excess returns)')\n",
    "momentum_excess_returns_with_dates = pd.read_excel('momentum_data.xlsx', sheet_name='momentum (excess returns)')\n",
    "deciles_total_returns_with_dates = pd.read_excel('momentum_data.xlsx', sheet_name='deciles (total returns)')\n",
    "size_sorts_total_returns_with_dates = pd.read_excel('momentum_data.xlsx', sheet_name='size_sorts (total returns)')\n",
    "risk_free_rate_with_dates = pd.read_excel('momentum_data.xlsx', sheet_name='risk-free rate')\n",
    "\n",
    "factors_excess_returns = factors_excess_returns_with_dates.set_index('Date')\n",
    "momentum_excess_returns = momentum_excess_returns_with_dates.set_index('Date')\n",
    "deciles_total_returns = deciles_total_returns_with_dates.set_index('Date')\n",
    "size_sorts_total_returns = size_sorts_total_returns_with_dates.set_index('Date')\n",
    "risk_free_rate = risk_free_rate_with_dates.set_index('Date')"
   ]
  },
  {
   "cell_type": "markdown",
   "metadata": {},
   "source": [
    "# Question 2"
   ]
  },
  {
   "cell_type": "markdown",
   "metadata": {},
   "source": [
    "* part 1"
   ]
  },
  {
   "cell_type": "code",
   "execution_count": 81,
   "metadata": {},
   "outputs": [],
   "source": [
    "def performance_summary(df):\n",
    "    annualized_mean = df.mean() * 12\n",
    "    annualized_std = df.std() * np.sqrt(12)\n",
    "    annualized_sharpe = (df.mean() / df.std()) * np.sqrt(12)\n",
    "    skewness = df.skew()\n",
    "    \n",
    "    corr_to_rv = df.corr(factors_excess_returns['HML'])\n",
    "    corr_to_rm = df.corr(factors_excess_returns['MKT'])\n",
    "\n",
    "    return annualized_mean, annualized_std, annualized_sharpe, skewness, corr_to_rv, corr_to_rm \n"
   ]
  },
  {
   "cell_type": "code",
   "execution_count": 82,
   "metadata": {},
   "outputs": [],
   "source": [
    "first_subsample = performance_summary(momentum_excess_returns['UMD'])\n",
    "second_subsample = performance_summary(momentum_excess_returns[:'1993']['UMD'])\n",
    "third_subsample = performance_summary(momentum_excess_returns['1994':'2008']['UMD'])\n",
    "fourth_subsample = performance_summary(momentum_excess_returns['2009':'2024']['UMD'])"
   ]
  },
  {
   "cell_type": "code",
   "execution_count": 83,
   "metadata": {},
   "outputs": [
    {
     "data": {
      "text/html": [
       "<div>\n",
       "<style scoped>\n",
       "    .dataframe tbody tr th:only-of-type {\n",
       "        vertical-align: middle;\n",
       "    }\n",
       "\n",
       "    .dataframe tbody tr th {\n",
       "        vertical-align: top;\n",
       "    }\n",
       "\n",
       "    .dataframe thead th {\n",
       "        text-align: right;\n",
       "    }\n",
       "</style>\n",
       "<table border=\"1\" class=\"dataframe\">\n",
       "  <thead>\n",
       "    <tr style=\"text-align: right;\">\n",
       "      <th></th>\n",
       "      <th>mean</th>\n",
       "      <th>vol</th>\n",
       "      <th>sharpe</th>\n",
       "      <th>skewness</th>\n",
       "      <th>corr to r^m</th>\n",
       "      <th>corr to r^v</th>\n",
       "    </tr>\n",
       "    <tr>\n",
       "      <th>Subsample</th>\n",
       "      <th></th>\n",
       "      <th></th>\n",
       "      <th></th>\n",
       "      <th></th>\n",
       "      <th></th>\n",
       "      <th></th>\n",
       "    </tr>\n",
       "  </thead>\n",
       "  <tbody>\n",
       "    <tr>\n",
       "      <th>1927-2004</th>\n",
       "      <td>0.075328</td>\n",
       "      <td>0.162508</td>\n",
       "      <td>0.463534</td>\n",
       "      <td>-2.990493</td>\n",
       "      <td>-0.406410</td>\n",
       "      <td>-0.344284</td>\n",
       "    </tr>\n",
       "    <tr>\n",
       "      <th>1927-1993</th>\n",
       "      <td>0.090081</td>\n",
       "      <td>0.160003</td>\n",
       "      <td>0.562992</td>\n",
       "      <td>-3.808207</td>\n",
       "      <td>-0.495002</td>\n",
       "      <td>-0.362496</td>\n",
       "    </tr>\n",
       "    <tr>\n",
       "      <th>1994-2008</th>\n",
       "      <td>0.104373</td>\n",
       "      <td>0.175551</td>\n",
       "      <td>0.594548</td>\n",
       "      <td>-0.582038</td>\n",
       "      <td>-0.129361</td>\n",
       "      <td>-0.234519</td>\n",
       "    </tr>\n",
       "    <tr>\n",
       "      <th>2009-2024</th>\n",
       "      <td>-0.015092</td>\n",
       "      <td>0.158467</td>\n",
       "      <td>-0.095238</td>\n",
       "      <td>-2.691022</td>\n",
       "      <td>-0.320924</td>\n",
       "      <td>-0.367588</td>\n",
       "    </tr>\n",
       "  </tbody>\n",
       "</table>\n",
       "</div>"
      ],
      "text/plain": [
       "               mean       vol    sharpe  skewness  corr to r^m  corr to r^v\n",
       "Subsample                                                                  \n",
       "1927-2004  0.075328  0.162508  0.463534 -2.990493    -0.406410    -0.344284\n",
       "1927-1993  0.090081  0.160003  0.562992 -3.808207    -0.495002    -0.362496\n",
       "1994-2008  0.104373  0.175551  0.594548 -0.582038    -0.129361    -0.234519\n",
       "2009-2024 -0.015092  0.158467 -0.095238 -2.691022    -0.320924    -0.367588"
      ]
     },
     "execution_count": 83,
     "metadata": {},
     "output_type": "execute_result"
    }
   ],
   "source": [
    "pd.DataFrame({'Subsample':['1927-2004','1927-1993','1994-2008','2009-2024'], 'mean':[first_subsample[0], second_subsample[0], third_subsample[0], fourth_subsample[0]], 'vol':[first_subsample[1], second_subsample[1], third_subsample[1], fourth_subsample[1]], 'sharpe':[first_subsample[2], second_subsample[2], third_subsample[2], fourth_subsample[2]], 'skewness': [first_subsample[3], second_subsample[3], third_subsample[3], fourth_subsample[3]], 'corr to r^m': [first_subsample[4], second_subsample[4], third_subsample[4], fourth_subsample[4]], 'corr to r^v':[first_subsample[5], second_subsample[5], third_subsample[5], fourth_subsample[5]]}).set_index('Subsample')"
   ]
  },
  {
   "cell_type": "markdown",
   "metadata": {},
   "source": [
    "Statistics in the first three subsamples have been similar, but the sharpe ratio has decreased significantly in the last subsample."
   ]
  },
  {
   "cell_type": "markdown",
   "metadata": {},
   "source": [
    "Momentum can very well be an important part of the portfolio with near 0 returns due to the fact that it has negative correlation with r^m and with r^v, so it can serve as a very good hedge for a portfolio."
   ]
  },
  {
   "cell_type": "markdown",
   "metadata": {},
   "source": [
    "* Part 2"
   ]
  },
  {
   "cell_type": "code",
   "execution_count": 84,
   "metadata": {},
   "outputs": [],
   "source": [
    "r_mom_uff = 0.5 * (size_sorts_total_returns['BIG HiPRIOR'] + size_sorts_total_returns['SMALL HiPRIOR']) - risk_free_rate['RF']\n",
    "r_mom_u = (1/3) * (deciles_total_returns['PRIOR 8'] + deciles_total_returns['PRIOR 9'] + deciles_total_returns['Hi PRIOR']) - risk_free_rate['RF']"
   ]
  },
  {
   "cell_type": "code",
   "execution_count": 85,
   "metadata": {},
   "outputs": [],
   "source": [
    "table2_subsample_1 = performance_summary(momentum_excess_returns['1994':]['UMD'])\n",
    "table2_subsample_2 = performance_summary(r_mom_uff['1994':])"
   ]
  },
  {
   "cell_type": "code",
   "execution_count": 86,
   "metadata": {},
   "outputs": [
    {
     "data": {
      "text/html": [
       "<div>\n",
       "<style scoped>\n",
       "    .dataframe tbody tr th:only-of-type {\n",
       "        vertical-align: middle;\n",
       "    }\n",
       "\n",
       "    .dataframe tbody tr th {\n",
       "        vertical-align: top;\n",
       "    }\n",
       "\n",
       "    .dataframe thead th {\n",
       "        text-align: right;\n",
       "    }\n",
       "</style>\n",
       "<table border=\"1\" class=\"dataframe\">\n",
       "  <thead>\n",
       "    <tr style=\"text-align: right;\">\n",
       "      <th></th>\n",
       "      <th>mean</th>\n",
       "      <th>vol</th>\n",
       "      <th>sharpe</th>\n",
       "      <th>skewness</th>\n",
       "      <th>corr to r^m</th>\n",
       "      <th>corr to r^v</th>\n",
       "    </tr>\n",
       "    <tr>\n",
       "      <th>1994-2024</th>\n",
       "      <th></th>\n",
       "      <th></th>\n",
       "      <th></th>\n",
       "      <th></th>\n",
       "      <th></th>\n",
       "      <th></th>\n",
       "    </tr>\n",
       "  </thead>\n",
       "  <tbody>\n",
       "    <tr>\n",
       "      <th>Long-and-Short</th>\n",
       "      <td>0.043184</td>\n",
       "      <td>0.167682</td>\n",
       "      <td>0.257534</td>\n",
       "      <td>-1.445951</td>\n",
       "      <td>-0.215225</td>\n",
       "      <td>-0.306180</td>\n",
       "    </tr>\n",
       "    <tr>\n",
       "      <th>Long-Only</th>\n",
       "      <td>0.117195</td>\n",
       "      <td>0.178410</td>\n",
       "      <td>0.656885</td>\n",
       "      <td>-0.444802</td>\n",
       "      <td>-0.118954</td>\n",
       "      <td>0.903581</td>\n",
       "    </tr>\n",
       "  </tbody>\n",
       "</table>\n",
       "</div>"
      ],
      "text/plain": [
       "                    mean       vol    sharpe  skewness  corr to r^m  \\\n",
       "1994-2024                                                             \n",
       "Long-and-Short  0.043184  0.167682  0.257534 -1.445951    -0.215225   \n",
       "Long-Only       0.117195  0.178410  0.656885 -0.444802    -0.118954   \n",
       "\n",
       "                corr to r^v  \n",
       "1994-2024                    \n",
       "Long-and-Short    -0.306180  \n",
       "Long-Only          0.903581  "
      ]
     },
     "execution_count": 86,
     "metadata": {},
     "output_type": "execute_result"
    }
   ],
   "source": [
    "table_2_df = pd.DataFrame({'1994-2024':['Long-and-Short', 'Long-Only'], 'mean':[table2_subsample_1[0], table2_subsample_2[0]], 'vol':[table2_subsample_1[1], table2_subsample_2[1]], 'sharpe':[table2_subsample_1[2], table2_subsample_2[2]], 'skewness': [table2_subsample_1[3], table2_subsample_2[3]], 'corr to r^m': [table2_subsample_1[4], table2_subsample_2[4]], 'corr to r^v':[table2_subsample_1[5], table2_subsample_2[5]]}).set_index('1994-2024')\n",
    "table_2_df"
   ]
  },
  {
   "cell_type": "markdown",
   "metadata": {},
   "source": [
    "Yes, the mean is higher, the volatility is slightly higher, and the sharpe ratio is much higher. So, with respect to only mean, volatility, and the Sharpe Ratio, the long-only portfolio is just as attractive as the long-and-short portfolio."
   ]
  },
  {
   "cell_type": "markdown",
   "metadata": {},
   "source": [
    "No, it is not as diversifying. It is highly correlated with the value factor."
   ]
  },
  {
   "cell_type": "code",
   "execution_count": 87,
   "metadata": {},
   "outputs": [],
   "source": [
    "cumprod_r_mom_uff = (1+r_mom_uff['1994':]).cumprod()\n",
    "cumprod_momentum_excess_returns = (1+momentum_excess_returns['1994':]['UMD']).cumprod()"
   ]
  },
  {
   "cell_type": "code",
   "execution_count": 88,
   "metadata": {},
   "outputs": [
    {
     "data": {
      "image/png": "[encoded data removed]",
      "text/plain": [
       "<Figure size 1000x600 with 1 Axes>"
      ]
     },
     "metadata": {},
     "output_type": "display_data"
    }
   ],
   "source": [
    "import matplotlib.pyplot as plt\n",
    "\n",
    "plt.figure(figsize=(10, 6))\n",
    "plt.plot(cumprod_r_mom_uff.index, cumprod_r_mom_uff, label=\"Long-Only Momentum\")\n",
    "plt.plot(cumprod_momentum_excess_returns.index, cumprod_momentum_excess_returns, label=\"Long-and-Short Momentum\")\n",
    "\n",
    "plt.xlabel(\"Date\")\n",
    "plt.ylabel(\"Cumulative Returns\")\n",
    "plt.title(\"Cumulative Returns of Long-Only and Long-and-Short Momentum Strategies\")\n",
    "plt.legend()\n",
    "plt.grid(True)\n",
    "plt.show()"
   ]
  },
  {
   "cell_type": "markdown",
   "metadata": {},
   "source": [
    "* Part 3"
   ]
  },
  {
   "cell_type": "code",
   "execution_count": 89,
   "metadata": {},
   "outputs": [],
   "source": [
    "r_mom_d1 = deciles_total_returns['Hi PRIOR'] - deciles_total_returns['Lo PRIOR']\n",
    "r_mom_d3 = ((1/3) * (deciles_total_returns['PRIOR 8'] + deciles_total_returns['PRIOR 9'] + deciles_total_returns['Hi PRIOR'])) - ((1/3) * (deciles_total_returns['Lo PRIOR'] + deciles_total_returns['PRIOR 2'] + deciles_total_returns['PRIOR 3']))\n",
    "r_mom_d5 = ((1/5) * (deciles_total_returns['PRIOR 6'] + deciles_total_returns['PRIOR 7'] + deciles_total_returns['PRIOR 8'] + deciles_total_returns['PRIOR 9'] + deciles_total_returns['Hi PRIOR'])) - ((1/5) * (deciles_total_returns['Lo PRIOR'] + deciles_total_returns['PRIOR 2'] + deciles_total_returns['PRIOR 3'] + deciles_total_returns['PRIOR 4'] + deciles_total_returns['PRIOR 5']))"
   ]
  },
  {
   "cell_type": "code",
   "execution_count": 90,
   "metadata": {},
   "outputs": [],
   "source": [
    "table3_subsample_1 = performance_summary(r_mom_d1['1994':])\n",
    "table3_subsample_2 = performance_summary(r_mom_d3['1994':])\n",
    "table3_subsample_3 = performance_summary(r_mom_d5['1994':])"
   ]
  },
  {
   "cell_type": "code",
   "execution_count": 91,
   "metadata": {},
   "outputs": [
    {
     "data": {
      "text/html": [
       "<div>\n",
       "<style scoped>\n",
       "    .dataframe tbody tr th:only-of-type {\n",
       "        vertical-align: middle;\n",
       "    }\n",
       "\n",
       "    .dataframe tbody tr th {\n",
       "        vertical-align: top;\n",
       "    }\n",
       "\n",
       "    .dataframe thead th {\n",
       "        text-align: right;\n",
       "    }\n",
       "</style>\n",
       "<table border=\"1\" class=\"dataframe\">\n",
       "  <thead>\n",
       "    <tr style=\"text-align: right;\">\n",
       "      <th></th>\n",
       "      <th>mean</th>\n",
       "      <th>vol</th>\n",
       "      <th>sharpe</th>\n",
       "      <th>skewness</th>\n",
       "      <th>corr to r^m</th>\n",
       "      <th>corr to r^v</th>\n",
       "    </tr>\n",
       "    <tr>\n",
       "      <th>1994-2024</th>\n",
       "      <th></th>\n",
       "      <th></th>\n",
       "      <th></th>\n",
       "      <th></th>\n",
       "      <th></th>\n",
       "      <th></th>\n",
       "    </tr>\n",
       "  </thead>\n",
       "  <tbody>\n",
       "    <tr>\n",
       "      <th>R_mom_d1</th>\n",
       "      <td>0.082010</td>\n",
       "      <td>0.299035</td>\n",
       "      <td>0.274248</td>\n",
       "      <td>-1.304629</td>\n",
       "      <td>-0.233463</td>\n",
       "      <td>-0.319715</td>\n",
       "    </tr>\n",
       "    <tr>\n",
       "      <th>R_mom_d3</th>\n",
       "      <td>0.028551</td>\n",
       "      <td>0.193383</td>\n",
       "      <td>0.147638</td>\n",
       "      <td>-1.345002</td>\n",
       "      <td>-0.211472</td>\n",
       "      <td>-0.361659</td>\n",
       "    </tr>\n",
       "    <tr>\n",
       "      <th>R_mom_d5</th>\n",
       "      <td>0.016411</td>\n",
       "      <td>0.133990</td>\n",
       "      <td>0.122480</td>\n",
       "      <td>-1.415925</td>\n",
       "      <td>-0.212234</td>\n",
       "      <td>-0.348584</td>\n",
       "    </tr>\n",
       "  </tbody>\n",
       "</table>\n",
       "</div>"
      ],
      "text/plain": [
       "               mean       vol    sharpe  skewness  corr to r^m  corr to r^v\n",
       "1994-2024                                                                  \n",
       "R_mom_d1   0.082010  0.299035  0.274248 -1.304629    -0.233463    -0.319715\n",
       "R_mom_d3   0.028551  0.193383  0.147638 -1.345002    -0.211472    -0.361659\n",
       "R_mom_d5   0.016411  0.133990  0.122480 -1.415925    -0.212234    -0.348584"
      ]
     },
     "execution_count": 91,
     "metadata": {},
     "output_type": "execute_result"
    }
   ],
   "source": [
    "pd.DataFrame({'1994-2024':['R_mom_d1','R_mom_d3','R_mom_d5'], 'mean':[table3_subsample_1[0], table3_subsample_2[0], table3_subsample_3[0]], 'vol':[table3_subsample_1[1], table3_subsample_2[1], table3_subsample_3[1]], 'sharpe':[table3_subsample_1[2], table3_subsample_2[2], table3_subsample_3[2]], 'skewness': [table3_subsample_1[3], table3_subsample_2[3], table3_subsample_3[3]], 'corr to r^m': [table3_subsample_1[4], table3_subsample_2[4], table3_subsample_3[4]], 'corr to r^v':[table3_subsample_1[5], table3_subsample_2[5], table3_subsample_3[5]]}).set_index('1994-2024')"
   ]
  },
  {
   "cell_type": "markdown",
   "metadata": {},
   "source": [
    "Yes, they do line up. The 5-decile construction has the lowest sharpe ratio out of the three, but it is made up for the fact that less of the portfolio will have to be adjusted on a monthly basis, meaning that transaction costs will be lower with the strategy. "
   ]
  },
  {
   "cell_type": "markdown",
   "metadata": {},
   "source": [
    "It should consider using a 5-decile construction. Using a 1-decile construction, despite the higher sharpe ratio, it would lead to much higher transaction costs, which comes from adjusting a larger portion of the portfolio every month. "
   ]
  },
  {
   "cell_type": "code",
   "execution_count": 93,
   "metadata": {},
   "outputs": [
    {
     "data": {
      "image/png": "[encoded data removed]",
      "text/plain": [
       "<Figure size 800x500 with 1 Axes>"
      ]
     },
     "metadata": {},
     "output_type": "display_data"
    }
   ],
   "source": [
    "x = np.arange(len(table2_subsample_1)) \n",
    "width = 0.35  \n",
    "\n",
    "plt.figure(figsize=(8, 5))\n",
    "plt.bar(x - width/2, table2_subsample_1, width, label='Fama_French_Construction')\n",
    "plt.bar(x + width/2, table3_subsample_2, width, label='r_mom_D3')\n",
    "\n",
    "# Adding labels and title\n",
    "plt.xlabel('Category')\n",
    "plt.ylabel('Values')\n",
    "plt.title('Bar Plot of Two Lists')\n",
    "plt.xticks(x, [f\"{i}\" for i in table_2_df.columns])\n",
    "plt.legend()\n",
    "plt.grid(True, axis='y', linestyle='--', alpha=0.7)\n",
    "plt.show()"
   ]
  },
  {
   "cell_type": "markdown",
   "metadata": {},
   "source": [
    "Yes, the two constructions are very similar."
   ]
  },
  {
   "cell_type": "markdown",
   "metadata": {},
   "source": [
    "* Part 4"
   ]
  },
  {
   "cell_type": "code",
   "execution_count": 95,
   "metadata": {},
   "outputs": [],
   "source": [
    "r_mom_s = size_sorts_total_returns['SMALL HiPRIOR'] - size_sorts_total_returns['SMALL LoPRIOR']\n",
    "r_mom_b = size_sorts_total_returns['BIG HiPRIOR'] - size_sorts_total_returns['BIG LoPRIOR']\n",
    "r_mom_ff = momentum_excess_returns['1994':]['UMD']"
   ]
  },
  {
   "cell_type": "code",
   "execution_count": 96,
   "metadata": {},
   "outputs": [],
   "source": [
    "table_four_row_1 = performance_summary(r_mom_ff)\n",
    "table_four_row_2 = performance_summary(r_mom_s['1994':])\n",
    "table_four_row_3 = performance_summary(r_mom_b['1994':])"
   ]
  },
  {
   "cell_type": "code",
   "execution_count": 97,
   "metadata": {},
   "outputs": [
    {
     "data": {
      "text/html": [
       "<div>\n",
       "<style scoped>\n",
       "    .dataframe tbody tr th:only-of-type {\n",
       "        vertical-align: middle;\n",
       "    }\n",
       "\n",
       "    .dataframe tbody tr th {\n",
       "        vertical-align: top;\n",
       "    }\n",
       "\n",
       "    .dataframe thead th {\n",
       "        text-align: right;\n",
       "    }\n",
       "</style>\n",
       "<table border=\"1\" class=\"dataframe\">\n",
       "  <thead>\n",
       "    <tr style=\"text-align: right;\">\n",
       "      <th></th>\n",
       "      <th>mean</th>\n",
       "      <th>vol</th>\n",
       "      <th>sharpe</th>\n",
       "      <th>skewness</th>\n",
       "      <th>corr to r^m</th>\n",
       "    </tr>\n",
       "    <tr>\n",
       "      <th>1994-2024</th>\n",
       "      <th></th>\n",
       "      <th></th>\n",
       "      <th></th>\n",
       "      <th></th>\n",
       "      <th></th>\n",
       "    </tr>\n",
       "  </thead>\n",
       "  <tbody>\n",
       "    <tr>\n",
       "      <th>r_mom_ff</th>\n",
       "      <td>0.043184</td>\n",
       "      <td>0.167682</td>\n",
       "      <td>0.257534</td>\n",
       "      <td>-1.445951</td>\n",
       "      <td>-0.215225</td>\n",
       "    </tr>\n",
       "    <tr>\n",
       "      <th>r_mom_s</th>\n",
       "      <td>0.063200</td>\n",
       "      <td>0.169633</td>\n",
       "      <td>0.372569</td>\n",
       "      <td>-1.763649</td>\n",
       "      <td>-0.148512</td>\n",
       "    </tr>\n",
       "    <tr>\n",
       "      <th>r_mom_b</th>\n",
       "      <td>0.023177</td>\n",
       "      <td>0.182458</td>\n",
       "      <td>0.127028</td>\n",
       "      <td>-0.879114</td>\n",
       "      <td>-0.257523</td>\n",
       "    </tr>\n",
       "  </tbody>\n",
       "</table>\n",
       "</div>"
      ],
      "text/plain": [
       "               mean       vol    sharpe  skewness  corr to r^m\n",
       "1994-2024                                                     \n",
       "r_mom_ff   0.043184  0.167682  0.257534 -1.445951    -0.215225\n",
       "r_mom_s    0.063200  0.169633  0.372569 -1.763649    -0.148512\n",
       "r_mom_b    0.023177  0.182458  0.127028 -0.879114    -0.257523"
      ]
     },
     "execution_count": 97,
     "metadata": {},
     "output_type": "execute_result"
    }
   ],
   "source": [
    "pd.DataFrame({'1994-2024':['r_mom_ff','r_mom_s','r_mom_b'], 'mean':[table_four_row_1[0], table_four_row_2[0], table_four_row_3[0]], 'vol':[table_four_row_1[1], table_four_row_2[1], table_four_row_3[1]], 'sharpe':[table_four_row_1[2], table_four_row_2[2], table_four_row_3[2]], 'skewness': [table_four_row_1[3], table_four_row_2[3], table_four_row_3[3]], 'corr to r^m': [table_four_row_1[4], table_four_row_2[4], table_four_row_3[4]]}).set_index('1994-2024')"
   ]
  },
  {
   "cell_type": "markdown",
   "metadata": {},
   "source": [
    "Yes, the momentum strategy with big stocks still delivers positive returns with comparable risk. The sharpe is less, but it appears to still be a viable strategy."
   ]
  },
  {
   "cell_type": "markdown",
   "metadata": {},
   "source": [
    "* Part 5"
   ]
  },
  {
   "cell_type": "markdown",
   "metadata": {},
   "source": [
    "I believe that the AQR retail product accurately captures the important features originally given by the Fama-French construction of momentum. An interesting modification would be to see how many of the stocks that leave the 5-decile momentum level reenter it in the next period. If that is the case, one could find a means of keeping these stocks in the portfolio (and only then remove them after another month of sub-par momentum performance) in an attempt to lower transaction costs."
   ]
  },
  {
   "cell_type": "markdown",
   "metadata": {},
   "source": [
    "# Question 4"
   ]
  },
  {
   "cell_type": "code",
   "execution_count": 99,
   "metadata": {},
   "outputs": [],
   "source": [
    "barnstable_data_with_dates = pd.read_excel('barnstable_analysis_data.xlsx', sheet_name = 'data')\n",
    "barnstable_data = barnstable_data_with_dates.set_index('date')"
   ]
  },
  {
   "cell_type": "code",
   "execution_count": 100,
   "metadata": {},
   "outputs": [],
   "source": [
    "def performance_summary_2(df):\n",
    "    mean = df.mean() * 12\n",
    "    std = df.std() * np.sqrt(12)\n",
    "\n",
    "    log_mean = np.log(1+df).mean()\n",
    "    log_std = np.log(1+df).std()\n",
    "\n",
    "    return mean, std, log_mean, log_std"
   ]
  },
  {
   "cell_type": "code",
   "execution_count": 102,
   "metadata": {},
   "outputs": [],
   "source": [
    "rm_subsample_1 = performance_summary(barnstable_data['SPX']['1965':'1999'])\n",
    "rm_subsample_2 = performance_summary(barnstable_data['SPX']['2000':])\n",
    "rm_subsample_3 = performance_summary(barnstable_data['SPX'])\n",
    "\n",
    "rm_hat_subsample_1 = performance_summary(barnstable_data['TB1M']['1965':'1999'])\n",
    "rm_hat_subsample_2 = performance_summary(barnstable_data['TB1M']['2000':])\n",
    "rm_hat_subsample_3 = performance_summary(barnstable_data['TB1M'])\n",
    "\n",
    "mkt_subsample_1 = performance_summary(factors_excess_returns['MKT']['1965':'1999'])\n",
    "mkt_subsample_2 = performance_summary(factors_excess_returns['MKT']['2000':])\n",
    "mkt_subsample_3 = performance_summary(factors_excess_returns['MKT'])"
   ]
  },
  {
   "cell_type": "code",
   "execution_count": 104,
   "metadata": {},
   "outputs": [
    {
     "data": {
      "text/html": [
       "<div>\n",
       "<style scoped>\n",
       "    .dataframe tbody tr th:only-of-type {\n",
       "        vertical-align: middle;\n",
       "    }\n",
       "\n",
       "    .dataframe tbody tr th {\n",
       "        vertical-align: top;\n",
       "    }\n",
       "\n",
       "    .dataframe thead th {\n",
       "        text-align: right;\n",
       "    }\n",
       "</style>\n",
       "<table border=\"1\" class=\"dataframe\">\n",
       "  <thead>\n",
       "    <tr style=\"text-align: right;\">\n",
       "      <th></th>\n",
       "      <th>1965-1999 mean</th>\n",
       "      <th>1965-1999 vol</th>\n",
       "      <th>2000-2024 mean</th>\n",
       "      <th>2000-2024 vol</th>\n",
       "      <th>1926-2024 mean</th>\n",
       "      <th>1926-2024 vol</th>\n",
       "    </tr>\n",
       "    <tr>\n",
       "      <th>Asset Returns</th>\n",
       "      <th></th>\n",
       "      <th></th>\n",
       "      <th></th>\n",
       "      <th></th>\n",
       "      <th></th>\n",
       "      <th></th>\n",
       "    </tr>\n",
       "  </thead>\n",
       "  <tbody>\n",
       "    <tr>\n",
       "      <th>rm levels</th>\n",
       "      <td>0.129354</td>\n",
       "      <td>0.149405</td>\n",
       "      <td>0.087283</td>\n",
       "      <td>0.153055</td>\n",
       "      <td>0.115535</td>\n",
       "      <td>0.186777</td>\n",
       "    </tr>\n",
       "    <tr>\n",
       "      <th>rm_hat levels</th>\n",
       "      <td>0.061503</td>\n",
       "      <td>0.007179</td>\n",
       "      <td>0.017200</td>\n",
       "      <td>0.005533</td>\n",
       "      <td>0.031902</td>\n",
       "      <td>0.008516</td>\n",
       "    </tr>\n",
       "    <tr>\n",
       "      <th>rf levels</th>\n",
       "      <td>0.067286</td>\n",
       "      <td>0.155672</td>\n",
       "      <td>0.070461</td>\n",
       "      <td>0.158894</td>\n",
       "      <td>0.081959</td>\n",
       "      <td>0.185019</td>\n",
       "    </tr>\n",
       "    <tr>\n",
       "      <th>rm log</th>\n",
       "      <td>0.865795</td>\n",
       "      <td>-0.349411</td>\n",
       "      <td>0.570273</td>\n",
       "      <td>-0.483852</td>\n",
       "      <td>0.618571</td>\n",
       "      <td>0.320120</td>\n",
       "    </tr>\n",
       "    <tr>\n",
       "      <th>rm_hat log</th>\n",
       "      <td>8.567067</td>\n",
       "      <td>1.419082</td>\n",
       "      <td>3.108591</td>\n",
       "      <td>0.882392</td>\n",
       "      <td>3.745944</td>\n",
       "      <td>1.099154</td>\n",
       "    </tr>\n",
       "    <tr>\n",
       "      <th>rf log</th>\n",
       "      <td>0.432228</td>\n",
       "      <td>-0.493638</td>\n",
       "      <td>0.443444</td>\n",
       "      <td>-0.494480</td>\n",
       "      <td>0.442977</td>\n",
       "      <td>0.154953</td>\n",
       "    </tr>\n",
       "  </tbody>\n",
       "</table>\n",
       "</div>"
      ],
      "text/plain": [
       "               1965-1999 mean  1965-1999 vol  2000-2024 mean  2000-2024 vol  \\\n",
       "Asset Returns                                                                 \n",
       "rm levels            0.129354       0.149405        0.087283       0.153055   \n",
       "rm_hat levels        0.061503       0.007179        0.017200       0.005533   \n",
       "rf levels            0.067286       0.155672        0.070461       0.158894   \n",
       "rm log               0.865795      -0.349411        0.570273      -0.483852   \n",
       "rm_hat log           8.567067       1.419082        3.108591       0.882392   \n",
       "rf log               0.432228      -0.493638        0.443444      -0.494480   \n",
       "\n",
       "               1926-2024 mean  1926-2024 vol  \n",
       "Asset Returns                                 \n",
       "rm levels            0.115535       0.186777  \n",
       "rm_hat levels        0.031902       0.008516  \n",
       "rf levels            0.081959       0.185019  \n",
       "rm log               0.618571       0.320120  \n",
       "rm_hat log           3.745944       1.099154  \n",
       "rf log               0.442977       0.154953  "
      ]
     },
     "execution_count": 104,
     "metadata": {},
     "output_type": "execute_result"
    }
   ],
   "source": [
    "pd.DataFrame({'Asset Returns':['rm levels','rm_hat levels','rf levels', 'rm log', 'rm_hat log','rf log'],'1965-1999 mean':[rm_subsample_1[0], rm_hat_subsample_1[0], mkt_subsample_1[0], rm_subsample_1[2], rm_hat_subsample_1[2], mkt_subsample_1[2]], '1965-1999 vol': [rm_subsample_1[1], rm_hat_subsample_1[1], mkt_subsample_1[1], rm_subsample_1[3], rm_hat_subsample_1[3], mkt_subsample_1[3]], '2000-2024 mean': [rm_subsample_2[0], rm_hat_subsample_2[0], mkt_subsample_2[0], rm_subsample_2[2], rm_hat_subsample_2[2], mkt_subsample_2[2]], '2000-2024 vol': [rm_subsample_2[1], rm_hat_subsample_2[1], mkt_subsample_2[1], rm_subsample_2[3], rm_hat_subsample_2[3], mkt_subsample_2[3]], '1926-2024 mean': [rm_subsample_3[0], rm_hat_subsample_3[0], mkt_subsample_3[0], rm_subsample_3[2], rm_hat_subsample_3[2], mkt_subsample_3[2]], '1926-2024 vol': [rm_subsample_3[1], rm_hat_subsample_3[1], mkt_subsample_3[1], rm_subsample_3[3], rm_hat_subsample_3[3], mkt_subsample_3[3]]}).set_index('Asset Returns')"
   ]
  },
  {
   "cell_type": "markdown",
   "metadata": {},
   "source": [
    "The full-sample returns have higher mean returns than the 2000-2024 sub-sample, but tend to have lower returns than the 1965-1999 sub-sample. Across the full sample and the sub-sample, the volatility is very similar\n",
    "\n",
    "The log stats scale the level stats larger across both mean and vol."
   ]
  },
  {
   "cell_type": "markdown",
   "metadata": {},
   "source": [
    "* Part 2"
   ]
  },
  {
   "cell_type": "markdown",
   "metadata": {},
   "source": []
  }
 ],
 "metadata": {
  "kernelspec": {
   "display_name": "finm",
   "language": "python",
   "name": "python3"
  },
  "language_info": {
   "codemirror_mode": {
    "name": "ipython",
    "version": 3
   },
   "file_extension": ".py",
   "mimetype": "text/x-python",
   "name": "python",
   "nbconvert_exporter": "python",
   "pygments_lexer": "ipython3",
   "version": "3.12.1"
  }
 },
 "nbformat": 4,
 "nbformat_minor": 2
}
