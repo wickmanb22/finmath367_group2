{
 "cells": [
  {
   "metadata": {},
   "cell_type": "markdown",
   "source": [
    "## Homework 6\n",
    "#### Fall 2024\n",
    "#### Brian Wickman"
   ],
   "id": "dcd0036aa7d3ef85"
  },
  {
   "metadata": {
    "ExecuteTime": {
     "end_time": "2024-11-08T18:08:23.313502Z",
     "start_time": "2024-11-08T18:08:23.299171Z"
    }
   },
   "cell_type": "code",
   "source": [
    "from cgitb import small\n",
    "\n",
    "from fontTools.misc.cython import returns\n",
    "from numexpr.expressions import long_\n",
    "# Preparation\n",
    "from pure_eval.utils import typing_annotation_types\n",
    "from sklearn.linear_model import LinearRegression\n",
    "import pandas as pd\n",
    "import matplotlib.pyplot as plt\n",
    "import numpy as np\n",
    "import seaborn as sns\n",
    "import statsmodels.api as sm\n",
    "import scipy.stats as stats\n",
    "import warnings\n",
    "\n",
    "from statsmodels.iolib.summary import summary\n",
    "\n",
    "warnings.filterwarnings(\"ignore\")\n",
    "sns.set_theme()\n"
   ],
   "id": "83da2418d6944dcc",
   "outputs": [],
   "execution_count": 10
  },
  {
   "metadata": {},
   "cell_type": "markdown",
   "source": [
    "### 1. The Momentum Product\n",
    "(a)  What is novel about the AQR Momentum product under construction compared to the various momentum investment products already offered?\n",
    "\n",
    "Placeholder.\n",
    "\n",
    "(b) Name three reasons the momentum investment product will not exactly track the momentum index, (i.e. why the strategy will have tracking error).\n",
    "\n",
    "Placeholder.\n",
    "\n",
    "(c) When constructing the momentum portfolio, AQR ranks stocks on their returns from month t−12 through t−2. Why don’t they include the t−1 return in this ranking?\n",
    "\n",
    "Placeholder."
   ],
   "id": "9a67bf0bb4694ec6"
  },
  {
   "metadata": {
    "ExecuteTime": {
     "end_time": "2024-11-08T18:08:23.346100Z",
     "start_time": "2024-11-08T18:08:23.329382Z"
    }
   },
   "cell_type": "code",
   "source": [
    "# Helper functions\n",
    "def summary_stats(return_data, subsample_dates, mkt_factor, hml_factor, annualization = 12):\n",
    "    \"\"\"\n",
    "        Returns the Performance Stats for given set of returns\n",
    "        Inputs:\n",
    "            return_data - DataFrame with Date index and Monthly Returns for different assets/strategies.\n",
    "        Output:\n",
    "            summary_stats - DataFrame with annualized mean return, vol, sharpe ratio, skewness, correlations\n",
    "    \"\"\"\n",
    "    summary_stats = return_data.mean().to_frame('Mean').apply(lambda x: x*annualization)\n",
    "    summary_stats['Volatility'] = return_data.std().apply(lambda x: x*np.sqrt(annualization))\n",
    "    summary_stats['Sharpe Ratio'] = summary_stats['Mean']/summary_stats['Volatility']\n",
    "    summary_stats['Skewness'] = return_data.skew()\n",
    "    \n",
    "    return_data['MKT'] = mkt_factor\n",
    "    return_data['HML'] = hml_factor\n",
    "    corrs = return_data.corr()\n",
    "    summary_stats['Corr(MKT)'] = corrs.iloc[0,1]\n",
    "    summary_stats['Corr(HML)'] = corrs.iloc[0,2]\n",
    "\n",
    "    # label subsample\n",
    "    subsample_years = subsample_dates[0][:4] + '-' + subsample_dates[1][:4]\n",
    "    summary_stats.index = [subsample_years]\n",
    "\n",
    "    return summary_stats"
   ],
   "id": "eecd78304888ca3e",
   "outputs": [],
   "execution_count": 11
  },
  {
   "metadata": {},
   "cell_type": "markdown",
   "source": "### 2. Investigating Momentum (AQR)",
   "id": "23cfa76261d99d87"
  },
  {
   "metadata": {
    "ExecuteTime": {
     "end_time": "2024-11-08T18:08:23.907066Z",
     "start_time": "2024-11-08T18:08:23.440802Z"
    }
   },
   "cell_type": "code",
   "source": [
    "# read data\n",
    "FILEIN = 'data/momentum_data.xlsx'\n",
    "\n",
    "factors = pd.read_excel(FILEIN, sheet_name='factors (excess returns)').set_index('Date')\n",
    "momentum = pd.read_excel(FILEIN, sheet_name='momentum (excess returns)').set_index('Date')\n",
    "deciles = pd.read_excel(FILEIN, sheet_name='deciles (total returns)').set_index('Date')\n",
    "size_momentum = pd.read_excel(FILEIN, sheet_name='size_sorts (total returns)').set_index('Date')\n",
    "rf_rate = pd.read_excel(FILEIN, sheet_name='risk-free rate').set_index('Date')"
   ],
   "id": "4bb8a6721a7279cf",
   "outputs": [],
   "execution_count": 12
  },
  {
   "metadata": {},
   "cell_type": "markdown",
   "source": "#### 2.1. Is momentum still profitable?",
   "id": "4bb137a50efe6c9c"
  },
  {
   "metadata": {
    "ExecuteTime": {
     "end_time": "2024-11-08T18:08:24.047072Z",
     "start_time": "2024-11-08T18:08:24.003233Z"
    }
   },
   "cell_type": "code",
   "source": [
    "subsample_dates = [\n",
    "    ('1927-01-01', '2024-12-31'),\n",
    "    ('1927-01-01', '1993-12-31'),\n",
    "    ('1994-01-01', '2008-12-31'),\n",
    "    ('2009-01-01', '2024-12-31')\n",
    "]\n",
    "\n",
    "subsamples = {}\n",
    "for start_date, end_date in subsample_dates:\n",
    "    mask = (momentum.index >= start_date) & (momentum.index <= end_date)\n",
    "    subsamples[(start_date, end_date)] = momentum.loc[mask]\n",
    "\n",
    "subsample_summary_stats = []\n",
    "for date_range, subsample in subsamples.items():\n",
    "    results = summary_stats(subsample[['UMD']], subsample_dates = date_range, mkt_factor=factors[['MKT']], hml_factor = factors[['HML']])\n",
    "    subsample_summary_stats.append(results.round(4))\n",
    "\n",
    "formatted_results = pd.concat(subsample_summary_stats)\n",
    "print(\"Table 1: Momentum Performance Over Time\")\n",
    "display(formatted_results)\n"
   ],
   "id": "b499fe150bafa685",
   "outputs": [
    {
     "name": "stdout",
     "output_type": "stream",
     "text": [
      "Table 1: Momentum Performance Over Time\n"
     ]
    },
    {
     "data": {
      "text/plain": [
       "             Mean  Volatility  Sharpe Ratio  Skewness  Corr(MKT)  Corr(HML)\n",
       "1927-2024  0.0753      0.1625        0.4635   -2.9905    -0.3443    -0.4064\n",
       "1927-1993  0.0901      0.1600        0.5630   -3.8082    -0.3625    -0.4950\n",
       "1994-2008  0.1044      0.1756        0.5945   -0.5820    -0.2345    -0.1294\n",
       "2009-2024 -0.0151      0.1585       -0.0952   -2.6910    -0.3676    -0.3209"
      ],
      "text/html": [
       "<div>\n",
       "<style scoped>\n",
       "    .dataframe tbody tr th:only-of-type {\n",
       "        vertical-align: middle;\n",
       "    }\n",
       "\n",
       "    .dataframe tbody tr th {\n",
       "        vertical-align: top;\n",
       "    }\n",
       "\n",
       "    .dataframe thead th {\n",
       "        text-align: right;\n",
       "    }\n",
       "</style>\n",
       "<table border=\"1\" class=\"dataframe\">\n",
       "  <thead>\n",
       "    <tr style=\"text-align: right;\">\n",
       "      <th></th>\n",
       "      <th>Mean</th>\n",
       "      <th>Volatility</th>\n",
       "      <th>Sharpe Ratio</th>\n",
       "      <th>Skewness</th>\n",
       "      <th>Corr(MKT)</th>\n",
       "      <th>Corr(HML)</th>\n",
       "    </tr>\n",
       "  </thead>\n",
       "  <tbody>\n",
       "    <tr>\n",
       "      <th>1927-2024</th>\n",
       "      <td>0.0753</td>\n",
       "      <td>0.1625</td>\n",
       "      <td>0.4635</td>\n",
       "      <td>-2.9905</td>\n",
       "      <td>-0.3443</td>\n",
       "      <td>-0.4064</td>\n",
       "    </tr>\n",
       "    <tr>\n",
       "      <th>1927-1993</th>\n",
       "      <td>0.0901</td>\n",
       "      <td>0.1600</td>\n",
       "      <td>0.5630</td>\n",
       "      <td>-3.8082</td>\n",
       "      <td>-0.3625</td>\n",
       "      <td>-0.4950</td>\n",
       "    </tr>\n",
       "    <tr>\n",
       "      <th>1994-2008</th>\n",
       "      <td>0.1044</td>\n",
       "      <td>0.1756</td>\n",
       "      <td>0.5945</td>\n",
       "      <td>-0.5820</td>\n",
       "      <td>-0.2345</td>\n",
       "      <td>-0.1294</td>\n",
       "    </tr>\n",
       "    <tr>\n",
       "      <th>2009-2024</th>\n",
       "      <td>-0.0151</td>\n",
       "      <td>0.1585</td>\n",
       "      <td>-0.0952</td>\n",
       "      <td>-2.6910</td>\n",
       "      <td>-0.3676</td>\n",
       "      <td>-0.3209</td>\n",
       "    </tr>\n",
       "  </tbody>\n",
       "</table>\n",
       "</div>"
      ]
     },
     "metadata": {},
     "output_type": "display_data"
    }
   ],
   "execution_count": 13
  },
  {
   "metadata": {},
   "cell_type": "markdown",
   "source": [
    "#### (1b) Has momentum changed much over time, as seen through these subsample statistics?\n",
    "\n",
    "Yes, momentum produced relatively consistent mean and risk-adjusted excess returns. However, from 2009-2024, momentum's performance strongly declined: the mean excess return was negative which is also reflected in the Sharpe Ratio.\n",
    "\n",
    "#### (1c) Does this data support AQR’s argument that momentum is an important piece of the ideal portfolio? What if mean returns to momentum are in actuality near zero due to transaction costs—would there still be evidence here that momentum is valuable?\n",
    "\n",
    "Even if the momentum factor offers zero excess returns, the factor could provide valuable portfolio diversification. The post-GFC market period has demonstrated low volatility (with the exception of COVID-19), whereas we know that momentum is more viable during periods of market stress as the factor relies on human cognitive biases."
   ],
   "id": "1b698de6c9956bc"
  },
  {
   "metadata": {},
   "cell_type": "markdown",
   "source": "#### 2. Is long-only momentum valuable?",
   "id": "6b018d9524fd6031"
  },
  {
   "metadata": {
    "ExecuteTime": {
     "end_time": "2024-11-08T18:08:24.187834Z",
     "start_time": "2024-11-08T18:08:24.143665Z"
    }
   },
   "cell_type": "code",
   "source": [
    "long_momentum = 1/2 * (size_momentum['BIG HiPRIOR'] + size_momentum['SMALL HiPRIOR']) - rf_rate['RF']\n",
    "long_momentum_df = long_momentum.to_frame(name = 'UMD')\n",
    "\n",
    "# Subsample\n",
    "subsample_start = '1994-01-01'\n",
    "subsample_end = '2024-12-31'\n",
    "long_momentum_subsample = long_momentum_df.loc[subsample_start:subsample_end]\n",
    "\n",
    "# Summary stats\n",
    "subsample_period = (subsample_start, subsample_end)\n",
    "print(\"Table 2a: Long-Only Momentum Performance\")\n",
    "long_subsample_results = summary_stats(long_momentum_subsample[['UMD']], subsample_dates = subsample_period, mkt_factor=factors[['MKT']], hml_factor = factors[['HML']])\n",
    "display(long_subsample_results.round(4))\n",
    "\n",
    "print(\"Table 2b: Long-Short Momentum Performance\")\n",
    "long_short_subsample_results = results = summary_stats(momentum[['UMD']].loc[subsample_start:subsample_end], subsample_dates = subsample_period, mkt_factor=factors[['MKT']], hml_factor = factors[['HML']])\n",
    "display(long_short_subsample_results.round(4))"
   ],
   "id": "518f18f241a4f67f",
   "outputs": [
    {
     "name": "stdout",
     "output_type": "stream",
     "text": [
      "Table 2a: Long-Only Momentum Performance\n"
     ]
    },
    {
     "data": {
      "text/plain": [
       "             Mean  Volatility  Sharpe Ratio  Skewness  Corr(MKT)  Corr(HML)\n",
       "1994-2024  0.1172      0.1784        0.6569   -0.4448     0.9036     -0.119"
      ],
      "text/html": [
       "<div>\n",
       "<style scoped>\n",
       "    .dataframe tbody tr th:only-of-type {\n",
       "        vertical-align: middle;\n",
       "    }\n",
       "\n",
       "    .dataframe tbody tr th {\n",
       "        vertical-align: top;\n",
       "    }\n",
       "\n",
       "    .dataframe thead th {\n",
       "        text-align: right;\n",
       "    }\n",
       "</style>\n",
       "<table border=\"1\" class=\"dataframe\">\n",
       "  <thead>\n",
       "    <tr style=\"text-align: right;\">\n",
       "      <th></th>\n",
       "      <th>Mean</th>\n",
       "      <th>Volatility</th>\n",
       "      <th>Sharpe Ratio</th>\n",
       "      <th>Skewness</th>\n",
       "      <th>Corr(MKT)</th>\n",
       "      <th>Corr(HML)</th>\n",
       "    </tr>\n",
       "  </thead>\n",
       "  <tbody>\n",
       "    <tr>\n",
       "      <th>1994-2024</th>\n",
       "      <td>0.1172</td>\n",
       "      <td>0.1784</td>\n",
       "      <td>0.6569</td>\n",
       "      <td>-0.4448</td>\n",
       "      <td>0.9036</td>\n",
       "      <td>-0.119</td>\n",
       "    </tr>\n",
       "  </tbody>\n",
       "</table>\n",
       "</div>"
      ]
     },
     "metadata": {},
     "output_type": "display_data"
    },
    {
     "name": "stdout",
     "output_type": "stream",
     "text": [
      "Table 2b: Long-Short Momentum Performance\n"
     ]
    },
    {
     "data": {
      "text/plain": [
       "             Mean  Volatility  Sharpe Ratio  Skewness  Corr(MKT)  Corr(HML)\n",
       "1994-2024  0.0432      0.1677        0.2575    -1.446    -0.3062    -0.2152"
      ],
      "text/html": [
       "<div>\n",
       "<style scoped>\n",
       "    .dataframe tbody tr th:only-of-type {\n",
       "        vertical-align: middle;\n",
       "    }\n",
       "\n",
       "    .dataframe tbody tr th {\n",
       "        vertical-align: top;\n",
       "    }\n",
       "\n",
       "    .dataframe thead th {\n",
       "        text-align: right;\n",
       "    }\n",
       "</style>\n",
       "<table border=\"1\" class=\"dataframe\">\n",
       "  <thead>\n",
       "    <tr style=\"text-align: right;\">\n",
       "      <th></th>\n",
       "      <th>Mean</th>\n",
       "      <th>Volatility</th>\n",
       "      <th>Sharpe Ratio</th>\n",
       "      <th>Skewness</th>\n",
       "      <th>Corr(MKT)</th>\n",
       "      <th>Corr(HML)</th>\n",
       "    </tr>\n",
       "  </thead>\n",
       "  <tbody>\n",
       "    <tr>\n",
       "      <th>1994-2024</th>\n",
       "      <td>0.0432</td>\n",
       "      <td>0.1677</td>\n",
       "      <td>0.2575</td>\n",
       "      <td>-1.446</td>\n",
       "      <td>-0.3062</td>\n",
       "      <td>-0.2152</td>\n",
       "    </tr>\n",
       "  </tbody>\n",
       "</table>\n",
       "</div>"
      ]
     },
     "metadata": {},
     "output_type": "display_data"
    }
   ],
   "execution_count": 14
  },
  {
   "metadata": {},
   "cell_type": "markdown",
   "source": [
    "#### (2b) Is long-only momentum as attractive as long-short momentum with respect to mean, volatility, and Sharpe Ratio?\n",
    "\n",
    "Long-only momentum is more attractive during this period with a higher mean and Sharpe ratio.\n",
    "\n",
    "#### (2c)  Is long-only momentum as diversifying as long-short momentum with respect to market and value premia? \n",
    "\n",
    "No, long-only momentum has .904 correlation with the market (which, by construction, makes it uncorrelated with the value factor). These results show that the negative excess returns of the long-short momentum strategy are due to shorting the stocks in the bottom three deciles of momentum, which makes sense as the S&P 500 (including low momentum stocks) performed very well over this subsample.\n"
   ],
   "id": "d1de54949687ed48"
  },
  {
   "metadata": {
    "ExecuteTime": {
     "end_time": "2024-11-08T18:08:24.737838Z",
     "start_time": "2024-11-08T18:08:24.400488Z"
    }
   },
   "cell_type": "code",
   "source": [
    "# cumulative returns (kinda, these are excess returns) of long-short vs long momentum portfolios\n",
    "long_only_cum_returns = (long_momentum_subsample[['UMD']] + 1).cumprod()\n",
    "long_short_cum_returns = (momentum[['UMD']].loc[subsample_start:subsample_end] + 1).cumprod()\n",
    "\n",
    "# Plot\n",
    "plt.figure(figsize=(8, 5))\n",
    "plt.plot(long_only_cum_returns.index, long_only_cum_returns['UMD'], label='Long Only')\n",
    "plt.plot(long_short_cum_returns.index, long_short_cum_returns['UMD'], label='Long-Short')\n",
    "plt.title('Cumulative Returns Comparison (1994-2024)')\n",
    "plt.xlabel('Date')\n",
    "plt.ylabel('Cumulative Returns')\n",
    "plt.legend()\n",
    "plt.show()"
   ],
   "id": "1456aa0cf603010a",
   "outputs": [
    {
     "data": {
      "text/plain": [
       "<Figure size 800x500 with 1 Axes>"
      ],
      "image/png": "[encoded data removed]"
     },
     "metadata": {},
     "output_type": "display_data"
    }
   ],
   "execution_count": 15
  },
  {
   "metadata": {},
   "cell_type": "markdown",
   "source": "#### 3. Is momentum just data-mining or is it a robust strategy?",
   "id": "fe7ddd653120e82b"
  },
  {
   "metadata": {
    "ExecuteTime": {
     "end_time": "2024-11-08T18:08:24.901605Z",
     "start_time": "2024-11-08T18:08:24.854663Z"
    }
   },
   "cell_type": "code",
   "source": [
    "# construct portfolios for robustness (d = decile #)\n",
    "returns_d1 = (deciles['Hi PRIOR'] - deciles['Lo PRIOR']).to_frame('D1')\n",
    "returns_d3 = (1/3)*(deciles[['Hi PRIOR', 'PRIOR 9', 'PRIOR 8']].sum(axis=1) - deciles[['Lo PRIOR', 'PRIOR 2', 'PRIOR 3']].sum(axis=1)).to_frame('D3')\n",
    "returns_d5 = (1/5)*(deciles[['Hi PRIOR', 'PRIOR 9', 'PRIOR 8', 'PRIOR 7', 'PRIOR 6']].sum(axis=1) - deciles[['Lo PRIOR', 'PRIOR 2', 'PRIOR 3', 'PRIOR 4', 'PRIOR 5']].sum(axis=1)).to_frame('D5')\n",
    "\n",
    "# subsample\n",
    "subsample_start = '1994-01-01'\n",
    "subsample_end = '2024-12-31'\n",
    "subsample_period = (subsample_start, subsample_end)\n",
    "\n",
    "decile_portfolios = [returns_d1, returns_d3, returns_d5]\n",
    "decile_summary_stats = []\n",
    "for value in range(3):\n",
    "    tmp_decile_portfolio = decile_portfolios[value].loc[subsample_start:subsample_end].iloc[:,[0]]\n",
    "    decile_results = summary_stats(tmp_decile_portfolio, subsample_dates = subsample_period, mkt_factor=factors[['MKT']], hml_factor = factors[['HML']])\n",
    "    decile_summary_stats.append(decile_results.round(4))\n",
    "\n",
    "decile_formatted_results = pd.concat(decile_summary_stats)\n",
    "decile_formatted_results.index = [\"1st Decile\", \"3rd Decile\", \"5th Decile\"]\n",
    "print(\"Table 3: Robustness of momentum construction (1994 - 2024 subsample)\")\n",
    "display(decile_formatted_results)"
   ],
   "id": "fcddbde4fd158829",
   "outputs": [
    {
     "name": "stdout",
     "output_type": "stream",
     "text": [
      "Table 3: Robustness of momentum construction (1994 - 2024 subsample)\n"
     ]
    },
    {
     "data": {
      "text/plain": [
       "              Mean  Volatility  Sharpe Ratio  Skewness  Corr(MKT)  Corr(HML)\n",
       "1st Decile  0.0820      0.2990        0.2742   -1.3046    -0.3197    -0.2335\n",
       "3rd Decile  0.0286      0.1934        0.1476   -1.3450    -0.3617    -0.2115\n",
       "5th Decile  0.0164      0.1340        0.1225   -1.4159    -0.3486    -0.2122"
      ],
      "text/html": [
       "<div>\n",
       "<style scoped>\n",
       "    .dataframe tbody tr th:only-of-type {\n",
       "        vertical-align: middle;\n",
       "    }\n",
       "\n",
       "    .dataframe tbody tr th {\n",
       "        vertical-align: top;\n",
       "    }\n",
       "\n",
       "    .dataframe thead th {\n",
       "        text-align: right;\n",
       "    }\n",
       "</style>\n",
       "<table border=\"1\" class=\"dataframe\">\n",
       "  <thead>\n",
       "    <tr style=\"text-align: right;\">\n",
       "      <th></th>\n",
       "      <th>Mean</th>\n",
       "      <th>Volatility</th>\n",
       "      <th>Sharpe Ratio</th>\n",
       "      <th>Skewness</th>\n",
       "      <th>Corr(MKT)</th>\n",
       "      <th>Corr(HML)</th>\n",
       "    </tr>\n",
       "  </thead>\n",
       "  <tbody>\n",
       "    <tr>\n",
       "      <th>1st Decile</th>\n",
       "      <td>0.0820</td>\n",
       "      <td>0.2990</td>\n",
       "      <td>0.2742</td>\n",
       "      <td>-1.3046</td>\n",
       "      <td>-0.3197</td>\n",
       "      <td>-0.2335</td>\n",
       "    </tr>\n",
       "    <tr>\n",
       "      <th>3rd Decile</th>\n",
       "      <td>0.0286</td>\n",
       "      <td>0.1934</td>\n",
       "      <td>0.1476</td>\n",
       "      <td>-1.3450</td>\n",
       "      <td>-0.3617</td>\n",
       "      <td>-0.2115</td>\n",
       "    </tr>\n",
       "    <tr>\n",
       "      <th>5th Decile</th>\n",
       "      <td>0.0164</td>\n",
       "      <td>0.1340</td>\n",
       "      <td>0.1225</td>\n",
       "      <td>-1.4159</td>\n",
       "      <td>-0.3486</td>\n",
       "      <td>-0.2122</td>\n",
       "    </tr>\n",
       "  </tbody>\n",
       "</table>\n",
       "</div>"
      ]
     },
     "metadata": {},
     "output_type": "display_data"
    }
   ],
   "execution_count": 16
  },
  {
   "metadata": {},
   "cell_type": "markdown",
   "source": [
    "#### (b) Do the tradeoffs between the 1-decile, 3-decile, and 5-decile constructions line up with the theoretical tradeoffs we discussed in the lecture?\n",
    "Review lecture takeaways.\n",
    "#### (c) Should AQR’s retail product consider using a 1-decile or 5-decile construction?\n",
    "Placeholder.\n",
    "#### (d) Does the 3-decile construction have similar stats to the Fama-French construction in (1).\n",
    "Placeholder."
   ],
   "id": "b9ce26c207100e59"
  },
  {
   "metadata": {},
   "cell_type": "markdown",
   "source": "#### 4. Does implementing momentum require trading lots of small stocks—thus causing even larger trading costs?",
   "id": "679726f92ce8d48e"
  },
  {
   "metadata": {
    "ExecuteTime": {
     "end_time": "2024-11-08T18:08:24.981651Z",
     "start_time": "2024-11-08T18:08:24.940531Z"
    }
   },
   "cell_type": "code",
   "source": [
    "# construct portfolios for robustness (d = decile #)\n",
    "all_stocks = (size_momentum[['SMALL HiPRIOR', 'BIG HiPRIOR']].sum(axis=1) - size_momentum[['SMALL LoPRIOR', 'BIG LoPRIOR']].sum(axis=1)).to_frame('All')\n",
    "small_stocks = (size_momentum['SMALL HiPRIOR'] - size_momentum['SMALL LoPRIOR']).to_frame('Small')\n",
    "big_stocks = (size_momentum['BIG HiPRIOR'] - size_momentum['BIG LoPRIOR']).to_frame('Big')\n",
    "\n",
    "# subsample\n",
    "subsample_start = '1994-01-01'\n",
    "subsample_end = '2024-12-31'\n",
    "subsample_period = (subsample_start, subsample_end)\n",
    "\n",
    "size_portfolios = [all_stocks, small_stocks, big_stocks]\n",
    "size_summary_stats = []\n",
    "for value in range(3):\n",
    "    tmp_size_portfolio = size_portfolios[value].loc[subsample_start:subsample_end].iloc[:,[0]]\n",
    "    size_results = summary_stats(tmp_size_portfolio, subsample_dates = subsample_period, mkt_factor=factors[['MKT']], hml_factor = factors[['HML']])\n",
    "    size_summary_stats.append(size_results.round(4))\n",
    "\n",
    "size_formatted_results = pd.concat(size_summary_stats)\n",
    "size_formatted_results.index = [\"All\", \"Small\", \"Big\"]\n",
    "print(\"Table 4: Momentum of small and big stocks (1994 - 2024 subsample)\")\n",
    "display(size_formatted_results)"
   ],
   "id": "7c5de1a52ab4fe8e",
   "outputs": [
    {
     "name": "stdout",
     "output_type": "stream",
     "text": [
      "Table 4: Momentum of small and big stocks (1994 - 2024 subsample)\n"
     ]
    },
    {
     "data": {
      "text/plain": [
       "         Mean  Volatility  Sharpe Ratio  Skewness  Corr(MKT)  Corr(HML)\n",
       "All    0.0864      0.3354        0.2576   -1.4461    -0.3062    -0.2152\n",
       "Small  0.0632      0.1696        0.3726   -1.7636    -0.3040    -0.1485\n",
       "Big    0.0232      0.1825        0.1270   -0.8791    -0.2802    -0.2575"
      ],
      "text/html": [
       "<div>\n",
       "<style scoped>\n",
       "    .dataframe tbody tr th:only-of-type {\n",
       "        vertical-align: middle;\n",
       "    }\n",
       "\n",
       "    .dataframe tbody tr th {\n",
       "        vertical-align: top;\n",
       "    }\n",
       "\n",
       "    .dataframe thead th {\n",
       "        text-align: right;\n",
       "    }\n",
       "</style>\n",
       "<table border=\"1\" class=\"dataframe\">\n",
       "  <thead>\n",
       "    <tr style=\"text-align: right;\">\n",
       "      <th></th>\n",
       "      <th>Mean</th>\n",
       "      <th>Volatility</th>\n",
       "      <th>Sharpe Ratio</th>\n",
       "      <th>Skewness</th>\n",
       "      <th>Corr(MKT)</th>\n",
       "      <th>Corr(HML)</th>\n",
       "    </tr>\n",
       "  </thead>\n",
       "  <tbody>\n",
       "    <tr>\n",
       "      <th>All</th>\n",
       "      <td>0.0864</td>\n",
       "      <td>0.3354</td>\n",
       "      <td>0.2576</td>\n",
       "      <td>-1.4461</td>\n",
       "      <td>-0.3062</td>\n",
       "      <td>-0.2152</td>\n",
       "    </tr>\n",
       "    <tr>\n",
       "      <th>Small</th>\n",
       "      <td>0.0632</td>\n",
       "      <td>0.1696</td>\n",
       "      <td>0.3726</td>\n",
       "      <td>-1.7636</td>\n",
       "      <td>-0.3040</td>\n",
       "      <td>-0.1485</td>\n",
       "    </tr>\n",
       "    <tr>\n",
       "      <th>Big</th>\n",
       "      <td>0.0232</td>\n",
       "      <td>0.1825</td>\n",
       "      <td>0.1270</td>\n",
       "      <td>-0.8791</td>\n",
       "      <td>-0.2802</td>\n",
       "      <td>-0.2575</td>\n",
       "    </tr>\n",
       "  </tbody>\n",
       "</table>\n",
       "</div>"
      ]
     },
     "metadata": {},
     "output_type": "display_data"
    }
   ],
   "execution_count": 17
  },
  {
   "metadata": {},
   "cell_type": "markdown",
   "source": "#### (b) Is the attractiveness of the momentum strategy mostly driven by the small stocks? That is, does a momentum strategy in large stocks still deliver excess returns at comparable risk?",
   "id": "69107dcb35ca56a3"
  },
  {
   "metadata": {},
   "cell_type": "markdown",
   "source": [
    "### AQR Conclusion\n",
    "\n",
    " In conclusion, what is your assessment of the AQR retail product? Is it capturing the important features of the Fama-French construction of momentum? Would you suggest any modifications?"
   ],
   "id": "cfbffe319dcd228b"
  },
  {
   "metadata": {},
   "cell_type": "markdown",
   "source": [
    "### 3. Barnstable's Analysis\n",
    "\n",
    "Placeholder."
   ],
   "id": "ea0db7752407e8b"
  },
  {
   "metadata": {},
   "cell_type": "markdown",
   "source": "### 4. Estimating Underperformance ",
   "id": "60394d99c9a0b5bf"
  },
  {
   "metadata": {},
   "cell_type": "markdown",
   "source": "#### 1. Summary Statistics",
   "id": "ed99fde35dbbc7f3"
  },
  {
   "metadata": {
    "ExecuteTime": {
     "end_time": "2024-11-08T18:08:25.313668Z",
     "start_time": "2024-11-08T18:08:25.082456Z"
    }
   },
   "cell_type": "code",
   "source": [
    "# Load data\n",
    "FILEIN = 'data/barnstable_analysis_data.xlsx'\n",
    "barnstable = pd.read_excel(FILEIN, sheet_name='data').set_index('date')\n",
    "\n",
    "# Iterate through subsamples, series to fill out Table 5\n",
    "# Preparation\n",
    "subsample_dates = [\n",
    "    ('1965-01-01', '1999-12-31'),\n",
    "    ('2000-01-01', '2024-12-31'),\n",
    "    ('1926-01-01', '2024-12-31')\n",
    "]\n",
    "series_data = [barnstable['SPX'], factors['MKT'], barnstable['TB1M'],\n",
    "               np.log(1+barnstable['SPX']), np.log(1+factors['MKT']),\n",
    "               np.log(1+barnstable['TB1M'])]\n",
    "\n",
    "ss_summary_stats = [] # aggregate subsample summary stats across series\n",
    "for tmp_series in series_data: # loop through series\n",
    "    \n",
    "    series_stats = [] # aggregate subsample summary stats for a given series\n",
    "    for i in range(3): # loop through subsamples\n",
    "        # identify subsample\n",
    "        tmp_start = pd.to_datetime(subsample_dates[i][0])\n",
    "        tmp_end = pd.to_datetime(subsample_dates[i][1])\n",
    "        series_subsample = tmp_series.loc[tmp_start:tmp_end]\n",
    "        \n",
    "        # calculate summary stats\n",
    "        series_stats.append((series_subsample.mean() * 12).round(4)) # mean\n",
    "        series_stats.append((series_subsample.var() * np.sqrt(12)).round(4)) # vol\n",
    "        \n",
    "    ss_summary_stats.append(series_stats)\n",
    "\n",
    "# Format results\n",
    "barnstable_summary_stats = pd.DataFrame(ss_summary_stats, columns=['(1965-1999): Mean', 'Vol',\n",
    "                                             '(2000-2024): Mean', 'Vol',\n",
    "                                             '(1926-2024): Mean', 'Vol'])\n",
    "barnstable_summary_stats.index = ['SPX (Level)', 'MKT (Level)', 'TB1M (Level)', 'SPX (Log)', 'MKT (Log)', 'TB1M (Log)']\n",
    "\n",
    "# Display results\n",
    "display(barnstable_summary_stats)"
   ],
   "id": "82f1b001d6756f0a",
   "outputs": [
    {
     "data": {
      "text/plain": [
       "              (1965-1999): Mean     Vol  (2000-2024): Mean     Vol  \\\n",
       "SPX (Level)              0.1294  0.0064             0.0873  0.0068   \n",
       "MKT (Level)              0.0673  0.0070             0.0705  0.0073   \n",
       "TB1M (Level)             0.0615  0.0000             0.0172  0.0000   \n",
       "SPX (Log)                0.1176  0.0065             0.0753  0.0068   \n",
       "MKT (Log)                0.0549  0.0071             0.0576  0.0074   \n",
       "TB1M (Log)               0.0613  0.0000             0.0172  0.0000   \n",
       "\n",
       "              (1926-2024): Mean     Vol  \n",
       "SPX (Level)              0.1155  0.0101  \n",
       "MKT (Level)              0.0820  0.0099  \n",
       "TB1M (Level)             0.0319  0.0000  \n",
       "SPX (Log)                0.0978  0.0100  \n",
       "MKT (Log)                0.0647  0.0099  \n",
       "TB1M (Log)               0.0318  0.0000  "
      ],
      "text/html": [
       "<div>\n",
       "<style scoped>\n",
       "    .dataframe tbody tr th:only-of-type {\n",
       "        vertical-align: middle;\n",
       "    }\n",
       "\n",
       "    .dataframe tbody tr th {\n",
       "        vertical-align: top;\n",
       "    }\n",
       "\n",
       "    .dataframe thead th {\n",
       "        text-align: right;\n",
       "    }\n",
       "</style>\n",
       "<table border=\"1\" class=\"dataframe\">\n",
       "  <thead>\n",
       "    <tr style=\"text-align: right;\">\n",
       "      <th></th>\n",
       "      <th>(1965-1999): Mean</th>\n",
       "      <th>Vol</th>\n",
       "      <th>(2000-2024): Mean</th>\n",
       "      <th>Vol</th>\n",
       "      <th>(1926-2024): Mean</th>\n",
       "      <th>Vol</th>\n",
       "    </tr>\n",
       "  </thead>\n",
       "  <tbody>\n",
       "    <tr>\n",
       "      <th>SPX (Level)</th>\n",
       "      <td>0.1294</td>\n",
       "      <td>0.0064</td>\n",
       "      <td>0.0873</td>\n",
       "      <td>0.0068</td>\n",
       "      <td>0.1155</td>\n",
       "      <td>0.0101</td>\n",
       "    </tr>\n",
       "    <tr>\n",
       "      <th>MKT (Level)</th>\n",
       "      <td>0.0673</td>\n",
       "      <td>0.0070</td>\n",
       "      <td>0.0705</td>\n",
       "      <td>0.0073</td>\n",
       "      <td>0.0820</td>\n",
       "      <td>0.0099</td>\n",
       "    </tr>\n",
       "    <tr>\n",
       "      <th>TB1M (Level)</th>\n",
       "      <td>0.0615</td>\n",
       "      <td>0.0000</td>\n",
       "      <td>0.0172</td>\n",
       "      <td>0.0000</td>\n",
       "      <td>0.0319</td>\n",
       "      <td>0.0000</td>\n",
       "    </tr>\n",
       "    <tr>\n",
       "      <th>SPX (Log)</th>\n",
       "      <td>0.1176</td>\n",
       "      <td>0.0065</td>\n",
       "      <td>0.0753</td>\n",
       "      <td>0.0068</td>\n",
       "      <td>0.0978</td>\n",
       "      <td>0.0100</td>\n",
       "    </tr>\n",
       "    <tr>\n",
       "      <th>MKT (Log)</th>\n",
       "      <td>0.0549</td>\n",
       "      <td>0.0071</td>\n",
       "      <td>0.0576</td>\n",
       "      <td>0.0074</td>\n",
       "      <td>0.0647</td>\n",
       "      <td>0.0099</td>\n",
       "    </tr>\n",
       "    <tr>\n",
       "      <th>TB1M (Log)</th>\n",
       "      <td>0.0613</td>\n",
       "      <td>0.0000</td>\n",
       "      <td>0.0172</td>\n",
       "      <td>0.0000</td>\n",
       "      <td>0.0318</td>\n",
       "      <td>0.0000</td>\n",
       "    </tr>\n",
       "  </tbody>\n",
       "</table>\n",
       "</div>"
      ]
     },
     "metadata": {},
     "output_type": "display_data"
    }
   ],
   "execution_count": 18
  },
  {
   "metadata": {},
   "cell_type": "markdown",
   "source": [
    "#### (b) Comment on how the full-sample return stats compare to the sub-sample stats.\n",
    "\n",
    "Placeholder.\n",
    "\n",
    "#### (c) Comment on how the level stats compare to the log stats.\n",
    "\n",
    "Placeholder."
   ],
   "id": "a1d9c445c4ed1128"
  },
  {
   "metadata": {},
   "cell_type": "markdown",
   "source": "#### 2. Probability of Underperformance",
   "id": "cdfc3f803a557bdb"
  },
  {
   "metadata": {
    "ExecuteTime": {
     "end_time": "2024-11-08T18:08:25.423133Z",
     "start_time": "2024-11-08T18:08:25.409946Z"
    }
   },
   "cell_type": "code",
   "source": [
    "from scipy.stats import norm\n",
    "# Function to calculate probability of underperformance\n",
    "def underperformance_probability(spx_returns, tbill_returns, n_years):\n",
    "    \n",
    "    # Calculate log returns for both S&P 500 and T-bill\n",
    "    spx_log_ret = np.log(1 + spx_returns)\n",
    "    tbill_log_ret = np.log(1 + tbill_returns)\n",
    "\n",
    "    # Cumulative log returns over n_years\n",
    "    n_months = n_years * 12\n",
    "    cum_spx_log_ret = spx_log_ret.rolling(window=n_months).sum()\n",
    "    cum_tbill_log_ret = tbill_log_ret.rolling(window=n_months).sum()\n",
    "\n",
    "    # Mean and standard deviation of differences in log returns\n",
    "    # Z = SPX - RF_RATE\n",
    "    mean_z = np.mean(cum_spx_log_ret) - np.mean(cum_tbill_log_ret) # subtract means\n",
    "    var_z = np.var(cum_spx_log_ret) + np.var(cum_tbill_log_ret) # add variances\n",
    "\n",
    "    # Standardize L\n",
    "    L = -(mean_z / np.sqrt(var_z))\n",
    "\n",
    "    # Calculate probability using normal CDF\n",
    "    prob_z_less_than_0 = norm.cdf(L)\n",
    "\n",
    "    return prob_z_less_than_0"
   ],
   "id": "d5f295506a44014e",
   "outputs": [],
   "execution_count": 19
  },
  {
   "metadata": {
    "ExecuteTime": {
     "end_time": "2024-11-08T18:12:24.771146Z",
     "start_time": "2024-11-08T18:12:24.721122Z"
    }
   },
   "cell_type": "code",
   "source": [
    "# Subsample 1965 - 1999\n",
    "barnstable_ss = barnstable.loc['1965-01-01':'1999-12-31']\n",
    "cum_return_spx = np.log(1 + barnstable_ss['SPX'])\n",
    "cum_return_tbill = np.log(1 + barnstable_ss['TB1M'])\n",
    "ss_underperformance = norm.cdf(-(cum_return_spx.sum() - cum_return_tbill.sum())/(np.sqrt(cum_return_spx.var() + cum_return_tbill.var())))\n",
    "\n",
    "# Calculate underperformance prob over n_periods\n",
    "n_period_p = []\n",
    "for i in range(35):\n",
    "    tmp_val = underperformance_probability(barnstable['SPX'], barnstable['TB1M'], n_years = (i+1))\n",
    "    n_period_p.append(tmp_val.round(4))\n",
    "    \n",
    "print(f'Probability that the cumulative market return will fall short of cumulative risk-free rate in x years:\\n'\n",
    "      f'Full sample (35 years): {ss_underperformance.round(4)}\\n'\n",
    "      f'30 years: {n_period_p[29].round(4)}\\n'\n",
    "      f'15 years: {n_period_p[14].round(4)}\\n')"
   ],
   "id": "869f9733a6ef649f",
   "outputs": [
    {
     "name": "stdout",
     "output_type": "stream",
     "text": [
      "Probability that the cumulative market return will fall short of cumulative risk-free rate in x years:\n",
      "Full sample (35 years): 0.0\n",
      "30 years: 0.001\n",
      "15 years: 0.1273\n",
      "\n"
     ]
    }
   ],
   "execution_count": 23
  },
  {
   "metadata": {
    "ExecuteTime": {
     "end_time": "2024-11-08T18:12:30.889130Z",
     "start_time": "2024-11-08T18:12:30.644058Z"
    }
   },
   "cell_type": "code",
   "source": [
    "# Probability as a function of investment horizon\n",
    "x_values = list(range(1, 36))\n",
    "plt.figure(figsize=(6, 4))\n",
    "plt.plot(x_values, n_period_p, marker='o', linestyle='-')\n",
    "plt.title('Probability that the S&P will underperform Treasury Bills')\n",
    "plt.xlabel('Investment Horizon')\n",
    "plt.ylabel('Probability')\n",
    "plt.grid(True)\n",
    "plt.show()"
   ],
   "id": "47d35756b5c4ba1f",
   "outputs": [
    {
     "data": {
      "text/plain": [
       "<Figure size 600x400 with 1 Axes>"
      ],
      "image/png": "[encoded data removed]"
     },
     "metadata": {},
     "output_type": "display_data"
    }
   ],
   "execution_count": 24
  }
 ],
 "metadata": {
  "kernelspec": {
   "display_name": "Python 3",
   "language": "python",
   "name": "python3"
  },
  "language_info": {
   "codemirror_mode": {
    "name": "ipython",
    "version": 2
   },
   "file_extension": ".py",
   "mimetype": "text/x-python",
   "name": "python",
   "nbconvert_exporter": "python",
   "pygments_lexer": "ipython2",
   "version": "2.7.6"
  }
 },
 "nbformat": 4,
 "nbformat_minor": 5
}
