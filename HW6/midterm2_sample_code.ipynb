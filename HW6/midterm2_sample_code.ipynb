{
 "cells": [
  {
   "cell_type": "markdown",
   "id": "559895d2",
   "metadata": {},
   "source": [
    "# Midterm 2 2023\n",
    "\n",
    "## FINM 36700 - 2023\n",
    "\n",
    "### Brian Wickman"
   ]
  },
  {
   "cell_type": "markdown",
   "id": "624f27b1",
   "metadata": {},
   "source": [
    "## Data\n",
    "\n",
    "**All data files are found in the class github repo, in the `data` folder.**\n",
    "\n",
    "This exam makes use of the following data files:\n",
    "* `midterm_2_data.xlsx`\n",
    "\n",
    "This file has sheets for...\n",
    "* `info` - names and descriptions of each factor\n",
    "* `factors (excess returns)` - excess returns on several factors\n",
    "* `portfolios (excess returns)` - excess returns on industry portfolios\n",
    "* `risk-free rate` - risk-free rates over time\n",
    "\n",
    "Note the data is **monthly** so any annualizations should use `12` months in a year."
   ]
  },
  {
   "metadata": {
    "ExecuteTime": {
     "end_time": "2024-11-11T16:29:12.594802Z",
     "start_time": "2024-11-11T16:29:12.412980Z"
    }
   },
   "cell_type": "code",
   "source": [
    "# Set-up & Import data\n",
    "import pandas as pd\n",
    "import matplotlib.pyplot as plt\n",
    "import numpy as np\n",
    "import seaborn as sns\n",
    "import statsmodels.api as sm\n",
    "from scipy.stats import norm\n",
    "import warnings\n",
    "warnings.filterwarnings(\"ignore\")\n",
    "sns.set_theme()\n",
    "\n",
    "# import helper functions\n",
    "import importlib\n",
    "import helper_funcs\n",
    "\n",
    "# Import data\n",
    "FILEIN = 'data/midterm_2_practice_data.xlsx'\n",
    "\n",
    "factors = pd.read_excel(FILEIN, sheet_name='factors (excess returns)').set_index('Date')\n",
    "portfolios = pd.read_excel(FILEIN, sheet_name='portfolios (excess returns)').set_index('Date')\n",
    "rf_rate = pd.read_excel(FILEIN, sheet_name='risk-free rate').set_index('Date')"
   ],
   "id": "5952adcbe3c9be3b",
   "outputs": [],
   "execution_count": 115
  },
  {
   "cell_type": "markdown",
   "id": "cb5c2bdf",
   "metadata": {},
   "source": [
    "### Notation\n",
    "(Hidden LaTeX commands)\n",
    "\n",
    "$$\\newcommand{\\betamkt}{\\beta^{i,\\text{MKT}}}$$\n",
    "$$\\newcommand{\\betahml}{\\beta^{i,\\text{HML}}}$$\n",
    "$$\\newcommand{\\betaumd}{\\beta^{i,\\text{UMD}}}$$\n",
    "$$\\newcommand{\\Eri}{E\\left[\\tilde{r}^{i}\\right]}$$\n",
    "$$\\newcommand{\\Emkt}{E\\left[\\tilde{r}^{\\text{MKT}}\\right]}$$\n",
    "$$\\newcommand{\\Ehml}{E\\left[\\tilde{r}^{\\text{HML}}\\right]}$$\n",
    "$$\\newcommand{\\Eumd}{E\\left[\\tilde{r}^{\\text{UMD}}\\right]}$$"
   ]
  },
  {
   "cell_type": "markdown",
   "id": "81156e8f",
   "metadata": {},
   "source": [
    "# 1. Short Answer"
   ]
  },
  {
   "cell_type": "markdown",
   "id": "4ed2ec27",
   "metadata": {},
   "source": [
    "## 1.\n",
    "\n",
    "Suppose that we find a set of factors that perfectly hedge any asset. Will these factors work as a linear factor pricing model? "
   ]
  },
  {
   "cell_type": "markdown",
   "id": "2de7e3f3",
   "metadata": {},
   "source": [
    "## 2.\n",
    "\n",
    "If the Fama-French 3-factor model fit perfectly, would the Treynor ratio be equal for every asset?"
   ]
  },
  {
   "cell_type": "markdown",
   "id": "1b269599",
   "metadata": {},
   "source": [
    "## 3.\n",
    "\n",
    "Suppose the CAPM fits perfectly. Then assets which have higher time-series r-squared metrics on the market factor will have higher Sharpe ratios."
   ]
  },
  {
   "cell_type": "markdown",
   "id": "41aa46a6",
   "metadata": {},
   "source": [
    "## 4.\n",
    "\n",
    "Based on the case, what are two ways DFA hopes to generate attractive returns for investors?"
   ]
  },
  {
   "cell_type": "markdown",
   "id": "f2a8aede",
   "metadata": {},
   "source": [
    "## 5.\n",
    "\n",
    "We analyzed a strategy similar to \"AQR's Momentum Funds\" (mutual funds.) We found this implementation had much higher returns than the momentum factor of Fama French. What was a major drawback to this construction?"
   ]
  },
  {
   "cell_type": "markdown",
   "id": "e990eba3",
   "metadata": {},
   "source": [
    "## 6.\n",
    "\n",
    "From our analysis, momentum has had a negative mean return since 2009. Is this evidence against momentum as a pricing factor? Explain why this is a problem or why it is not a problem."
   ]
  },
  {
   "cell_type": "markdown",
   "id": "632ce7d4",
   "metadata": {},
   "source": [
    "***"
   ]
  },
  {
   "cell_type": "markdown",
   "id": "a78ee6f4",
   "metadata": {},
   "source": [
    "# 2. Linear Factor Pricing Models (LFPMs)"
   ]
  },
  {
   "cell_type": "markdown",
   "id": "cef5b592",
   "metadata": {},
   "source": [
    "This problem tests the following LFPM:\n",
    "\n",
    "$$\\begin{align}\n",
    "\\Eri = \\betamkt \\Emkt + \\betahml \\Ehml + \\betaumd \\Eumd\n",
    "\\end{align}$$"
   ]
  },
  {
   "cell_type": "markdown",
   "id": "ec8d1b59",
   "metadata": {},
   "source": [
    "## 1.\n",
    "\n",
    "### (8 pts)\n",
    "\n",
    "Estimate the **time-series (TS)** test of this pricing model. \n",
    "\n",
    "For each asset, report the following statistics:\n",
    "* annualized alpha\n",
    "* betas\n",
    "* r-squared"
   ]
  },
  {
   "metadata": {
    "ExecuteTime": {
     "end_time": "2024-11-11T15:42:33.559716Z",
     "start_time": "2024-11-11T15:42:33.537140Z"
    }
   },
   "cell_type": "code",
   "source": "importlib.reload(helper_funcs)",
   "id": "bb5567414dc251f",
   "outputs": [
    {
     "data": {
      "text/plain": [
       "<module 'helper_funcs' from 'C:\\\\Users\\\\bwick\\\\Documents\\\\PortfolioRiskManagement\\\\Midterm2\\\\helper_funcs.py'>"
      ]
     },
     "execution_count": 90,
     "metadata": {},
     "output_type": "execute_result"
    }
   ],
   "execution_count": 90
  },
  {
   "metadata": {
    "ExecuteTime": {
     "end_time": "2024-11-11T15:10:53.201203Z",
     "start_time": "2024-11-11T15:10:53.134769Z"
    }
   },
   "cell_type": "code",
   "source": [
    "# CAPM TS Regressions\n",
    "# Apply function to each column in 'portfolios' dataframe\n",
    "capm_ts_results = pd.DataFrame()\n",
    "for col in portfolios.columns:\n",
    "    # Process the column\n",
    "    temp_df = helper_funcs.capm_ts_regression(portfolios[col], factor = factors)\n",
    "    # Concatenate the result to the final DataFrame\n",
    "    capm_ts_results = pd.concat([capm_ts_results, temp_df])\n",
    "\n",
    "display(capm_ts_results)\n"
   ],
   "id": "aedc0ca140149e4c",
   "outputs": [
    {
     "data": {
      "text/plain": [
       "          alpha       MKT       HML       UMD  r-squared\n",
       "NoDur  0.029253  0.739522  0.204580  0.049333     0.6179\n",
       "Durbl  0.010734  1.271865  0.173595 -0.320023     0.6135\n",
       "Manuf -0.000996  1.049482  0.197462 -0.036704     0.8703\n",
       "Enrgy -0.015117  0.992222  0.637006  0.075170     0.4656\n",
       "HiTec  0.028207  1.154959 -0.637135 -0.140638     0.8295\n",
       "Telcm  0.003506  0.837326  0.094363 -0.084518     0.5881\n",
       "Shops  0.026739  0.946928 -0.042222 -0.015005     0.7422\n",
       "Hlth   0.031862  0.757605 -0.119928  0.074058     0.5805\n",
       "Utils  0.013710  0.527879  0.353033  0.108622     0.3427\n",
       "Other -0.019780  1.115433  0.426753 -0.048678     0.9101"
      ],
      "text/html": [
       "<div>\n",
       "<style scoped>\n",
       "    .dataframe tbody tr th:only-of-type {\n",
       "        vertical-align: middle;\n",
       "    }\n",
       "\n",
       "    .dataframe tbody tr th {\n",
       "        vertical-align: top;\n",
       "    }\n",
       "\n",
       "    .dataframe thead th {\n",
       "        text-align: right;\n",
       "    }\n",
       "</style>\n",
       "<table border=\"1\" class=\"dataframe\">\n",
       "  <thead>\n",
       "    <tr style=\"text-align: right;\">\n",
       "      <th></th>\n",
       "      <th>alpha</th>\n",
       "      <th>MKT</th>\n",
       "      <th>HML</th>\n",
       "      <th>UMD</th>\n",
       "      <th>r-squared</th>\n",
       "    </tr>\n",
       "  </thead>\n",
       "  <tbody>\n",
       "    <tr>\n",
       "      <th>NoDur</th>\n",
       "      <td>0.029253</td>\n",
       "      <td>0.739522</td>\n",
       "      <td>0.204580</td>\n",
       "      <td>0.049333</td>\n",
       "      <td>0.6179</td>\n",
       "    </tr>\n",
       "    <tr>\n",
       "      <th>Durbl</th>\n",
       "      <td>0.010734</td>\n",
       "      <td>1.271865</td>\n",
       "      <td>0.173595</td>\n",
       "      <td>-0.320023</td>\n",
       "      <td>0.6135</td>\n",
       "    </tr>\n",
       "    <tr>\n",
       "      <th>Manuf</th>\n",
       "      <td>-0.000996</td>\n",
       "      <td>1.049482</td>\n",
       "      <td>0.197462</td>\n",
       "      <td>-0.036704</td>\n",
       "      <td>0.8703</td>\n",
       "    </tr>\n",
       "    <tr>\n",
       "      <th>Enrgy</th>\n",
       "      <td>-0.015117</td>\n",
       "      <td>0.992222</td>\n",
       "      <td>0.637006</td>\n",
       "      <td>0.075170</td>\n",
       "      <td>0.4656</td>\n",
       "    </tr>\n",
       "    <tr>\n",
       "      <th>HiTec</th>\n",
       "      <td>0.028207</td>\n",
       "      <td>1.154959</td>\n",
       "      <td>-0.637135</td>\n",
       "      <td>-0.140638</td>\n",
       "      <td>0.8295</td>\n",
       "    </tr>\n",
       "    <tr>\n",
       "      <th>Telcm</th>\n",
       "      <td>0.003506</td>\n",
       "      <td>0.837326</td>\n",
       "      <td>0.094363</td>\n",
       "      <td>-0.084518</td>\n",
       "      <td>0.5881</td>\n",
       "    </tr>\n",
       "    <tr>\n",
       "      <th>Shops</th>\n",
       "      <td>0.026739</td>\n",
       "      <td>0.946928</td>\n",
       "      <td>-0.042222</td>\n",
       "      <td>-0.015005</td>\n",
       "      <td>0.7422</td>\n",
       "    </tr>\n",
       "    <tr>\n",
       "      <th>Hlth</th>\n",
       "      <td>0.031862</td>\n",
       "      <td>0.757605</td>\n",
       "      <td>-0.119928</td>\n",
       "      <td>0.074058</td>\n",
       "      <td>0.5805</td>\n",
       "    </tr>\n",
       "    <tr>\n",
       "      <th>Utils</th>\n",
       "      <td>0.013710</td>\n",
       "      <td>0.527879</td>\n",
       "      <td>0.353033</td>\n",
       "      <td>0.108622</td>\n",
       "      <td>0.3427</td>\n",
       "    </tr>\n",
       "    <tr>\n",
       "      <th>Other</th>\n",
       "      <td>-0.019780</td>\n",
       "      <td>1.115433</td>\n",
       "      <td>0.426753</td>\n",
       "      <td>-0.048678</td>\n",
       "      <td>0.9101</td>\n",
       "    </tr>\n",
       "  </tbody>\n",
       "</table>\n",
       "</div>"
      ]
     },
     "metadata": {},
     "output_type": "display_data"
    }
   ],
   "execution_count": 57
  },
  {
   "cell_type": "markdown",
   "id": "31da8bdc",
   "metadata": {},
   "source": [
    "## 2.\n",
    "\n",
    "### (7pts)\n",
    "\n",
    "Estimate the **cross-sectional (CS)** test of the pricing model. \n",
    "\n",
    "Include an intercept in your cross-sectional test.\n",
    "\n",
    "Report the\n",
    "* annualized intercept\n",
    "* annualized regression coefficients\n",
    "* r-squared"
   ]
  },
  {
   "metadata": {
    "ExecuteTime": {
     "end_time": "2024-11-11T15:43:33.545955Z",
     "start_time": "2024-11-11T15:43:33.522076Z"
    }
   },
   "cell_type": "code",
   "source": [
    "# Cross-sectional test of pricing model\n",
    "# Cross-sectional CAPM regression (excess returns ~ beta)\n",
    "capm_cs_results = helper_funcs.capm_cs_regression(portfolios, capm_ts_results)\n",
    "#display(capm_cs_results.summary())\n",
    "\n",
    "# Beta's annualized\n",
    "annualization = 12\n",
    "print(f\"R-squared: {capm_cs_results.rsquared.round(4)}\\n\"\n",
    "      f\"Intercept: {(capm_cs_results.params[0] * annualization).round(4)}\\n\"\n",
    "      f\"MKT coefficient: {(capm_cs_results.params[1] * annualization).round(4)}\\n\"\n",
    "      f\"HML coefficient: {(capm_cs_results.params[2] * annualization).round(4)}\\n\"\n",
    "      f\"UMD coefficient: {(capm_cs_results.params[3] * annualization).round(4)}\")\n"
   ],
   "id": "cfc70d4d299d6d9c",
   "outputs": [
    {
     "name": "stdout",
     "output_type": "stream",
     "text": [
      "R-squared: 0.3662\n",
      "Intercept: 0.7646\n",
      "MKT coefficient: 0.3839\n",
      "HML coefficient: -0.1892\n",
      "UMD coefficient: 0.3636\n"
     ]
    }
   ],
   "execution_count": 92
  },
  {
   "cell_type": "markdown",
   "id": "e43dcd2d",
   "metadata": {},
   "source": [
    "## 3.\n",
    "\n",
    "Report the annualized factor premia (expected excess returns of the three factors) as implied by each of the TS and CS estimations."
   ]
  },
  {
   "metadata": {
    "ExecuteTime": {
     "end_time": "2024-11-11T15:47:47.616918Z",
     "start_time": "2024-11-11T15:47:47.591493Z"
    }
   },
   "cell_type": "code",
   "source": [
    "factor_premia = pd.DataFrame(index = ['TS','CS'], columns = ['MKT Premia','HML Premia','UMD Premia'])\n",
    "factor_premia.loc['TS',:] = (factors.mean()*12).values # from time-series of factors\n",
    "factor_premia.loc['CS',:] = [capm_cs_results.params[1], capm_cs_results.params[2], capm_cs_results.params[3]] # from coefficient estimates\n",
    "display(factor_premia)"
   ],
   "id": "3428da0ea6c26288",
   "outputs": [
    {
     "data": {
      "text/plain": [
       "   MKT Premia HML Premia UMD Premia\n",
       "TS   0.083853   0.025028   0.061692\n",
       "CS   0.031992  -0.015767   0.030301"
      ],
      "text/html": [
       "<div>\n",
       "<style scoped>\n",
       "    .dataframe tbody tr th:only-of-type {\n",
       "        vertical-align: middle;\n",
       "    }\n",
       "\n",
       "    .dataframe tbody tr th {\n",
       "        vertical-align: top;\n",
       "    }\n",
       "\n",
       "    .dataframe thead th {\n",
       "        text-align: right;\n",
       "    }\n",
       "</style>\n",
       "<table border=\"1\" class=\"dataframe\">\n",
       "  <thead>\n",
       "    <tr style=\"text-align: right;\">\n",
       "      <th></th>\n",
       "      <th>MKT Premia</th>\n",
       "      <th>HML Premia</th>\n",
       "      <th>UMD Premia</th>\n",
       "    </tr>\n",
       "  </thead>\n",
       "  <tbody>\n",
       "    <tr>\n",
       "      <th>TS</th>\n",
       "      <td>0.083853</td>\n",
       "      <td>0.025028</td>\n",
       "      <td>0.061692</td>\n",
       "    </tr>\n",
       "    <tr>\n",
       "      <th>CS</th>\n",
       "      <td>0.031992</td>\n",
       "      <td>-0.015767</td>\n",
       "      <td>0.030301</td>\n",
       "    </tr>\n",
       "  </tbody>\n",
       "</table>\n",
       "</div>"
      ]
     },
     "metadata": {},
     "output_type": "display_data"
    }
   ],
   "execution_count": 97
  },
  {
   "cell_type": "markdown",
   "id": "eb4f7e39",
   "metadata": {},
   "source": [
    "## 4.\n",
    "\n",
    "Use the r-squared statistics from the TS and CS tests above to assess whether these factors are effective for decomposition and/or pricing.\n",
    "\n",
    "Be specific as to how the r-squared statistics from the TS and CS tests impact your conclusions."
   ]
  },
  {
   "metadata": {},
   "cell_type": "markdown",
   "source": [
    "\n",
    "Nothing could be said about the R-Squared for the time-series case as in the TimeSeries test we do not care about high R-Squared. Thus, the average R-Squared statistic would be unrestricted. For the Cross-sectional test, we want ideally the R-squared to be 1.0, as we expect the factors to explain all of the expected returns of the portfolios. Since the r-squared in CS is not 1.0, there are some other factors that need to be included to perfectly explain the returns for all the assets."
   ],
   "id": "feef53546574a24"
  },
  {
   "cell_type": "markdown",
   "id": "621a9d6f",
   "metadata": {},
   "source": [
    "## 5.\n",
    "\n",
    "Report the annualized pricing mean absolute error (MAE) implied by each of the TS and CS estimations."
   ]
  },
  {
   "metadata": {
    "ExecuteTime": {
     "end_time": "2024-11-11T15:46:38.155213Z",
     "start_time": "2024-11-11T15:46:38.148698Z"
    }
   },
   "cell_type": "code",
   "source": [
    "ts_mae = capm_ts_results['alpha'].abs().mean().round(4) # MAE of time-series alphas\n",
    "cs_mae = abs(model.resid).mean() # MAE of cross-sectional residuals\n",
    "print(f'Time-series MAE: {ts_mae}, Cross-section MAE: {round(cs_mae,4)}')"
   ],
   "id": "91dc86998e33cb55",
   "outputs": [
    {
     "name": "stdout",
     "output_type": "stream",
     "text": [
      "Time-series MAE: 0.018, Cross-section MAE: 0.0079\n"
     ]
    }
   ],
   "execution_count": 95
  },
  {
   "cell_type": "markdown",
   "id": "61e91b41",
   "metadata": {},
   "source": [
    "## 6.\n",
    "\n",
    "Which asset has the highest premium as implied by the TS estimation? And as implied by the CS estimation? (For the latter, feel free to include the cross-sectional intercept.)"
   ]
  },
  {
   "metadata": {
    "ExecuteTime": {
     "end_time": "2024-11-11T15:55:30.755873Z",
     "start_time": "2024-11-11T15:55:30.745988Z"
    }
   },
   "cell_type": "code",
   "source": [
    "# Time-series approach\n",
    "# Step 1: Calculate mean factor premia, annualize it \n",
    "# Step 2: Multiply by coefficients from TS regression (exposure of portfolios to each factor)\n",
    "ts_premium = ((factors.mean() * 12) * capm_ts_results[['MKT', 'HML', 'UMD']]).sum(axis = 1).to_frame('ts_premium').sort_values(by = 'ts_premium', ascending = False)\n",
    "print(f'{ts_premium.index[0]} portfolio has the highest premium ({ts_premium.iloc[0,0].round(4)}) as implied by the TS estimation.')\n"
   ],
   "id": "4d4a54e40304fa42",
   "outputs": [
    {
     "name": "stdout",
     "output_type": "stream",
     "text": [
      "Enrgy portfolio has the highest premium (0.1038) as implied by the TS estimation.\n"
     ]
    }
   ],
   "execution_count": 98
  },
  {
   "metadata": {
    "ExecuteTime": {
     "end_time": "2024-11-11T16:02:40.595737Z",
     "start_time": "2024-11-11T16:02:40.579033Z"
    }
   },
   "cell_type": "code",
   "source": [
    "# Cross-sectional approach (highest point on graph)\n",
    "cs_betas = capm_cs_results.params[1:4]\n",
    "# Step 1: Time-series betas on FCTRS (exposure to each factor) * cross-sectional betas (risk premia of each factor)\n",
    "cs_premium = (capm_ts_results[['MKT', 'HML', 'UMD']] * cs_betas).sum(axis = 1).to_frame('cs_premium').sort_values(by = 'cs_premium', ascending = False)\n",
    "print(f'{cs_premium.index[0]} portfolio has the highest premium ({cs_premium.iloc[0,0].round(4)}) as implied by the CS estimation w/o Intercept.')"
   ],
   "id": "e2b27c97b2ddb4c2",
   "outputs": [
    {
     "name": "stdout",
     "output_type": "stream",
     "text": [
      "HiTec portfolio has the highest premium (0.0427) as implied by the CS estimation w/o Intercept.\n"
     ]
    }
   ],
   "execution_count": 105
  },
  {
   "cell_type": "markdown",
   "id": "0a8eda25",
   "metadata": {},
   "source": [
    "***"
   ]
  },
  {
   "cell_type": "markdown",
   "id": "45d9f9ca",
   "metadata": {},
   "source": [
    "# 3. Additional Analysis"
   ]
  },
  {
   "cell_type": "markdown",
   "id": "b6e16122",
   "metadata": {},
   "source": [
    "## 1. \n",
    "\n",
    "Consider the three-factor pricing model above. How can we assess whether all three factors are useful in this pricing model? \n",
    "\n",
    "Specifically, discuss whether the previously estimated regression betas would be informative. If not, what other statistic could we calculate?"
   ]
  },
  {
   "cell_type": "markdown",
   "id": "4917ec2d",
   "metadata": {},
   "source": [
    "## 2.\n",
    "\n",
    "Suppose we are testing the 3-factor model above, and now we want to allow for time-varying betas.\n",
    "\n",
    "How could we test the model while allowing for this?\n",
    "\n",
    "Be specific about the number of regressions we would run and the nature of these regressions."
   ]
  },
  {
   "cell_type": "markdown",
   "id": "9b5ae486",
   "metadata": {},
   "source": [
    "## 3.\n",
    "\n",
    "State one advantage and one disadvantage of using the CS estimation as opposed to the TS estimation in fitting the LFPM to the data."
   ]
  },
  {
   "cell_type": "markdown",
   "id": "ab345650",
   "metadata": {},
   "source": [
    "## 4.\n",
    "\n",
    "Suppose we are investing in just the assets included in our data set. We want to implement a momentum strategy.\n",
    "\n",
    "Relative to the momentum strategies we studied, do you expect this strategy would have higher or lower...\n",
    "* mean\n",
    "* volatility\n",
    "\n",
    "Explain."
   ]
  },
  {
   "cell_type": "markdown",
   "id": "ecd7b8ee",
   "metadata": {},
   "source": [
    "***"
   ]
  },
  {
   "cell_type": "markdown",
   "id": "4bba6573",
   "metadata": {},
   "source": [
    "# 4. Returns Over Time"
   ]
  },
  {
   "cell_type": "markdown",
   "id": "fbce55a1",
   "metadata": {},
   "source": [
    "## 1.\n",
    "\n",
    "If Barnstable’s assumptions hold, (log iid returns, normally distributed,) then in what sense is an investment safer in the long-run? And in what sense is it riskier in the long-run?"
   ]
  },
  {
   "cell_type": "markdown",
   "id": "26e19f68",
   "metadata": {},
   "source": [
    "## 2. \n",
    "\n",
    "### (10pts)\n",
    "\n",
    "Data \n",
    "* Make use of the `risk-free rate` tab.\n",
    "* Construct the **total** factor returns by adding the risk-free rate to the excess `MKT` and `HML` factor returns.\n",
    "\n",
    "Assumptions\n",
    "* The total returns are lognormally distributed and iid. \n",
    "\n",
    "Report the probability that `MKT` will outperform `HML` over the following 5 years."
   ]
  },
  {
   "metadata": {
    "ExecuteTime": {
     "end_time": "2024-11-11T16:32:56.084630Z",
     "start_time": "2024-11-11T16:32:56.071965Z"
    }
   },
   "cell_type": "code",
   "source": [
    "# Calculate total, log return\n",
    "ret_data = pd.concat([factors[['MKT', 'HML']], rf_rate['RF']], axis = 1)\n",
    "ret_data = ret_data.apply(lambda x: x + ret_data['RF'] if x.name != 'RF' else x)\n",
    "ret_data = ret_data.drop(columns='RF')\n",
    "log_ret_data = ret_data.apply(lambda x: np.log(1+x))\n",
    "log_ret_data.head()\n",
    "\n",
    "# Probability that MKT will outperform HML in next 5 years\n",
    "spread = log_ret_data['MKT'] - log_ret_data['HML']\n",
    "mu, sigma = spread.mean() * 12, spread.std() * np.sqrt(12)\n",
    "prob = norm.cdf(np.sqrt(5) * mu / sigma)\n",
    "print(f'Probability that MKT will outperform HML in next 5-years: {round(prob,4)}')"
   ],
   "id": "900036766fd2c600",
   "outputs": [
    {
     "name": "stdout",
     "output_type": "stream",
     "text": [
      "Probability that MKT will outperform HML in next 5-years: 0.7107\n"
     ]
    }
   ],
   "execution_count": 119
  },
  {
   "cell_type": "markdown",
   "id": "deca7ce8",
   "metadata": {},
   "source": [
    "***"
   ]
  }
 ],
 "metadata": {
  "hide_input": false,
  "kernelspec": {
   "display_name": "Python 3 (ipykernel)",
   "language": "python",
   "name": "python3"
  },
  "language_info": {
   "codemirror_mode": {
    "name": "ipython",
    "version": 3
   },
   "file_extension": ".py",
   "mimetype": "text/x-python",
   "name": "python",
   "nbconvert_exporter": "python",
   "pygments_lexer": "ipython3",
   "version": "3.9.6"
  }
 },
 "nbformat": 4,
 "nbformat_minor": 5
}
