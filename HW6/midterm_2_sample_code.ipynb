{
 "cells": [
  {
   "cell_type": "markdown",
   "id": "559895d2",
   "metadata": {},
   "source": [
    "# Midterm 2\n",
    "\n",
    "## FINM 36700 - 2024\n",
    "\n",
    "### Brian Wickman"
   ]
  },
  {
   "cell_type": "markdown",
   "id": "624f27b1",
   "metadata": {},
   "source": [
    "## Data\n",
    "\n",
    "**All data files are found in the class github repo, in the `data` folder.**\n",
    "\n",
    "This exam makes use of the following data files:\n",
    "* `midterm_2_data.xlsx`\n",
    "\n",
    "This file contains the following sheets:\n",
    "- for Section 2:\n",
    "    * `sector stocks excess returns` - MONTHLY excess returns for 49 sector stocks\n",
    "    * `factors excess returns` - MONTHLY excess returns of AQR factor model from Homework 5\n",
    "- for Section 3:\n",
    "    * `factors excess returns` - MONTHLY excess returns of AQR factor model from Homework 5"
   ]
  },
  {
   "metadata": {
    "ExecuteTime": {
     "end_time": "2024-11-12T00:05:37.902833Z",
     "start_time": "2024-11-12T00:05:37.170282Z"
    }
   },
   "cell_type": "code",
   "source": [
    "# Set-up & Import data\n",
    "import pandas as pd\n",
    "import matplotlib.pyplot as plt\n",
    "import numpy as np\n",
    "import seaborn as sns\n",
    "import statsmodels.api as sm\n",
    "from scipy.stats import norm\n",
    "import warnings\n",
    "warnings.filterwarnings(\"ignore\")\n",
    "sns.set_theme()\n",
    "\n",
    "# import helper functions\n",
    "import importlib\n",
    "import helper_funcs\n",
    "\n",
    "# Import data\n",
    "FILEIN = 'data/midterm_2_data.xlsx'\n",
    "\n",
    "factors = pd.read_excel(FILEIN, sheet_name='factors excess returns').set_index('date')\n",
    "sectors = pd.read_excel(FILEIN, sheet_name='sector excess returns').set_index('date')"
   ],
   "id": "b0964359ee1fb0b4",
   "outputs": [],
   "execution_count": 2
  },
  {
   "cell_type": "markdown",
   "id": "81156e8f",
   "metadata": {},
   "source": [
    "# 1. Short Answer"
   ]
  },
  {
   "cell_type": "markdown",
   "id": "4ed2ec27",
   "metadata": {},
   "source": [
    "### 1.1.\n",
    "\n",
    "Historically, which pricing factor among the ones we studied has shown a considerable decrease in importance?"
   ]
  },
  {
   "metadata": {},
   "cell_type": "markdown",
   "source": "From our analysis with tangency portfolios, the SMB factor has shown a considerable decrease in importance. From a time-series graph of cumulative returns perspective, (1) momentum has suffered since 2009 and (2) value (HML) turned into a discount (negative) in the recent past.",
   "id": "b6b72aa2524a8bbe"
  },
  {
   "cell_type": "markdown",
   "id": "c65c8109",
   "metadata": {
    "vscode": {
     "languageId": "plaintext"
    }
   },
   "source": [
    "### 1.2.\n",
    "\n",
    "True or False: For a given factor model and a set of test assets, the addition of one more factor to that model will surely decrease the cross-sectional MAE. \n",
    "\n",
    "True or False: For a given factor model and a set of test assets, the addition of one more factor to that model will surely decrease the time-series MAE. \n",
    "\n",
    "Along with stating T/F, explain your reasoning for the two statements."
   ]
  },
  {
   "metadata": {},
   "cell_type": "markdown",
   "source": [
    "1) False, the new factor could be perfectly (0.999) correlated with anothe factor and not improve the regression fit nor cross-sectional MAE. The cross-sectional MAE (>0) suggests that there exists risk-free excess returns (factor model not capturing all risk premia). Thus, adding a highly correlated factor might not improve cross-sectional fit.\n",
    "2) False, no obvious reason why an additional covariate to a linear regression will lower the MAE of the intercepts (i.e. shrink the intercepts toward zero). "
   ],
   "id": "92133a4bcd567e4"
  },
  {
   "cell_type": "markdown",
   "id": "24c00026",
   "metadata": {},
   "source": [
    "### 1.3.\n",
    "\n",
    "Consider the scenario in which you are helping two people with investments.\n",
    "\n",
    "* The young person has a 50 year investment horizon.\n",
    "* The elderly person has a 10 year investment horizon.\n",
    "* Both individuals have the same portfolio holdings.\n",
    "\n",
    "State who has the more certain cumulative return and explain your reasoning."
   ]
  },
  {
   "metadata": {},
   "cell_type": "markdown",
   "source": "If log returns are assumed to be IID and normally distributed, the 50-year investment horizon investor has a more certain cumulative return from a statistical perspective. We know that mean annualized return converges to true annual mean return as investment horizon gets large and the variance of annualized returns go to zero, which favors the longer investment horizon. From a historical perspective, if both individuals have broad market exposure, past performance suggests longer investment horizons would win as returns compound, if markets keep increasing. However, if these two individuals are 100% in Bitcoin (reached new high today), the investment could crash eleven years from now and sabotage the young person's 50-year investment horizon. In short, the longer-horizon has a higher probability of cumulative return, although it is not guaranteed.",
   "id": "9ffb3e158fb61ed9"
  },
  {
   "cell_type": "markdown",
   "id": "460d4d72",
   "metadata": {},
   "source": [
    "### 1.4.\n",
    "\n",
    "Suppose we find that the 10-year bond yield works well as a new pricing factor, along with `MKT`.\n",
    "\n",
    "Consider two ways of building this new factor.\n",
    "1. Directly use the index of 10-year yields, `YLD`\n",
    "1. Construct a Fama-French style portfolio of equities, `FFYLD`. (Rank all the stocks by their correlation to bond yield changes, and go long the highest ranked and shor tthe lowest ranked.)\n",
    "\n",
    "Could you test the model with `YLD` and the model with `FFYLD` in the exact same ways? Explain"
   ]
  },
  {
   "metadata": {},
   "cell_type": "markdown",
   "source": [
    "Initial thought: YLD is not necessarily a bad idea because would not be correlated with MKT factor as interest rates rely on business cycles (so maybe a little correlated lol).\n",
    "No, the index of 10-year yields would not be returns, but rather yields, a more economic variable. Typically, researchers would use changes in yields rather than yield levels and maybe even consider a non-linear time-series model as the yield curve has unique statistical properties.\n",
    "**I looked this question up on COPILOT.**\n"
   ],
   "id": "5c93f3731257b55d"
  },
  {
   "cell_type": "markdown",
   "id": "edf2d238",
   "metadata": {},
   "source": [
    "### 1.5.\n",
    "\n",
    "Suppose we implement a momentum strategy on cryptocurrencies rather than US stocks.\n",
    "\n",
    "Conceptually speaking, but specific to the context of our course discussion, how would the risk profile differ from the momentum strategy of US equities?"
   ]
  },
  {
   "metadata": {},
   "cell_type": "markdown",
   "source": "The crypto momentum strategy would be much riskier (higher volatility) because the universe of reliable (read: non-fraudelent) cryptocurrencies is small and the momentum strategy relies on large universe of assets (that are also liquid)/ from which to pick big winners and losers. Without the distinction between big winners and losers, the small edge of momentum is not viable. Furthermore, I would be interested in analyzing the autocorrelation of crypto returns before deploying this strategy.",
   "id": "fde11ced0b3c765"
  },
  {
   "cell_type": "markdown",
   "id": "632ce7d4",
   "metadata": {},
   "source": [
    "***"
   ]
  },
  {
   "cell_type": "markdown",
   "id": "f7a8a354",
   "metadata": {
    "vscode": {
     "languageId": "plaintext"
    }
   },
   "source": [
    "# 2. Pricing and Tangency Portfolio\n",
    "\n",
    "You work in a hedge fund that believes that the AQR 4-Factor Model (present in Homework 5) is the perfect pricing model for stocks.\n",
    "\n",
    "$$\n",
    "\\mathbb{E} \\left[ \\tilde{r}^i \\right] = \\beta^{i,\\text{MKT}} \\mathbb{E} \\left[ \\tilde{f}_{\\text{MKT}} \\right] + \\beta^{i,\\text{HML}} \\mathbb{E} \\left[ \\tilde{f}_{\\text{HML}} \\right] + \\beta^{i,\\text{RMW}} \\mathbb{E} \\left[ \\tilde{f}_{\\text{RMW}} \\right] + \\beta^{i,\\text{UMD}} \\mathbb{E} \\left[ \\tilde{f}_{\\text{UMD}} \\right]\n",
    "$$\n",
    "\n",
    "The factors are available in the sheet `factors excess returns`.\n",
    "\n",
    "The hedge fund invests in sector-tracking ETFs available in the sheet `sectors excess returns`. You are to allocate into these sectors according to a mean-variance optimization with...\n",
    "\n",
    "* regularization: elements outside the diagonal covariance matrix divided by 2.\n",
    "* modeled risk premia: expected excess returns given by the factor model rather than just using the historic sample averages.\n",
    "\n",
    "You are to train the portfolio and test out-of-sample. The timeframes should be:\n",
    "* Training timeframe: Jan-2018 to Dec-2022.\n",
    "* Testing timeframe: Jan-2023 to most recent observation."
   ]
  },
  {
   "metadata": {
    "ExecuteTime": {
     "end_time": "2024-11-12T00:07:47.978617Z",
     "start_time": "2024-11-12T00:07:47.962994Z"
    }
   },
   "cell_type": "code",
   "source": [
    "# Set-up\n",
    "train_start = '2018-01-01'\n",
    "train_end = '2022-12-31'\n",
    "test_start = '2023-01-01'"
   ],
   "id": "dcdc34efef310bb4",
   "outputs": [],
   "execution_count": 3
  },
  {
   "cell_type": "markdown",
   "id": "db465bc9",
   "metadata": {
    "vscode": {
     "languageId": "plaintext"
    }
   },
   "source": [
    "### 2.1.\n",
    "(8pts)\n",
    "\n",
    "Calculate the model-implied expected excess returns of every asset.\n",
    "\n",
    "The time-series estimations should...\n",
    "* NOT include an intercept. (You assume the model holds perfectly.)\n",
    "* use data from the `training` timeframe.\n",
    "\n",
    "With the time-series estimates, use the `training` timeframe's sample average of the factors as the factor premia. Together, this will give you the model-implied risk premia, which we label as\n",
    "$$\n",
    "\\lambda_i := \\mathbb{E}[\\tilde{r}_i]\n",
    "$$\n",
    "\n",
    "* Store $\\lambda_i$ and $\\boldsymbol{\\beta}^i$ for each asset.\n",
    "* Print $\\lambda_i$ for `Agric`, `Food`, `Soda`"
   ]
  },
  {
   "metadata": {
    "ExecuteTime": {
     "end_time": "2024-11-12T01:30:00.907699Z",
     "start_time": "2024-11-12T01:30:00.575435Z"
    }
   },
   "cell_type": "code",
   "source": [
    "# CAPM RP Estimation (NO INTERCEPT)\n",
    "importlib.reload(helper_funcs) # no intercept, no alpha to report\n",
    "train_sectors = sectors.loc[train_start:train_end]\n",
    "train_factors = factors.loc[train_start:train_end]\n",
    "\n",
    "# Time-series estimation (Beta^i's), without intercept\n",
    "capm_ts_results = pd.DataFrame()\n",
    "for col in train_sectors.columns:\n",
    "    # Process the column\n",
    "    temp_df = helper_funcs.capm_ts_regression(train_sectors[col], factor = train_factors)\n",
    "    # Concatenate the result to the final DataFrame\n",
    "    capm_ts_results = pd.concat([capm_ts_results, temp_df])\n",
    "betas = capm_ts_results.copy()\n",
    "lambdas = ((train_factors.mean() * 12) * betas[['MKT', 'HML', 'RMW', 'UMD']]).sum(axis = 1).to_frame('lambda_i')\n",
    "display(lambdas.loc[['Agric', 'Food ', 'Soda ']]) # spaces are hard :/\n",
    "\n",
    "# Construct time-series of excess returns based on factor model\n",
    "train_expected_excess_returns = pd.DataFrame(index=train_sectors.index)\n",
    "for portfolio in betas.index:\n",
    "    # Multiply the weights by the time-series values (how much exposure to each factor * factor)\n",
    "    portfolio_returns = factors.mul(betas.loc[portfolio], axis=1)\n",
    "\n",
    "    # Sum the results to get the monthly portfolio returns\n",
    "    train_expected_excess_returns[portfolio] = portfolio_returns.sum(axis=1)\n",
    "\n",
    "# Print the resulting DataFrame\n",
    "display(train_expected_excess_returns.head(5))\n"
   ],
   "id": "744d983311f0a34",
   "outputs": [
    {
     "data": {
      "text/plain": [
       "       lambda_i\n",
       "Agric  0.043861\n",
       "Food   0.065451\n",
       "Soda   0.088035"
      ],
      "text/html": [
       "<div>\n",
       "<style scoped>\n",
       "    .dataframe tbody tr th:only-of-type {\n",
       "        vertical-align: middle;\n",
       "    }\n",
       "\n",
       "    .dataframe tbody tr th {\n",
       "        vertical-align: top;\n",
       "    }\n",
       "\n",
       "    .dataframe thead th {\n",
       "        text-align: right;\n",
       "    }\n",
       "</style>\n",
       "<table border=\"1\" class=\"dataframe\">\n",
       "  <thead>\n",
       "    <tr style=\"text-align: right;\">\n",
       "      <th></th>\n",
       "      <th>lambda_i</th>\n",
       "    </tr>\n",
       "  </thead>\n",
       "  <tbody>\n",
       "    <tr>\n",
       "      <th>Agric</th>\n",
       "      <td>0.043861</td>\n",
       "    </tr>\n",
       "    <tr>\n",
       "      <th>Food</th>\n",
       "      <td>0.065451</td>\n",
       "    </tr>\n",
       "    <tr>\n",
       "      <th>Soda</th>\n",
       "      <td>0.088035</td>\n",
       "    </tr>\n",
       "  </tbody>\n",
       "</table>\n",
       "</div>"
      ]
     },
     "metadata": {},
     "output_type": "display_data"
    },
    {
     "data": {
      "text/plain": [
       "               Agric     Food      Soda      Beer      Smoke     Toys   \\\n",
       "date                                                                     \n",
       "2018-01-01  0.044583  0.024118  0.023565  0.023490  0.013633  0.092526   \n",
       "2018-02-01 -0.037196 -0.019921 -0.018031 -0.018412 -0.025619 -0.050492   \n",
       "2018-03-01 -0.019005 -0.013997 -0.015890 -0.014952 -0.012768 -0.029957   \n",
       "2018-04-01  0.017814 -0.004940 -0.012993 -0.013821 -0.006473  0.028622   \n",
       "2018-05-01  0.015938  0.000797 -0.004010 -0.000873 -0.014497  0.066757   \n",
       "\n",
       "               Fun       Books     Hshld     Clths  ...     Boxes     Trans  \\\n",
       "date                                                ...                       \n",
       "2018-01-01  0.082981  0.042938  0.018345  0.054146  ...  0.035283  0.054598   \n",
       "2018-02-01 -0.054147 -0.058826 -0.015086 -0.045314  ... -0.031793 -0.047034   \n",
       "2018-03-01 -0.027568 -0.019525 -0.013700 -0.025312  ... -0.017923 -0.024858   \n",
       "2018-04-01  0.023893  0.013174 -0.020010 -0.006784  ... -0.005177  0.003678   \n",
       "2018-05-01  0.057953  0.012131 -0.004583  0.020362  ...  0.008812  0.019617   \n",
       "\n",
       "               Whlsl     Rtail     Meals     Banks     Insur     RlEst  \\\n",
       "date                                                                     \n",
       "2018-01-01  0.048146  0.063889  0.045164  0.045476  0.041157  0.047674   \n",
       "2018-02-01 -0.039448 -0.030036 -0.033692 -0.053357 -0.029675 -0.071131   \n",
       "2018-03-01 -0.024156 -0.024395 -0.022258 -0.022766 -0.019953 -0.022981   \n",
       "2018-04-01 -0.001355 -0.000929 -0.004184  0.012053  0.002052  0.013410   \n",
       "2018-05-01  0.011415  0.040149  0.012918  0.006787  0.011159  0.009493   \n",
       "\n",
       "               Fin       Other  \n",
       "date                            \n",
       "2018-01-01  0.053868  0.043315  \n",
       "2018-02-01 -0.044868 -0.035987  \n",
       "2018-03-01 -0.024363 -0.020979  \n",
       "2018-04-01  0.006380  0.003821  \n",
       "2018-05-01  0.019112  0.011240  \n",
       "\n",
       "[5 rows x 49 columns]"
      ],
      "text/html": [
       "<div>\n",
       "<style scoped>\n",
       "    .dataframe tbody tr th:only-of-type {\n",
       "        vertical-align: middle;\n",
       "    }\n",
       "\n",
       "    .dataframe tbody tr th {\n",
       "        vertical-align: top;\n",
       "    }\n",
       "\n",
       "    .dataframe thead th {\n",
       "        text-align: right;\n",
       "    }\n",
       "</style>\n",
       "<table border=\"1\" class=\"dataframe\">\n",
       "  <thead>\n",
       "    <tr style=\"text-align: right;\">\n",
       "      <th></th>\n",
       "      <th>Agric</th>\n",
       "      <th>Food</th>\n",
       "      <th>Soda</th>\n",
       "      <th>Beer</th>\n",
       "      <th>Smoke</th>\n",
       "      <th>Toys</th>\n",
       "      <th>Fun</th>\n",
       "      <th>Books</th>\n",
       "      <th>Hshld</th>\n",
       "      <th>Clths</th>\n",
       "      <th>...</th>\n",
       "      <th>Boxes</th>\n",
       "      <th>Trans</th>\n",
       "      <th>Whlsl</th>\n",
       "      <th>Rtail</th>\n",
       "      <th>Meals</th>\n",
       "      <th>Banks</th>\n",
       "      <th>Insur</th>\n",
       "      <th>RlEst</th>\n",
       "      <th>Fin</th>\n",
       "      <th>Other</th>\n",
       "    </tr>\n",
       "    <tr>\n",
       "      <th>date</th>\n",
       "      <th></th>\n",
       "      <th></th>\n",
       "      <th></th>\n",
       "      <th></th>\n",
       "      <th></th>\n",
       "      <th></th>\n",
       "      <th></th>\n",
       "      <th></th>\n",
       "      <th></th>\n",
       "      <th></th>\n",
       "      <th></th>\n",
       "      <th></th>\n",
       "      <th></th>\n",
       "      <th></th>\n",
       "      <th></th>\n",
       "      <th></th>\n",
       "      <th></th>\n",
       "      <th></th>\n",
       "      <th></th>\n",
       "      <th></th>\n",
       "      <th></th>\n",
       "    </tr>\n",
       "  </thead>\n",
       "  <tbody>\n",
       "    <tr>\n",
       "      <th>2018-01-01</th>\n",
       "      <td>0.044583</td>\n",
       "      <td>0.024118</td>\n",
       "      <td>0.023565</td>\n",
       "      <td>0.023490</td>\n",
       "      <td>0.013633</td>\n",
       "      <td>0.092526</td>\n",
       "      <td>0.082981</td>\n",
       "      <td>0.042938</td>\n",
       "      <td>0.018345</td>\n",
       "      <td>0.054146</td>\n",
       "      <td>...</td>\n",
       "      <td>0.035283</td>\n",
       "      <td>0.054598</td>\n",
       "      <td>0.048146</td>\n",
       "      <td>0.063889</td>\n",
       "      <td>0.045164</td>\n",
       "      <td>0.045476</td>\n",
       "      <td>0.041157</td>\n",
       "      <td>0.047674</td>\n",
       "      <td>0.053868</td>\n",
       "      <td>0.043315</td>\n",
       "    </tr>\n",
       "    <tr>\n",
       "      <th>2018-02-01</th>\n",
       "      <td>-0.037196</td>\n",
       "      <td>-0.019921</td>\n",
       "      <td>-0.018031</td>\n",
       "      <td>-0.018412</td>\n",
       "      <td>-0.025619</td>\n",
       "      <td>-0.050492</td>\n",
       "      <td>-0.054147</td>\n",
       "      <td>-0.058826</td>\n",
       "      <td>-0.015086</td>\n",
       "      <td>-0.045314</td>\n",
       "      <td>...</td>\n",
       "      <td>-0.031793</td>\n",
       "      <td>-0.047034</td>\n",
       "      <td>-0.039448</td>\n",
       "      <td>-0.030036</td>\n",
       "      <td>-0.033692</td>\n",
       "      <td>-0.053357</td>\n",
       "      <td>-0.029675</td>\n",
       "      <td>-0.071131</td>\n",
       "      <td>-0.044868</td>\n",
       "      <td>-0.035987</td>\n",
       "    </tr>\n",
       "    <tr>\n",
       "      <th>2018-03-01</th>\n",
       "      <td>-0.019005</td>\n",
       "      <td>-0.013997</td>\n",
       "      <td>-0.015890</td>\n",
       "      <td>-0.014952</td>\n",
       "      <td>-0.012768</td>\n",
       "      <td>-0.029957</td>\n",
       "      <td>-0.027568</td>\n",
       "      <td>-0.019525</td>\n",
       "      <td>-0.013700</td>\n",
       "      <td>-0.025312</td>\n",
       "      <td>...</td>\n",
       "      <td>-0.017923</td>\n",
       "      <td>-0.024858</td>\n",
       "      <td>-0.024156</td>\n",
       "      <td>-0.024395</td>\n",
       "      <td>-0.022258</td>\n",
       "      <td>-0.022766</td>\n",
       "      <td>-0.019953</td>\n",
       "      <td>-0.022981</td>\n",
       "      <td>-0.024363</td>\n",
       "      <td>-0.020979</td>\n",
       "    </tr>\n",
       "    <tr>\n",
       "      <th>2018-04-01</th>\n",
       "      <td>0.017814</td>\n",
       "      <td>-0.004940</td>\n",
       "      <td>-0.012993</td>\n",
       "      <td>-0.013821</td>\n",
       "      <td>-0.006473</td>\n",
       "      <td>0.028622</td>\n",
       "      <td>0.023893</td>\n",
       "      <td>0.013174</td>\n",
       "      <td>-0.020010</td>\n",
       "      <td>-0.006784</td>\n",
       "      <td>...</td>\n",
       "      <td>-0.005177</td>\n",
       "      <td>0.003678</td>\n",
       "      <td>-0.001355</td>\n",
       "      <td>-0.000929</td>\n",
       "      <td>-0.004184</td>\n",
       "      <td>0.012053</td>\n",
       "      <td>0.002052</td>\n",
       "      <td>0.013410</td>\n",
       "      <td>0.006380</td>\n",
       "      <td>0.003821</td>\n",
       "    </tr>\n",
       "    <tr>\n",
       "      <th>2018-05-01</th>\n",
       "      <td>0.015938</td>\n",
       "      <td>0.000797</td>\n",
       "      <td>-0.004010</td>\n",
       "      <td>-0.000873</td>\n",
       "      <td>-0.014497</td>\n",
       "      <td>0.066757</td>\n",
       "      <td>0.057953</td>\n",
       "      <td>0.012131</td>\n",
       "      <td>-0.004583</td>\n",
       "      <td>0.020362</td>\n",
       "      <td>...</td>\n",
       "      <td>0.008812</td>\n",
       "      <td>0.019617</td>\n",
       "      <td>0.011415</td>\n",
       "      <td>0.040149</td>\n",
       "      <td>0.012918</td>\n",
       "      <td>0.006787</td>\n",
       "      <td>0.011159</td>\n",
       "      <td>0.009493</td>\n",
       "      <td>0.019112</td>\n",
       "      <td>0.011240</td>\n",
       "    </tr>\n",
       "  </tbody>\n",
       "</table>\n",
       "<p>5 rows × 49 columns</p>\n",
       "</div>"
      ]
     },
     "metadata": {},
     "output_type": "display_data"
    }
   ],
   "execution_count": 59
  },
  {
   "cell_type": "markdown",
   "id": "6b80c6b5",
   "metadata": {
    "vscode": {
     "languageId": "plaintext"
    }
   },
   "source": [
    "### 2.2.\n",
    "\n",
    "Use the expected excess returns derived from (2.1) with the **regularized** covariance matrix to calculate the weights of the tangency portfolio.\n",
    "\n",
    "- Use the covariance matrix only for `training` timeframe.\n",
    "- Calculate and store the vector of weights for all the assets.\n",
    "- Return the weights of the tangency portfolio for `Agric`, `Food`, `Soda`.\n",
    "\n",
    "$$\n",
    "\\textbf{w}_{t} = \\dfrac{\\tilde{\\Sigma}^{-1} \\bm{\\lambda}}{\\bm{1}' \\tilde{\\Sigma}^{-1} \\bm{\\lambda}}\n",
    "$$\n",
    "\n",
    "Where $\\tilde{\\Sigma}^{-1}$ is the regularized covariance-matrix."
   ]
  },
  {
   "metadata": {
    "ExecuteTime": {
     "end_time": "2024-11-12T01:30:20.554007Z",
     "start_time": "2024-11-12T01:30:20.514997Z"
    }
   },
   "cell_type": "code",
   "source": [
    "# tangency weights use expected excess returns, not \n",
    "wts = helper_funcs.tangency_weights(train_expected_excess_returns, cov_mat = 0.5)\n",
    "display(wts.loc[['Agric', 'Food ', 'Soda ']])"
   ],
   "id": "5716e6b9c0c407bc",
   "outputs": [
    {
     "data": {
      "text/plain": [
       "       Tangent Weights\n",
       "Agric        -0.030451\n",
       "Food          0.063498\n",
       "Soda          0.104376"
      ],
      "text/html": [
       "<div>\n",
       "<style scoped>\n",
       "    .dataframe tbody tr th:only-of-type {\n",
       "        vertical-align: middle;\n",
       "    }\n",
       "\n",
       "    .dataframe tbody tr th {\n",
       "        vertical-align: top;\n",
       "    }\n",
       "\n",
       "    .dataframe thead th {\n",
       "        text-align: right;\n",
       "    }\n",
       "</style>\n",
       "<table border=\"1\" class=\"dataframe\">\n",
       "  <thead>\n",
       "    <tr style=\"text-align: right;\">\n",
       "      <th></th>\n",
       "      <th>Tangent Weights</th>\n",
       "    </tr>\n",
       "  </thead>\n",
       "  <tbody>\n",
       "    <tr>\n",
       "      <th>Agric</th>\n",
       "      <td>-0.030451</td>\n",
       "    </tr>\n",
       "    <tr>\n",
       "      <th>Food</th>\n",
       "      <td>0.063498</td>\n",
       "    </tr>\n",
       "    <tr>\n",
       "      <th>Soda</th>\n",
       "      <td>0.104376</td>\n",
       "    </tr>\n",
       "  </tbody>\n",
       "</table>\n",
       "</div>"
      ]
     },
     "metadata": {},
     "output_type": "display_data"
    }
   ],
   "execution_count": 61
  },
  {
   "cell_type": "markdown",
   "id": "6a5c171c",
   "metadata": {
    "vscode": {
     "languageId": "plaintext"
    }
   },
   "source": [
    "### 2.3.\n",
    "\n",
    "Evaluate the performance of this allocation in the `testing` period. Report the **annualized**\n",
    "- mean\n",
    "- vol\n",
    "- Sharpe"
   ]
  },
  {
   "metadata": {
    "ExecuteTime": {
     "end_time": "2024-11-12T01:31:51.638881Z",
     "start_time": "2024-11-12T01:31:51.604265Z"
    }
   },
   "cell_type": "code",
   "source": [
    "# performance of regularized MV optimization\n",
    "# using testing data, not estimated excess returns\n",
    "test_sectors = sectors.loc[test_start:]\n",
    "reg_performance = helper_funcs.summary_stats(test_sectors@wts)\n",
    "display(reg_performance)"
   ],
   "id": "74c713af428cdf0a",
   "outputs": [
    {
     "data": {
      "text/plain": [
       "                   Mean  Volatility  Sharpe  VaR (0.05)\n",
       "Tangent Weights  0.0967      0.2055  0.4706     -0.0766"
      ],
      "text/html": [
       "<div>\n",
       "<style scoped>\n",
       "    .dataframe tbody tr th:only-of-type {\n",
       "        vertical-align: middle;\n",
       "    }\n",
       "\n",
       "    .dataframe tbody tr th {\n",
       "        vertical-align: top;\n",
       "    }\n",
       "\n",
       "    .dataframe thead th {\n",
       "        text-align: right;\n",
       "    }\n",
       "</style>\n",
       "<table border=\"1\" class=\"dataframe\">\n",
       "  <thead>\n",
       "    <tr style=\"text-align: right;\">\n",
       "      <th></th>\n",
       "      <th>Mean</th>\n",
       "      <th>Volatility</th>\n",
       "      <th>Sharpe</th>\n",
       "      <th>VaR (0.05)</th>\n",
       "    </tr>\n",
       "  </thead>\n",
       "  <tbody>\n",
       "    <tr>\n",
       "      <th>Tangent Weights</th>\n",
       "      <td>0.0967</td>\n",
       "      <td>0.2055</td>\n",
       "      <td>0.4706</td>\n",
       "      <td>-0.0766</td>\n",
       "    </tr>\n",
       "  </tbody>\n",
       "</table>\n",
       "</div>"
      ]
     },
     "metadata": {},
     "output_type": "display_data"
    }
   ],
   "execution_count": 62
  },
  {
   "cell_type": "markdown",
   "id": "69a6f8bc",
   "metadata": {
    "vscode": {
     "languageId": "plaintext"
    }
   },
   "source": [
    "### 2.4.\n",
    "\n",
    "(7pts)\n",
    "\n",
    "Construct the same tangency portfolio as in `2.2` but with one change:\n",
    "* replace the risk premia of the assets, (denoted $\\lambda_i$) with the sample averages of the excess returns from the `training` set.\n",
    "\n",
    "So instead of using $\\lambda_i$ suggested by the factor model (as in `2.1-2.3`) you're using sample averages for $\\lambda_i$.\n",
    "\n",
    "- Return the weights of the tangency portfolio for `Agric`, `Food`, `Soda`.\n",
    "\n",
    "Evaluate the performance of this allocation in the `testing` period. Report the **annualized**\n",
    "- mean\n",
    "- vol\n",
    "- Sharpe"
   ]
  },
  {
   "metadata": {
    "ExecuteTime": {
     "end_time": "2024-11-12T01:41:42.087526Z",
     "start_time": "2024-11-12T01:41:41.942101Z"
    }
   },
   "cell_type": "code",
   "source": [
    "# risk premia based on sample averages\n",
    "lambdas_hist = train_sectors.mean()\n",
    "# Construct time-series of excess returns based on factor model\n",
    "train_expected_excess_returns2 = pd.DataFrame(index=train_sectors.index)\n",
    "for portfolio in lambdas_hist.index:\n",
    "    # Multiply the historical RP by the time-series values\n",
    "    # how much exposure to each factor\n",
    "    portfolio_returns = factors.mul(lambdas_hist.loc[portfolio], axis=1)\n",
    "\n",
    "    # Sum the results to get the monthly portfolio returns\n",
    "    train_expected_excess_returns2[portfolio] = portfolio_returns.sum(axis=1)\n",
    "\n",
    "# Calculate tangency weights\n",
    "wts2 = helper_funcs.tangency_weights(train_expected_excess_returns2, cov_mat = 0.5)\n",
    "display(wts2.loc[['Agric', 'Food ', 'Soda ']])\n",
    "\n",
    "# tangency portfolio performance\n",
    "reg_performance2 = helper_funcs.summary_stats(test_sectors@wts2)\n",
    "display(reg_performance2)"
   ],
   "id": "1135443a80d2c309",
   "outputs": [
    {
     "data": {
      "text/plain": [
       "       Tangent Weights\n",
       "Agric         0.010436\n",
       "Food          0.023200\n",
       "Soda          0.011587"
      ],
      "text/html": [
       "<div>\n",
       "<style scoped>\n",
       "    .dataframe tbody tr th:only-of-type {\n",
       "        vertical-align: middle;\n",
       "    }\n",
       "\n",
       "    .dataframe tbody tr th {\n",
       "        vertical-align: top;\n",
       "    }\n",
       "\n",
       "    .dataframe thead th {\n",
       "        text-align: right;\n",
       "    }\n",
       "</style>\n",
       "<table border=\"1\" class=\"dataframe\">\n",
       "  <thead>\n",
       "    <tr style=\"text-align: right;\">\n",
       "      <th></th>\n",
       "      <th>Tangent Weights</th>\n",
       "    </tr>\n",
       "  </thead>\n",
       "  <tbody>\n",
       "    <tr>\n",
       "      <th>Agric</th>\n",
       "      <td>0.010436</td>\n",
       "    </tr>\n",
       "    <tr>\n",
       "      <th>Food</th>\n",
       "      <td>0.023200</td>\n",
       "    </tr>\n",
       "    <tr>\n",
       "      <th>Soda</th>\n",
       "      <td>0.011587</td>\n",
       "    </tr>\n",
       "  </tbody>\n",
       "</table>\n",
       "</div>"
      ]
     },
     "metadata": {},
     "output_type": "display_data"
    },
    {
     "data": {
      "text/plain": [
       "                   Mean  Volatility  Sharpe  VaR (0.05)\n",
       "Tangent Weights  0.1088      0.1634  0.6659     -0.0535"
      ],
      "text/html": [
       "<div>\n",
       "<style scoped>\n",
       "    .dataframe tbody tr th:only-of-type {\n",
       "        vertical-align: middle;\n",
       "    }\n",
       "\n",
       "    .dataframe tbody tr th {\n",
       "        vertical-align: top;\n",
       "    }\n",
       "\n",
       "    .dataframe thead th {\n",
       "        text-align: right;\n",
       "    }\n",
       "</style>\n",
       "<table border=\"1\" class=\"dataframe\">\n",
       "  <thead>\n",
       "    <tr style=\"text-align: right;\">\n",
       "      <th></th>\n",
       "      <th>Mean</th>\n",
       "      <th>Volatility</th>\n",
       "      <th>Sharpe</th>\n",
       "      <th>VaR (0.05)</th>\n",
       "    </tr>\n",
       "  </thead>\n",
       "  <tbody>\n",
       "    <tr>\n",
       "      <th>Tangent Weights</th>\n",
       "      <td>0.1088</td>\n",
       "      <td>0.1634</td>\n",
       "      <td>0.6659</td>\n",
       "      <td>-0.0535</td>\n",
       "    </tr>\n",
       "  </tbody>\n",
       "</table>\n",
       "</div>"
      ]
     },
     "metadata": {},
     "output_type": "display_data"
    }
   ],
   "execution_count": 65
  },
  {
   "cell_type": "markdown",
   "id": "8c172cbe",
   "metadata": {
    "vscode": {
     "languageId": "plaintext"
    }
   },
   "source": [
    "### 2.5.\n",
    "\n",
    "Which allocation performed better in the `testing` period: the allocation based on premia from the factor model or from the sample averages?\n",
    "\n",
    "Why might this be?"
   ]
  },
  {
   "metadata": {
    "ExecuteTime": {
     "end_time": "2024-11-12T01:42:54.932010Z",
     "start_time": "2024-11-12T01:42:54.902491Z"
    }
   },
   "cell_type": "code",
   "source": [
    "perf_comp = pd.concat([reg_performance, reg_performance2])\n",
    "perf_comp.index = ['TS_Premia', 'Hist_Premia']\n",
    "display(perf_comp)"
   ],
   "id": "943de8b6a4325c85",
   "outputs": [
    {
     "data": {
      "text/plain": [
       "               Mean  Volatility  Sharpe  VaR (0.05)\n",
       "TS_Premia    0.0967      0.2055  0.4706     -0.0766\n",
       "Hist_Premia  0.1088      0.1634  0.6659     -0.0535"
      ],
      "text/html": [
       "<div>\n",
       "<style scoped>\n",
       "    .dataframe tbody tr th:only-of-type {\n",
       "        vertical-align: middle;\n",
       "    }\n",
       "\n",
       "    .dataframe tbody tr th {\n",
       "        vertical-align: top;\n",
       "    }\n",
       "\n",
       "    .dataframe thead th {\n",
       "        text-align: right;\n",
       "    }\n",
       "</style>\n",
       "<table border=\"1\" class=\"dataframe\">\n",
       "  <thead>\n",
       "    <tr style=\"text-align: right;\">\n",
       "      <th></th>\n",
       "      <th>Mean</th>\n",
       "      <th>Volatility</th>\n",
       "      <th>Sharpe</th>\n",
       "      <th>VaR (0.05)</th>\n",
       "    </tr>\n",
       "  </thead>\n",
       "  <tbody>\n",
       "    <tr>\n",
       "      <th>TS_Premia</th>\n",
       "      <td>0.0967</td>\n",
       "      <td>0.2055</td>\n",
       "      <td>0.4706</td>\n",
       "      <td>-0.0766</td>\n",
       "    </tr>\n",
       "    <tr>\n",
       "      <th>Hist_Premia</th>\n",
       "      <td>0.1088</td>\n",
       "      <td>0.1634</td>\n",
       "      <td>0.6659</td>\n",
       "      <td>-0.0535</td>\n",
       "    </tr>\n",
       "  </tbody>\n",
       "</table>\n",
       "</div>"
      ]
     },
     "metadata": {},
     "output_type": "display_data"
    }
   ],
   "execution_count": 67
  },
  {
   "metadata": {},
   "cell_type": "markdown",
   "source": "Interestingly enough, the premia estimated from historical averages performed better, with a higher mean return, Sharpe Ratio, and smaller VaR. This implies that the modeled risk premia were not robust to out-of-sample testing and that the factors performed close to their historical averages.",
   "id": "b7ce6a1e6c683fb1"
  },
  {
   "cell_type": "markdown",
   "id": "82a442fc",
   "metadata": {
    "vscode": {
     "languageId": "plaintext"
    }
   },
   "source": [
    "### 2.6.\n",
    "Suppose you now want to build a tangency portfolio solely from the factors, without using the sector ETFs.\n",
    "\n",
    "- Calculate the weights of the tangency portfolio using `training` data for the factors.\n",
    "- Again, regularize the covariance matrix of factor returns by dividing off-diagonal elements by 2.\n",
    "\n",
    "Report, in the `testing` period, the factor-based tangency stats **annualized**...\n",
    "- mean\n",
    "- vol\n",
    "- Sharpe\n"
   ]
  },
  {
   "metadata": {
    "ExecuteTime": {
     "end_time": "2024-11-12T01:46:56.593093Z",
     "start_time": "2024-11-12T01:46:56.551184Z"
    }
   },
   "cell_type": "code",
   "source": [
    "# Calculate tangency weights\n",
    "wts_fct = helper_funcs.tangency_weights(train_factors, cov_mat = 0.5)\n",
    "display(wts_fct)\n",
    "\n",
    "# tangency portfolio performance\n",
    "test_factors = factors.loc[test_start:]\n",
    "reg_performance3 = helper_funcs.summary_stats(test_factors@wts_fct)\n",
    "display(reg_performance3)"
   ],
   "id": "31979bacac6aee1c",
   "outputs": [
    {
     "data": {
      "text/plain": [
       "     Tangent Weights\n",
       "MKT         0.176921\n",
       "HML        -0.016221\n",
       "RMW         0.598427\n",
       "UMD         0.240872"
      ],
      "text/html": [
       "<div>\n",
       "<style scoped>\n",
       "    .dataframe tbody tr th:only-of-type {\n",
       "        vertical-align: middle;\n",
       "    }\n",
       "\n",
       "    .dataframe tbody tr th {\n",
       "        vertical-align: top;\n",
       "    }\n",
       "\n",
       "    .dataframe thead th {\n",
       "        text-align: right;\n",
       "    }\n",
       "</style>\n",
       "<table border=\"1\" class=\"dataframe\">\n",
       "  <thead>\n",
       "    <tr style=\"text-align: right;\">\n",
       "      <th></th>\n",
       "      <th>Tangent Weights</th>\n",
       "    </tr>\n",
       "  </thead>\n",
       "  <tbody>\n",
       "    <tr>\n",
       "      <th>MKT</th>\n",
       "      <td>0.176921</td>\n",
       "    </tr>\n",
       "    <tr>\n",
       "      <th>HML</th>\n",
       "      <td>-0.016221</td>\n",
       "    </tr>\n",
       "    <tr>\n",
       "      <th>RMW</th>\n",
       "      <td>0.598427</td>\n",
       "    </tr>\n",
       "    <tr>\n",
       "      <th>UMD</th>\n",
       "      <td>0.240872</td>\n",
       "    </tr>\n",
       "  </tbody>\n",
       "</table>\n",
       "</div>"
      ]
     },
     "metadata": {},
     "output_type": "display_data"
    },
    {
     "data": {
      "text/plain": [
       "                   Mean  Volatility  Sharpe  VaR (0.05)\n",
       "Tangent Weights  0.0624      0.0582  1.0722     -0.0244"
      ],
      "text/html": [
       "<div>\n",
       "<style scoped>\n",
       "    .dataframe tbody tr th:only-of-type {\n",
       "        vertical-align: middle;\n",
       "    }\n",
       "\n",
       "    .dataframe tbody tr th {\n",
       "        vertical-align: top;\n",
       "    }\n",
       "\n",
       "    .dataframe thead th {\n",
       "        text-align: right;\n",
       "    }\n",
       "</style>\n",
       "<table border=\"1\" class=\"dataframe\">\n",
       "  <thead>\n",
       "    <tr style=\"text-align: right;\">\n",
       "      <th></th>\n",
       "      <th>Mean</th>\n",
       "      <th>Volatility</th>\n",
       "      <th>Sharpe</th>\n",
       "      <th>VaR (0.05)</th>\n",
       "    </tr>\n",
       "  </thead>\n",
       "  <tbody>\n",
       "    <tr>\n",
       "      <th>Tangent Weights</th>\n",
       "      <td>0.0624</td>\n",
       "      <td>0.0582</td>\n",
       "      <td>1.0722</td>\n",
       "      <td>-0.0244</td>\n",
       "    </tr>\n",
       "  </tbody>\n",
       "</table>\n",
       "</div>"
      ]
     },
     "metadata": {},
     "output_type": "display_data"
    }
   ],
   "execution_count": 70
  },
  {
   "cell_type": "markdown",
   "id": "32d6cc36",
   "metadata": {},
   "source": [
    "### 2.7.\n",
    "\n",
    "Based on the hedge fund's beliefs, would you prefer to use the ETF-based tangency or the factor-based tangency portfolio? Explain your reasoning. Note that you should answer based on broad principles and not on the particular estimation results."
   ]
  },
  {
   "metadata": {},
   "cell_type": "markdown",
   "source": "I would prefer to use the ETF-based tangency because this approach uses a wide variety of test assets to capture systematic risk, whereas the factor-based tangency portfolio uses four factors, albeit they have low correlation. Additionally, the factor based tangency portfolio cannot be traded (unless using replica univariate factor ETFs) whereas the ETFs are tradeable assets.",
   "id": "b33556c6e89c84ce"
  },
  {
   "cell_type": "markdown",
   "id": "0a8eda25",
   "metadata": {},
   "source": [
    "***"
   ]
  },
  {
   "cell_type": "markdown",
   "id": "51ff849e",
   "metadata": {
    "vscode": {
     "languageId": "plaintext"
    }
   },
   "source": [
    "# 3. Long-Run Returns\n",
    "\n",
    "For this question, use only the sheet `factors excess returns`.\n",
    "\n",
    "Suppose we want to measure the long run returns of various pricing factors."
   ]
  },
  {
   "cell_type": "markdown",
   "id": "4be343b9",
   "metadata": {
    "vscode": {
     "languageId": "plaintext"
    }
   },
   "source": [
    "### 3.1.\n",
    "\n",
    "Turn the data into log returns.\n",
    "- Display the first 5 rows of the data.\n",
    "\n",
    "Using these log returns, report the **annualized**\n",
    "* mean\n",
    "* vol\n",
    "* Sharpe\n",
    "\n",
    "### 3.2.\n",
    "\n",
    "Consider 15-year cumulative log excess returns. Following the assumptions and modeling of Lecture 6, report the following 15-year stats:\n",
    "- mean\n",
    "- vol\n",
    "- Sharpe\n",
    "\n",
    "How do they compare to the estimated stats (1-year horizon) in `3.1`? "
   ]
  },
  {
   "metadata": {
    "ExecuteTime": {
     "end_time": "2024-11-12T00:48:45.585701Z",
     "start_time": "2024-11-12T00:48:45.530982Z"
    }
   },
   "cell_type": "code",
   "source": [
    "# factor log returns\n",
    "fact_log_ret = factors.apply(lambda x: np.log(1 + x))\n",
    "print(\"Log returns of factors:\")\n",
    "display(fact_log_ret.head(5))\n",
    "\n",
    "# summary stats annualized\n",
    "print(\"Log return summary stats:\")\n",
    "display(helper_funcs.summary_stats(fact_log_ret).iloc[:,0:3])\n",
    "\n",
    "# 15-year rolling cumulative returns\n",
    "rolling_window = 15 * 12  # 15 years * 12 months\n",
    "cum_log_ret = fact_log_ret.rolling(window=rolling_window).sum()\n",
    "print(\"15-year cumulative log return\")\n",
    "display(helper_funcs.summary_stats(cum_log_ret).iloc[:,0:3])"
   ],
   "id": "d41606638f2da97",
   "outputs": [
    {
     "name": "stdout",
     "output_type": "stream",
     "text": [
      "Log returns of factors:\n"
     ]
    },
    {
     "data": {
      "text/plain": [
       "                 MKT       HML       RMW       UMD\n",
       "date                                              \n",
       "1980-01-01  0.053636  0.017349 -0.017146  0.072786\n",
       "1980-02-01 -0.012275  0.006081  0.000400  0.075849\n",
       "1980-03-01 -0.138113 -0.010151  0.014494 -0.100373\n",
       "1980-04-01  0.038932  0.010544 -0.021224 -0.004309\n",
       "1980-05-01  0.051263  0.003793  0.003394 -0.011263"
      ],
      "text/html": [
       "<div>\n",
       "<style scoped>\n",
       "    .dataframe tbody tr th:only-of-type {\n",
       "        vertical-align: middle;\n",
       "    }\n",
       "\n",
       "    .dataframe tbody tr th {\n",
       "        vertical-align: top;\n",
       "    }\n",
       "\n",
       "    .dataframe thead th {\n",
       "        text-align: right;\n",
       "    }\n",
       "</style>\n",
       "<table border=\"1\" class=\"dataframe\">\n",
       "  <thead>\n",
       "    <tr style=\"text-align: right;\">\n",
       "      <th></th>\n",
       "      <th>MKT</th>\n",
       "      <th>HML</th>\n",
       "      <th>RMW</th>\n",
       "      <th>UMD</th>\n",
       "    </tr>\n",
       "    <tr>\n",
       "      <th>date</th>\n",
       "      <th></th>\n",
       "      <th></th>\n",
       "      <th></th>\n",
       "      <th></th>\n",
       "    </tr>\n",
       "  </thead>\n",
       "  <tbody>\n",
       "    <tr>\n",
       "      <th>1980-01-01</th>\n",
       "      <td>0.053636</td>\n",
       "      <td>0.017349</td>\n",
       "      <td>-0.017146</td>\n",
       "      <td>0.072786</td>\n",
       "    </tr>\n",
       "    <tr>\n",
       "      <th>1980-02-01</th>\n",
       "      <td>-0.012275</td>\n",
       "      <td>0.006081</td>\n",
       "      <td>0.000400</td>\n",
       "      <td>0.075849</td>\n",
       "    </tr>\n",
       "    <tr>\n",
       "      <th>1980-03-01</th>\n",
       "      <td>-0.138113</td>\n",
       "      <td>-0.010151</td>\n",
       "      <td>0.014494</td>\n",
       "      <td>-0.100373</td>\n",
       "    </tr>\n",
       "    <tr>\n",
       "      <th>1980-04-01</th>\n",
       "      <td>0.038932</td>\n",
       "      <td>0.010544</td>\n",
       "      <td>-0.021224</td>\n",
       "      <td>-0.004309</td>\n",
       "    </tr>\n",
       "    <tr>\n",
       "      <th>1980-05-01</th>\n",
       "      <td>0.051263</td>\n",
       "      <td>0.003793</td>\n",
       "      <td>0.003394</td>\n",
       "      <td>-0.011263</td>\n",
       "    </tr>\n",
       "  </tbody>\n",
       "</table>\n",
       "</div>"
      ]
     },
     "metadata": {},
     "output_type": "display_data"
    },
    {
     "name": "stdout",
     "output_type": "stream",
     "text": [
      "Log return summary stats:\n"
     ]
    },
    {
     "data": {
      "text/plain": [
       "       Mean  Volatility  Sharpe\n",
       "MKT  0.0735      0.1588  0.4628\n",
       "HML  0.0198      0.1098  0.1803\n",
       "RMW  0.0435      0.0836  0.5203\n",
       "UMD  0.0501      0.1604  0.3123"
      ],
      "text/html": [
       "<div>\n",
       "<style scoped>\n",
       "    .dataframe tbody tr th:only-of-type {\n",
       "        vertical-align: middle;\n",
       "    }\n",
       "\n",
       "    .dataframe tbody tr th {\n",
       "        vertical-align: top;\n",
       "    }\n",
       "\n",
       "    .dataframe thead th {\n",
       "        text-align: right;\n",
       "    }\n",
       "</style>\n",
       "<table border=\"1\" class=\"dataframe\">\n",
       "  <thead>\n",
       "    <tr style=\"text-align: right;\">\n",
       "      <th></th>\n",
       "      <th>Mean</th>\n",
       "      <th>Volatility</th>\n",
       "      <th>Sharpe</th>\n",
       "    </tr>\n",
       "  </thead>\n",
       "  <tbody>\n",
       "    <tr>\n",
       "      <th>MKT</th>\n",
       "      <td>0.0735</td>\n",
       "      <td>0.1588</td>\n",
       "      <td>0.4628</td>\n",
       "    </tr>\n",
       "    <tr>\n",
       "      <th>HML</th>\n",
       "      <td>0.0198</td>\n",
       "      <td>0.1098</td>\n",
       "      <td>0.1803</td>\n",
       "    </tr>\n",
       "    <tr>\n",
       "      <th>RMW</th>\n",
       "      <td>0.0435</td>\n",
       "      <td>0.0836</td>\n",
       "      <td>0.5203</td>\n",
       "    </tr>\n",
       "    <tr>\n",
       "      <th>UMD</th>\n",
       "      <td>0.0501</td>\n",
       "      <td>0.1604</td>\n",
       "      <td>0.3123</td>\n",
       "    </tr>\n",
       "  </tbody>\n",
       "</table>\n",
       "</div>"
      ]
     },
     "metadata": {},
     "output_type": "display_data"
    },
    {
     "name": "stdout",
     "output_type": "stream",
     "text": [
      "15-year cumulative log return\n"
     ]
    },
    {
     "data": {
      "text/plain": [
       "        Mean  Volatility   Sharpe\n",
       "MKT  11.9712      1.3738   8.7139\n",
       "HML   3.7910      1.5158   2.5010\n",
       "RMW   7.4191      0.5232  14.1802\n",
       "UMD   8.8978      2.5285   3.5190"
      ],
      "text/html": [
       "<div>\n",
       "<style scoped>\n",
       "    .dataframe tbody tr th:only-of-type {\n",
       "        vertical-align: middle;\n",
       "    }\n",
       "\n",
       "    .dataframe tbody tr th {\n",
       "        vertical-align: top;\n",
       "    }\n",
       "\n",
       "    .dataframe thead th {\n",
       "        text-align: right;\n",
       "    }\n",
       "</style>\n",
       "<table border=\"1\" class=\"dataframe\">\n",
       "  <thead>\n",
       "    <tr style=\"text-align: right;\">\n",
       "      <th></th>\n",
       "      <th>Mean</th>\n",
       "      <th>Volatility</th>\n",
       "      <th>Sharpe</th>\n",
       "    </tr>\n",
       "  </thead>\n",
       "  <tbody>\n",
       "    <tr>\n",
       "      <th>MKT</th>\n",
       "      <td>11.9712</td>\n",
       "      <td>1.3738</td>\n",
       "      <td>8.7139</td>\n",
       "    </tr>\n",
       "    <tr>\n",
       "      <th>HML</th>\n",
       "      <td>3.7910</td>\n",
       "      <td>1.5158</td>\n",
       "      <td>2.5010</td>\n",
       "    </tr>\n",
       "    <tr>\n",
       "      <th>RMW</th>\n",
       "      <td>7.4191</td>\n",
       "      <td>0.5232</td>\n",
       "      <td>14.1802</td>\n",
       "    </tr>\n",
       "    <tr>\n",
       "      <th>UMD</th>\n",
       "      <td>8.8978</td>\n",
       "      <td>2.5285</td>\n",
       "      <td>3.5190</td>\n",
       "    </tr>\n",
       "  </tbody>\n",
       "</table>\n",
       "</div>"
      ]
     },
     "metadata": {},
     "output_type": "display_data"
    }
   ],
   "execution_count": 35
  },
  {
   "metadata": {},
   "cell_type": "markdown",
   "source": "Compared to the 1-year log returns, the 15-year cumulative log returns are slighly more volatile but with better Sharpe ratios, which makes sense as the variance and SR of cumulative returns grows as a function of the horizon. The mean returns are much larger than the one-period returns, by more than 15x times, which demonstrates the power of compounding returns (even though means scale linearly with horizon).",
   "id": "e4c5bc8a8e2f5923"
  },
  {
   "cell_type": "markdown",
   "id": "3181ba0c",
   "metadata": {
    "vscode": {
     "languageId": "plaintext"
    }
   },
   "source": [
    "### 3.3.\n",
    "\n",
    "What is the probability that momentum factor has a negative mean excess return over the next \n",
    "* single period?\n",
    "* 15 years?"
   ]
  },
  {
   "metadata": {
    "ExecuteTime": {
     "end_time": "2024-11-12T00:57:11.448658Z",
     "start_time": "2024-11-12T00:57:11.428646Z"
    }
   },
   "cell_type": "code",
   "source": [
    "# Probability that '0' will outperform UMD in next 1 month, 15 years\n",
    "spread = - fact_log_ret['UMD']\n",
    "mu, sigma = spread.mean() * 12, spread.std() * np.sqrt(12)\n",
    "prob_1m = norm.cdf(np.sqrt(1) * mu / sigma)\n",
    "prob_15y = norm.cdf(np.sqrt(15 * 12) * mu / sigma)\n",
    "print(f'Probability that UMD will have negative mean excess return in\\n'\n",
    "      f'1-month: {round(prob_1m, 4)}\\n'\n",
    "      f'15-years: {round(prob_15y, 4)}')"
   ],
   "id": "5d5a5d5cad5e4c47",
   "outputs": [
    {
     "name": "stdout",
     "output_type": "stream",
     "text": [
      "Probability that UMD will have negative mean excess return in\n",
      "1-month: 0.3774\n",
      "15-years: 0.0\n"
     ]
    }
   ],
   "execution_count": 39
  },
  {
   "cell_type": "markdown",
   "id": "a137b86c",
   "metadata": {
    "vscode": {
     "languageId": "plaintext"
    }
   },
   "source": [
    "### 3.4.\n",
    "\n",
    "Recall from the case that momentum has been underperforming since 2009. \n",
    "\n",
    "Using data from 2009 to present, what is the probability that momentum *outperforms* the market factor over the next\n",
    "* period?\n",
    "* 15 years?"
   ]
  },
  {
   "metadata": {
    "ExecuteTime": {
     "end_time": "2024-11-12T00:57:17.690973Z",
     "start_time": "2024-11-12T00:57:17.664229Z"
    }
   },
   "cell_type": "code",
   "source": [
    "# Probability that UMD will outperform MKT in next 1 month, 15 years\n",
    "spread = fact_log_ret['UMD'] - fact_log_ret['MKT']\n",
    "mu, sigma = spread.mean() * 12, spread.std() * np.sqrt(12)\n",
    "prob_1m = norm.cdf(np.sqrt(1) * mu / sigma)\n",
    "prob_15y = norm.cdf(np.sqrt(15*12) * mu / sigma)\n",
    "print(f'Probability that UMD will outperform MKT in\\n'\n",
    "      f'1-month: {round(prob_1m,4)}\\n'\n",
    "      f'15-years: {round(prob_15y,4)}')"
   ],
   "id": "a84b1f81d6732dd4",
   "outputs": [
    {
     "name": "stdout",
     "output_type": "stream",
     "text": [
      "Probability that UMD will outperform MKT in\n",
      "1-month: 0.4618\n",
      "15-years: 0.099\n"
     ]
    }
   ],
   "execution_count": 40
  },
  {
   "cell_type": "markdown",
   "id": "5678bc07",
   "metadata": {
    "vscode": {
     "languageId": "plaintext"
    }
   },
   "source": [
    "### 3.5.\n",
    "Conceptually, why is there such a discrepancy between this probability for 1 period vs. 15 years?\n",
    "\n",
    "What assumption about the log-returns are we making when we use this technique to estimate underperformance?"
   ]
  },
  {
   "metadata": {},
   "cell_type": "markdown",
   "source": "We assume that log-returns are IID and normally-distributed in order to apply the CLT and use the standard normal CDF. There is a discrepancy between the 1-month and 15-year probability because at a short time horizon, 'anything' can happen as the series have considerable variances. However, over the long run (15 years), the series converge to their true annual mean return, which we are implicitly assuming is their historical mean.",
   "id": "c09c06a691e8b353"
  },
  {
   "cell_type": "markdown",
   "id": "868f33b7",
   "metadata": {},
   "source": [
    "### 3.6.\n",
    "\n",
    "Using your previous answers, explain what is meant by time diversification."
   ]
  },
  {
   "metadata": {},
   "cell_type": "markdown",
   "source": "Time diversification is the idea that mean annualized return becomes riskless for large investment horizons, as investments converge to their true annual mean return in the long run.",
   "id": "6dfa0bf584a8e01a"
  },
  {
   "cell_type": "markdown",
   "id": "b5080207",
   "metadata": {
    "vscode": {
     "languageId": "plaintext"
    }
   },
   "source": [
    "### 3.7.\n",
    "\n",
    "Is the probability that `HML` and `UMD` both have negative cumulative returns over the next year higher or lower than the probability that `HML` and `MKT` both have negative cumulative returns over the next year?\n",
    "\n",
    "Answer conceptually, but specifically. (No need to calculate the specific probabilities.)"
   ]
  },
  {
   "metadata": {},
   "cell_type": "markdown",
   "source": "This question asks if UMD or MKT are more likely to have negative cumulative reutrns over the next year. UMD is more likely to because it is **slightly** closer to zero in the z-score sense, as it has a smaller mean and a comparable volatility to MKT (see 3.1). Once again, this is a small investment horizon so anything could happen.",
   "id": "80a8d25ffcbf77af"
  },
  {
   "cell_type": "markdown",
   "id": "d6cf51ec",
   "metadata": {
    "vscode": {
     "languageId": "plaintext"
    }
   },
   "source": [
    "***"
   ]
  }
 ],
 "metadata": {
  "hide_input": false,
  "kernelspec": {
   "display_name": "Python 3 (ipykernel)",
   "language": "python",
   "name": "python3"
  },
  "language_info": {
   "codemirror_mode": {
    "name": "ipython",
    "version": 3
   },
   "file_extension": ".py",
   "mimetype": "text/x-python",
   "name": "python",
   "nbconvert_exporter": "python",
   "pygments_lexer": "ipython3",
   "version": "3.9.6"
  }
 },
 "nbformat": 4,
 "nbformat_minor": 5
}
